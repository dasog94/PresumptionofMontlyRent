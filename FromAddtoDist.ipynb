{
 "cells": [
  {
   "cell_type": "markdown",
   "metadata": {
    "id": "fHQ_QtXHjGEm"
   },
   "source": [
    "# Libs "
   ]
  },
  {
   "cell_type": "code",
   "execution_count": 2,
   "metadata": {
    "id": "3QSs2IuBiOJL"
   },
   "outputs": [],
   "source": [
    "import urllib.request\n",
    "import urllib.parse\n",
    "import pandas as pd\n",
    "import numpy as np\n",
    "import ast\n",
    "from haversine import haversine"
   ]
  },
  {
   "cell_type": "markdown",
   "metadata": {
    "id": "iZLSqUczkrtD"
   },
   "source": [
    "# Data"
   ]
  },
  {
   "cell_type": "code",
   "execution_count": 3,
   "metadata": {
    "id": "Rwe7T6hKuB_z"
   },
   "outputs": [],
   "source": [
    "f = open(\"files/keys.txt\", 'r')\n",
    "Api_Key = f.readline()\n",
    "f.close()"
   ]
  },
  {
   "cell_type": "markdown",
   "metadata": {
    "id": "1PwrUgTXljWJ"
   },
   "source": [
    "도로명 주소 이용"
   ]
  },
  {
   "cell_type": "code",
   "execution_count": 20,
   "metadata": {
    "id": "JQ339z1WlmhI"
   },
   "outputs": [],
   "source": [
    "#성균관대주소, 혜화역 주소, 한성대역 주소\n",
    "SKKU_Address = '종로구 성균관로 25-2'\n",
    "St_Hyehwa_Address = '종로구 대학로 122' #'대학로 지하 120'\n",
    "St_Hansung_Address = '성북구 삼선교로 지하 1'"
   ]
  },
  {
   "cell_type": "code",
   "execution_count": 5,
   "metadata": {
    "id": "SHGKCgVJkrTb"
   },
   "outputs": [],
   "source": [
    "df = pd.read_csv('files/Merged_data.csv', encoding='CP949')\n",
    "df = df.reindex(columns = df.columns.tolist() + [\"위도\",\"경도\",'학교까지_거리','혜화역까지_거리','한성대역까지_거리'])"
   ]
  },
  {
   "cell_type": "markdown",
   "metadata": {
    "id": "Wqfw5K_RjKXC"
   },
   "source": [
    "# From Address to Longitude&Latitude"
   ]
  },
  {
   "cell_type": "code",
   "execution_count": 6,
   "metadata": {
    "id": "_-AD-23OiYRM"
   },
   "outputs": [],
   "source": [
    "def Find_Longitude_Latitude(address):\n",
    "  apiUrl = 'http://api.vworld.kr/req/address?service=address&request=getCoord&key='+Api_Key+'&'\n",
    "  values = { 'address':address, 'type':'ROAD' }\n",
    "  param = urllib.parse.urlencode(values)\n",
    "  Adding = apiUrl+param\n",
    "\n",
    "#   headers = {'User-Agent' : 'Chrome/87.0.4280.88'}\n",
    "  req = urllib.request.Request(Adding)\n",
    "  res = urllib.request.urlopen(req)\n",
    "\n",
    "  respon_data = res.read().decode()\n",
    "\n",
    "  DataDict = ast.literal_eval(respon_data)\n",
    "  \n",
    "  v_check = DataDict['response']['status']\n",
    "\n",
    "  if v_check == 'NOT_FOUND' :\n",
    "    return np.nan, np.nan\n",
    "  \n",
    "  else:\n",
    "    longtitude = DataDict['response']['result']['point']['x']\n",
    "    latitude = DataDict['response']['result']['point']['y']\n",
    "\n",
    "    return latitude, longtitude"
   ]
  },
  {
   "cell_type": "code",
   "execution_count": 17,
   "metadata": {
    "colab": {
     "base_uri": "https://localhost:8080/",
     "height": 630
    },
    "id": "f_gscDrHEubR",
    "outputId": "013eb8e3-347f-479d-b854-9ff0b990c9cb"
   },
   "outputs": [],
   "source": [
    "#3 point value\n",
    "loc_SKKU = tuple(map(float, Find_Longitude_Latitude(SKKU_Address)))\n",
    "loc_Hyehwa_Stn = tuple(map(float, Find_Longitude_Latitude(St_Hyehwa_Address)))\n",
    "loc_Hansung_Stn = tuple(map(float, Find_Longitude_Latitude(St_Hansung_Address)))"
   ]
  },
  {
   "cell_type": "code",
   "execution_count": 11,
   "metadata": {},
   "outputs": [],
   "source": [
    "for i in range(len(df)):\n",
    "    df.loc[i, '위도'], df.loc[i, '경도'] = tuple(map(float, Find_Longitude_Latitude(df.loc[i, '도로명'])))"
   ]
  },
  {
   "cell_type": "markdown",
   "metadata": {
    "id": "n6QhcXj8kfDh"
   },
   "source": [
    "# From Longitude&Latitude to Distance"
   ]
  },
  {
   "cell_type": "code",
   "execution_count": 18,
   "metadata": {},
   "outputs": [],
   "source": [
    "for i in range(len(df)):\n",
    "    start = (float(df.loc[i, '위도']), float(df.loc[i, '경도']))\n",
    "    df.loc[i, '학교까지_거리'] = haversine(start, loc_SKKU, unit = 'm') # (lat, lon)\n",
    "    df.loc[i, '혜화역까지_거리'] = haversine(start, loc_Hyehwa_Stn, unit = 'm')\n",
    "    df.loc[i, '한성대역까지_거리'] = haversine(start, loc_Hansung_Stn, unit = 'm')"
   ]
  },
  {
   "cell_type": "code",
   "execution_count": 19,
   "metadata": {},
   "outputs": [
    {
     "data": {
      "text/html": [
       "<div>\n",
       "<style scoped>\n",
       "    .dataframe tbody tr th:only-of-type {\n",
       "        vertical-align: middle;\n",
       "    }\n",
       "\n",
       "    .dataframe tbody tr th {\n",
       "        vertical-align: top;\n",
       "    }\n",
       "\n",
       "    .dataframe thead th {\n",
       "        text-align: right;\n",
       "    }\n",
       "</style>\n",
       "<table border=\"1\" class=\"dataframe\">\n",
       "  <thead>\n",
       "    <tr style=\"text-align: right;\">\n",
       "      <th></th>\n",
       "      <th>건물명</th>\n",
       "      <th>건축년도</th>\n",
       "      <th>계약년월</th>\n",
       "      <th>계약일</th>\n",
       "      <th>단지명</th>\n",
       "      <th>도로명</th>\n",
       "      <th>지번</th>\n",
       "      <th>보증금(만원)</th>\n",
       "      <th>보증금-&gt;월세</th>\n",
       "      <th>본번</th>\n",
       "      <th>...</th>\n",
       "      <th>건물식별번호</th>\n",
       "      <th>건물연령</th>\n",
       "      <th>공동주택명</th>\n",
       "      <th>공시가격</th>\n",
       "      <th>데이터기준일자</th>\n",
       "      <th>위도</th>\n",
       "      <th>경도</th>\n",
       "      <th>학교까지_거리</th>\n",
       "      <th>혜화역까지_거리</th>\n",
       "      <th>한성대역까지_거리</th>\n",
       "    </tr>\n",
       "  </thead>\n",
       "  <tbody>\n",
       "    <tr>\n",
       "      <th>0</th>\n",
       "      <td>NaN</td>\n",
       "      <td>1999</td>\n",
       "      <td>201804</td>\n",
       "      <td>13</td>\n",
       "      <td>동성아파트(1동)</td>\n",
       "      <td>동숭4라길 29</td>\n",
       "      <td>4-161</td>\n",
       "      <td>20000.0</td>\n",
       "      <td>66.666667</td>\n",
       "      <td>4</td>\n",
       "      <td>...</td>\n",
       "      <td>24809.0</td>\n",
       "      <td>22.0</td>\n",
       "      <td>동성아파트(1동)</td>\n",
       "      <td>162000000.0</td>\n",
       "      <td>2020-07-27</td>\n",
       "      <td>37.583375</td>\n",
       "      <td>127.006271</td>\n",
       "      <td>1235.880709</td>\n",
       "      <td>378.810239</td>\n",
       "      <td>559.530861</td>\n",
       "    </tr>\n",
       "    <tr>\n",
       "      <th>1</th>\n",
       "      <td>NaN</td>\n",
       "      <td>1999</td>\n",
       "      <td>201910</td>\n",
       "      <td>18</td>\n",
       "      <td>동성아파트(2동)</td>\n",
       "      <td>동숭4라길 27</td>\n",
       "      <td>4-157</td>\n",
       "      <td>22000.0</td>\n",
       "      <td>73.333333</td>\n",
       "      <td>4</td>\n",
       "      <td>...</td>\n",
       "      <td>29649.0</td>\n",
       "      <td>22.0</td>\n",
       "      <td>동성아파트(2동)</td>\n",
       "      <td>158000000.0</td>\n",
       "      <td>2020-07-27</td>\n",
       "      <td>37.583500</td>\n",
       "      <td>127.006149</td>\n",
       "      <td>1221.044377</td>\n",
       "      <td>373.985483</td>\n",
       "      <td>545.305534</td>\n",
       "    </tr>\n",
       "    <tr>\n",
       "      <th>2</th>\n",
       "      <td>(129-23)</td>\n",
       "      <td>1997</td>\n",
       "      <td>201806</td>\n",
       "      <td>2</td>\n",
       "      <td>NaN</td>\n",
       "      <td>동숭4나길 28-1</td>\n",
       "      <td>129-23</td>\n",
       "      <td>13000.0</td>\n",
       "      <td>43.333333</td>\n",
       "      <td>129</td>\n",
       "      <td>...</td>\n",
       "      <td>17641.0</td>\n",
       "      <td>24.0</td>\n",
       "      <td>(129-23)</td>\n",
       "      <td>122000000.0</td>\n",
       "      <td>2020-07-27</td>\n",
       "      <td>37.583036</td>\n",
       "      <td>127.005743</td>\n",
       "      <td>1206.473960</td>\n",
       "      <td>322.626687</td>\n",
       "      <td>597.085546</td>\n",
       "    </tr>\n",
       "    <tr>\n",
       "      <th>3</th>\n",
       "      <td>(129-24)</td>\n",
       "      <td>1997</td>\n",
       "      <td>201712</td>\n",
       "      <td>9</td>\n",
       "      <td>NaN</td>\n",
       "      <td>동숭4나길 28</td>\n",
       "      <td>129-24</td>\n",
       "      <td>14000.0</td>\n",
       "      <td>46.666667</td>\n",
       "      <td>129</td>\n",
       "      <td>...</td>\n",
       "      <td>22280.0</td>\n",
       "      <td>24.0</td>\n",
       "      <td>(129-24)</td>\n",
       "      <td>98500000.0</td>\n",
       "      <td>2020-07-27</td>\n",
       "      <td>37.583045</td>\n",
       "      <td>127.005632</td>\n",
       "      <td>1197.013260</td>\n",
       "      <td>313.528991</td>\n",
       "      <td>596.535653</td>\n",
       "    </tr>\n",
       "    <tr>\n",
       "      <th>4</th>\n",
       "      <td>(129-74)</td>\n",
       "      <td>1994</td>\n",
       "      <td>201802</td>\n",
       "      <td>20</td>\n",
       "      <td>NaN</td>\n",
       "      <td>낙산1길 22-1</td>\n",
       "      <td>129-74</td>\n",
       "      <td>25000.0</td>\n",
       "      <td>83.333333</td>\n",
       "      <td>129</td>\n",
       "      <td>...</td>\n",
       "      <td>10769.0</td>\n",
       "      <td>27.0</td>\n",
       "      <td>(129-74)</td>\n",
       "      <td>136000000.0</td>\n",
       "      <td>2020-07-27</td>\n",
       "      <td>37.581118</td>\n",
       "      <td>127.005861</td>\n",
       "      <td>1312.654556</td>\n",
       "      <td>339.899030</td>\n",
       "      <td>810.031517</td>\n",
       "    </tr>\n",
       "    <tr>\n",
       "      <th>5</th>\n",
       "      <td>(129-74)</td>\n",
       "      <td>1994</td>\n",
       "      <td>201803</td>\n",
       "      <td>26</td>\n",
       "      <td>NaN</td>\n",
       "      <td>낙산1길 22-1</td>\n",
       "      <td>129-74</td>\n",
       "      <td>20000.0</td>\n",
       "      <td>66.666667</td>\n",
       "      <td>129</td>\n",
       "      <td>...</td>\n",
       "      <td>10769.0</td>\n",
       "      <td>27.0</td>\n",
       "      <td>(129-74)</td>\n",
       "      <td>80700000.0</td>\n",
       "      <td>2020-07-27</td>\n",
       "      <td>37.581118</td>\n",
       "      <td>127.005861</td>\n",
       "      <td>1312.654556</td>\n",
       "      <td>339.899030</td>\n",
       "      <td>810.031517</td>\n",
       "    </tr>\n",
       "    <tr>\n",
       "      <th>6</th>\n",
       "      <td>(129-74)</td>\n",
       "      <td>1994</td>\n",
       "      <td>201807</td>\n",
       "      <td>28</td>\n",
       "      <td>NaN</td>\n",
       "      <td>낙산1길 22-1</td>\n",
       "      <td>129-74</td>\n",
       "      <td>33000.0</td>\n",
       "      <td>110.000000</td>\n",
       "      <td>129</td>\n",
       "      <td>...</td>\n",
       "      <td>10769.0</td>\n",
       "      <td>27.0</td>\n",
       "      <td>(129-74)</td>\n",
       "      <td>136000000.0</td>\n",
       "      <td>2020-07-27</td>\n",
       "      <td>37.581118</td>\n",
       "      <td>127.005861</td>\n",
       "      <td>1312.654556</td>\n",
       "      <td>339.899030</td>\n",
       "      <td>810.031517</td>\n",
       "    </tr>\n",
       "    <tr>\n",
       "      <th>7</th>\n",
       "      <td>(130-7)</td>\n",
       "      <td>2014</td>\n",
       "      <td>201806</td>\n",
       "      <td>27</td>\n",
       "      <td>NaN</td>\n",
       "      <td>동숭2길 13-3</td>\n",
       "      <td>130-7</td>\n",
       "      <td>1000.0</td>\n",
       "      <td>48.333333</td>\n",
       "      <td>130</td>\n",
       "      <td>...</td>\n",
       "      <td>NaN</td>\n",
       "      <td>NaN</td>\n",
       "      <td>(130-7)</td>\n",
       "      <td>61400000.0</td>\n",
       "      <td>2020-07-27</td>\n",
       "      <td>37.581068</td>\n",
       "      <td>127.005069</td>\n",
       "      <td>1256.475426</td>\n",
       "      <td>277.959329</td>\n",
       "      <td>819.514180</td>\n",
       "    </tr>\n",
       "    <tr>\n",
       "      <th>8</th>\n",
       "      <td>(14-2)</td>\n",
       "      <td>1998</td>\n",
       "      <td>201801</td>\n",
       "      <td>24</td>\n",
       "      <td>NaN</td>\n",
       "      <td>동숭4나길 5</td>\n",
       "      <td>14-2</td>\n",
       "      <td>7000.0</td>\n",
       "      <td>48.333333</td>\n",
       "      <td>14</td>\n",
       "      <td>...</td>\n",
       "      <td>10902.0</td>\n",
       "      <td>23.0</td>\n",
       "      <td>(14-2)</td>\n",
       "      <td>62500000.0</td>\n",
       "      <td>2020-07-27</td>\n",
       "      <td>37.583173</td>\n",
       "      <td>127.004496</td>\n",
       "      <td>1099.579313</td>\n",
       "      <td>226.983207</td>\n",
       "      <td>596.110922</td>\n",
       "    </tr>\n",
       "    <tr>\n",
       "      <th>9</th>\n",
       "      <td>(14-2)</td>\n",
       "      <td>1998</td>\n",
       "      <td>201808</td>\n",
       "      <td>2</td>\n",
       "      <td>NaN</td>\n",
       "      <td>동숭4나길 5</td>\n",
       "      <td>14-2</td>\n",
       "      <td>9000.0</td>\n",
       "      <td>40.000000</td>\n",
       "      <td>14</td>\n",
       "      <td>...</td>\n",
       "      <td>10902.0</td>\n",
       "      <td>23.0</td>\n",
       "      <td>(14-2)</td>\n",
       "      <td>62500000.0</td>\n",
       "      <td>2020-07-27</td>\n",
       "      <td>37.583173</td>\n",
       "      <td>127.004496</td>\n",
       "      <td>1099.579313</td>\n",
       "      <td>226.983207</td>\n",
       "      <td>596.110922</td>\n",
       "    </tr>\n",
       "  </tbody>\n",
       "</table>\n",
       "<p>10 rows × 28 columns</p>\n",
       "</div>"
      ],
      "text/plain": [
       "        건물명  건축년도    계약년월  계약일        단지명         도로명      지번  보증금(만원)  \\\n",
       "0       NaN  1999  201804   13  동성아파트(1동)    동숭4라길 29   4-161  20000.0   \n",
       "1       NaN  1999  201910   18  동성아파트(2동)    동숭4라길 27   4-157  22000.0   \n",
       "2  (129-23)  1997  201806    2        NaN  동숭4나길 28-1  129-23  13000.0   \n",
       "3  (129-24)  1997  201712    9        NaN    동숭4나길 28  129-24  14000.0   \n",
       "4  (129-74)  1994  201802   20        NaN   낙산1길 22-1  129-74  25000.0   \n",
       "5  (129-74)  1994  201803   26        NaN   낙산1길 22-1  129-74  20000.0   \n",
       "6  (129-74)  1994  201807   28        NaN   낙산1길 22-1  129-74  33000.0   \n",
       "7   (130-7)  2014  201806   27        NaN   동숭2길 13-3   130-7   1000.0   \n",
       "8    (14-2)  1998  201801   24        NaN     동숭4나길 5    14-2   7000.0   \n",
       "9    (14-2)  1998  201808    2        NaN     동숭4나길 5    14-2   9000.0   \n",
       "\n",
       "      보증금->월세   본번  ...   건물식별번호  건물연령      공동주택명         공시가격     데이터기준일자  \\\n",
       "0   66.666667    4  ...  24809.0  22.0  동성아파트(1동)  162000000.0  2020-07-27   \n",
       "1   73.333333    4  ...  29649.0  22.0  동성아파트(2동)  158000000.0  2020-07-27   \n",
       "2   43.333333  129  ...  17641.0  24.0   (129-23)  122000000.0  2020-07-27   \n",
       "3   46.666667  129  ...  22280.0  24.0   (129-24)   98500000.0  2020-07-27   \n",
       "4   83.333333  129  ...  10769.0  27.0   (129-74)  136000000.0  2020-07-27   \n",
       "5   66.666667  129  ...  10769.0  27.0   (129-74)   80700000.0  2020-07-27   \n",
       "6  110.000000  129  ...  10769.0  27.0   (129-74)  136000000.0  2020-07-27   \n",
       "7   48.333333  130  ...      NaN   NaN    (130-7)   61400000.0  2020-07-27   \n",
       "8   48.333333   14  ...  10902.0  23.0     (14-2)   62500000.0  2020-07-27   \n",
       "9   40.000000   14  ...  10902.0  23.0     (14-2)   62500000.0  2020-07-27   \n",
       "\n",
       "          위도          경도      학교까지_거리    혜화역까지_거리   한성대역까지_거리  \n",
       "0  37.583375  127.006271  1235.880709  378.810239  559.530861  \n",
       "1  37.583500  127.006149  1221.044377  373.985483  545.305534  \n",
       "2  37.583036  127.005743  1206.473960  322.626687  597.085546  \n",
       "3  37.583045  127.005632  1197.013260  313.528991  596.535653  \n",
       "4  37.581118  127.005861  1312.654556  339.899030  810.031517  \n",
       "5  37.581118  127.005861  1312.654556  339.899030  810.031517  \n",
       "6  37.581118  127.005861  1312.654556  339.899030  810.031517  \n",
       "7  37.581068  127.005069  1256.475426  277.959329  819.514180  \n",
       "8  37.583173  127.004496  1099.579313  226.983207  596.110922  \n",
       "9  37.583173  127.004496  1099.579313  226.983207  596.110922  \n",
       "\n",
       "[10 rows x 28 columns]"
      ]
     },
     "execution_count": 19,
     "metadata": {},
     "output_type": "execute_result"
    }
   ],
   "source": [
    "df.head(10)"
   ]
  },
  {
   "cell_type": "code",
   "execution_count": 21,
   "metadata": {},
   "outputs": [],
   "source": [
    "df.to_csv('tmp.csv', index=False, encoding='cp949')"
   ]
  },
  {
   "cell_type": "markdown",
   "metadata": {
    "id": "_kN_2tN1HdjM"
   },
   "source": [
    "# Reference\n",
    "https://stricky.tistory.com/283\n"
   ]
  }
 ],
 "metadata": {
  "colab": {
   "collapsed_sections": [],
   "name": "Copy of FromAddtoDist.ipynb",
   "provenance": []
  },
  "kernelspec": {
   "display_name": "Python 3",
   "language": "python",
   "name": "python3"
  },
  "language_info": {
   "codemirror_mode": {
    "name": "ipython",
    "version": 3
   },
   "file_extension": ".py",
   "mimetype": "text/x-python",
   "name": "python",
   "nbconvert_exporter": "python",
   "pygments_lexer": "ipython3",
   "version": "3.7.6"
  }
 },
 "nbformat": 4,
 "nbformat_minor": 1
}
