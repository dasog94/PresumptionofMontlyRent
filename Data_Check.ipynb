{
  "nbformat": 4,
  "nbformat_minor": 0,
  "metadata": {
    "colab": {
      "name": "Data_Check.ipynb",
      "provenance": [],
      "collapsed_sections": [
        "dBaPft8Hn1Ch"
      ],
      "authorship_tag": "ABX9TyPhDf5eKByv19qaRpNQwq39",
      "include_colab_link": true
    },
    "kernelspec": {
      "name": "python3",
      "display_name": "Python 3"
    }
  },
  "cells": [
    {
      "cell_type": "markdown",
      "metadata": {
        "id": "view-in-github",
        "colab_type": "text"
      },
      "source": [
        "<a href=\"https://colab.research.google.com/github/dasog94/PresumptionofMontlyRent/blob/main/Data_Check.ipynb\" target=\"_parent\"><img src=\"https://colab.research.google.com/assets/colab-badge.svg\" alt=\"Open In Colab\"/></a>"
      ]
    },
    {
      "cell_type": "code",
      "metadata": {
        "colab": {
          "base_uri": "https://localhost:8080/"
        },
        "id": "l5NgypUIV9Lv",
        "outputId": "8dcf604a-462f-4202-8af8-0a7d72d82e44"
      },
      "source": [
        "from google.colab import drive\r\n",
        "drive.mount('/content/gdrive/')"
      ],
      "execution_count": 67,
      "outputs": [
        {
          "output_type": "stream",
          "text": [
            "Drive already mounted at /content/gdrive/; to attempt to forcibly remount, call drive.mount(\"/content/gdrive/\", force_remount=True).\n"
          ],
          "name": "stdout"
        }
      ]
    },
    {
      "cell_type": "markdown",
      "metadata": {
        "id": "dBaPft8Hn1Ch"
      },
      "source": [
        "#한글 글꼴 추가"
      ]
    },
    {
      "cell_type": "code",
      "metadata": {
        "id": "BKtKMcBVi-gn",
        "colab": {
          "base_uri": "https://localhost:8080/"
        },
        "outputId": "905d8305-b080-4ce6-c0db-0a6d3fd813d7"
      },
      "source": [
        "import matplotlib as mpl  # 기본 설정 만지는 용도\r\n",
        "import matplotlib.pyplot as plt  # 그래프 그리는 용도\r\n",
        "import matplotlib.font_manager as fm  # 폰트 관련 용도\r\n",
        "\r\n",
        "# 설치된 폰트 출력\r\n",
        "font_list = [font.name for font in fm.fontManager.ttflist]\r\n",
        "font_list"
      ],
      "execution_count": 2,
      "outputs": [
        {
          "output_type": "execute_result",
          "data": {
            "text/plain": [
              "['STIXSizeOneSym',\n",
              " 'cmtt10',\n",
              " 'cmex10',\n",
              " 'DejaVu Serif',\n",
              " 'cmb10',\n",
              " 'STIXSizeTwoSym',\n",
              " 'DejaVu Sans Mono',\n",
              " 'DejaVu Serif',\n",
              " 'cmsy10',\n",
              " 'STIXSizeThreeSym',\n",
              " 'cmmi10',\n",
              " 'DejaVu Serif Display',\n",
              " 'STIXSizeFourSym',\n",
              " 'DejaVu Sans Mono',\n",
              " 'STIXNonUnicode',\n",
              " 'STIXGeneral',\n",
              " 'DejaVu Sans Mono',\n",
              " 'cmss10',\n",
              " 'DejaVu Sans',\n",
              " 'STIXSizeFiveSym',\n",
              " 'DejaVu Sans',\n",
              " 'STIXNonUnicode',\n",
              " 'STIXNonUnicode',\n",
              " 'DejaVu Sans Mono',\n",
              " 'DejaVu Sans Display',\n",
              " 'DejaVu Sans',\n",
              " 'STIXNonUnicode',\n",
              " 'DejaVu Serif',\n",
              " 'cmr10',\n",
              " 'DejaVu Sans',\n",
              " 'STIXSizeFourSym',\n",
              " 'STIXGeneral',\n",
              " 'STIXSizeOneSym',\n",
              " 'STIXGeneral',\n",
              " 'STIXSizeTwoSym',\n",
              " 'DejaVu Serif',\n",
              " 'STIXSizeThreeSym',\n",
              " 'STIXGeneral',\n",
              " 'NanumBarunGothic',\n",
              " 'NanumMyeongjo Eco',\n",
              " 'NanumGothic',\n",
              " 'NanumMyeongjo',\n",
              " 'Liberation Sans Narrow',\n",
              " 'NanumBarunGothic',\n",
              " 'NanumGothicCoding',\n",
              " 'NanumGothic',\n",
              " 'NanumGothic Eco',\n",
              " 'NanumBarunpen',\n",
              " 'NanumSquareRound',\n",
              " 'Liberation Sans',\n",
              " 'Liberation Sans Narrow',\n",
              " 'NanumSquare',\n",
              " 'NanumSquareRound',\n",
              " 'NanumMyeongjo Eco',\n",
              " 'NanumSquare',\n",
              " 'Liberation Serif',\n",
              " 'NanumMyeongjo',\n",
              " 'NanumBarunpen',\n",
              " 'NanumSquareRound',\n",
              " 'NanumGothic Eco',\n",
              " 'Liberation Mono',\n",
              " 'Nanum Pen Script',\n",
              " 'Humor Sans',\n",
              " 'Liberation Mono',\n",
              " 'Nanum Brush Script',\n",
              " 'NanumMyeongjo Eco',\n",
              " 'Liberation Sans',\n",
              " 'Liberation Sans Narrow',\n",
              " 'NanumSquareRound',\n",
              " 'Liberation Serif',\n",
              " 'Liberation Serif',\n",
              " 'NanumGothicCoding',\n",
              " 'NanumBarunGothic',\n",
              " 'Liberation Mono',\n",
              " 'Liberation Sans',\n",
              " 'NanumSquare',\n",
              " 'NanumBarunGothic',\n",
              " 'Liberation Serif',\n",
              " 'NanumGothic Eco',\n",
              " 'NanumMyeongjo',\n",
              " 'NanumGothic',\n",
              " 'Liberation Mono',\n",
              " 'Liberation Sans',\n",
              " 'NanumSquare',\n",
              " 'NanumGothic',\n",
              " 'Liberation Sans Narrow']"
            ]
          },
          "metadata": {
            "tags": []
          },
          "execution_count": 2
        }
      ]
    },
    {
      "cell_type": "code",
      "metadata": {
        "id": "wNGOzZlZnemr"
      },
      "source": [
        "# 나눔 고딕 설치\r\n",
        "!apt-get update -qq\r\n",
        "!apt-get install fonts-nanum* -qq"
      ],
      "execution_count": 3,
      "outputs": []
    },
    {
      "cell_type": "code",
      "metadata": {
        "colab": {
          "base_uri": "https://localhost:8080/"
        },
        "id": "EaUFU6KGkObb",
        "outputId": "b2952ed7-9a08-44ce-b5f9-63afe5cbbcac"
      },
      "source": [
        "print ('버전: ', mpl.__version__)\r\n",
        "print ('설치 위치: ', mpl.__file__)\r\n",
        "print ('설정 위치: ', mpl.get_configdir())\r\n",
        "print ('캐시 위치: ', mpl.get_cachedir())"
      ],
      "execution_count": 4,
      "outputs": [
        {
          "output_type": "stream",
          "text": [
            "버전:  3.2.2\n",
            "설치 위치:  /usr/local/lib/python3.6/dist-packages/matplotlib/__init__.py\n",
            "설정 위치:  /root/.config/matplotlib\n",
            "캐시 위치:  /root/.cache/matplotlib\n"
          ],
          "name": "stdout"
        }
      ]
    },
    {
      "cell_type": "code",
      "metadata": {
        "colab": {
          "base_uri": "https://localhost:8080/"
        },
        "id": "048Fmt0vk-mB",
        "outputId": "c7cda1d1-f717-4523-ebe8-c2157b5b416e"
      },
      "source": [
        "# 체크해보면 폰트 개수가 늘어났다\r\n",
        "sys_font=fm.findSystemFonts()\r\n",
        "print(f\"sys_font number: {len(sys_font)}\")\r\n",
        "\r\n",
        "nanum_font = [f for f in sys_font if 'Nanum' in f]\r\n",
        "print(f\"nanum_font number: {len(nanum_font)}\")"
      ],
      "execution_count": 5,
      "outputs": [
        {
          "output_type": "stream",
          "text": [
            "sys_font number: 48\n",
            "nanum_font number: 31\n"
          ],
          "name": "stdout"
        }
      ]
    },
    {
      "cell_type": "code",
      "metadata": {
        "id": "qE2457uSlAJC",
        "colab": {
          "base_uri": "https://localhost:8080/"
        },
        "outputId": "58c89b42-0ca0-45f1-feb5-ba555b2f7cd2"
      },
      "source": [
        "# 한번 프린트 해보자\r\n",
        "nanum_font"
      ],
      "execution_count": 6,
      "outputs": [
        {
          "output_type": "execute_result",
          "data": {
            "text/plain": [
              "['/usr/share/fonts/truetype/nanum/NanumBarunGothicBold.ttf',\n",
              " '/usr/share/fonts/truetype/nanum/NanumMyeongjoEco.ttf',\n",
              " '/usr/share/fonts/truetype/nanum/NanumGothicExtraBold.ttf',\n",
              " '/usr/share/fonts/truetype/nanum/NanumMyeongjo.ttf',\n",
              " '/usr/share/fonts/truetype/nanum/NanumBarunGothicUltraLight.ttf',\n",
              " '/usr/share/fonts/truetype/nanum/NanumGothicCoding.ttf',\n",
              " '/usr/share/fonts/truetype/nanum/NanumGothicBold.ttf',\n",
              " '/usr/share/fonts/truetype/nanum/NanumGothicEcoExtraBold.ttf',\n",
              " '/usr/share/fonts/truetype/nanum/NanumBarunpenB.ttf',\n",
              " '/usr/share/fonts/truetype/nanum/NanumSquareRoundEB.ttf',\n",
              " '/usr/share/fonts/truetype/nanum/NanumSquareEB.ttf',\n",
              " '/usr/share/fonts/truetype/nanum/NanumSquareRoundB.ttf',\n",
              " '/usr/share/fonts/truetype/nanum/NanumMyeongjoEcoBold.ttf',\n",
              " '/usr/share/fonts/truetype/nanum/NanumSquareL.ttf',\n",
              " '/usr/share/fonts/truetype/nanum/NanumMyeongjoExtraBold.ttf',\n",
              " '/usr/share/fonts/truetype/nanum/NanumBarunpenR.ttf',\n",
              " '/usr/share/fonts/truetype/nanum/NanumSquareRoundL.ttf',\n",
              " '/usr/share/fonts/truetype/nanum/NanumGothicEcoBold.ttf',\n",
              " '/usr/share/fonts/truetype/nanum/NanumPen.ttf',\n",
              " '/usr/share/fonts/truetype/nanum/NanumBrush.ttf',\n",
              " '/usr/share/fonts/truetype/nanum/NanumMyeongjoEcoExtraBold.ttf',\n",
              " '/usr/share/fonts/truetype/nanum/NanumSquareRoundR.ttf',\n",
              " '/usr/share/fonts/truetype/nanum/NanumGothicCoding-Bold.ttf',\n",
              " '/usr/share/fonts/truetype/nanum/NanumBarunGothic.ttf',\n",
              " '/usr/share/fonts/truetype/nanum/NanumSquareR.ttf',\n",
              " '/usr/share/fonts/truetype/nanum/NanumBarunGothicLight.ttf',\n",
              " '/usr/share/fonts/truetype/nanum/NanumGothicEco.ttf',\n",
              " '/usr/share/fonts/truetype/nanum/NanumMyeongjoBold.ttf',\n",
              " '/usr/share/fonts/truetype/nanum/NanumGothicLight.ttf',\n",
              " '/usr/share/fonts/truetype/nanum/NanumSquareB.ttf',\n",
              " '/usr/share/fonts/truetype/nanum/NanumGothic.ttf']"
            ]
          },
          "metadata": {
            "tags": []
          },
          "execution_count": 6
        }
      ]
    },
    {
      "cell_type": "code",
      "metadata": {
        "colab": {
          "base_uri": "https://localhost:8080/"
        },
        "id": "cEhZyuZFlC3P",
        "outputId": "801dedc5-383d-4992-e9ee-5cf97549fe29"
      },
      "source": [
        "# 현재 설정되어 있는 폰트 사이즈와 글꼴을 알아보자\r\n",
        "!python --version\r\n",
        "def current_font():\r\n",
        "  print(f\"설정 폰트 글꼴: {plt.rcParams['font.family']}, 설정 폰트 사이즈: {plt.rcParams['font.size']}\")  # 파이썬 3.6 이상 사용가능하다\r\n",
        "        \r\n",
        "current_font()"
      ],
      "execution_count": 5,
      "outputs": [
        {
          "output_type": "stream",
          "text": [
            "Python 3.6.9\n",
            "설정 폰트 글꼴: ['NanumGothic Eco'], 설정 폰트 사이즈: 10.0\n"
          ],
          "name": "stdout"
        }
      ]
    },
    {
      "cell_type": "code",
      "metadata": {
        "colab": {
          "base_uri": "https://localhost:8080/"
        },
        "id": "3kDTaMFRlNaH",
        "outputId": "f401de61-edde-4935-da8c-f59f72605cd1"
      },
      "source": [
        "# 설치된 나눔글꼴중 원하는 녀석의 전체 경로를 가져오자\r\n",
        "path = '/usr/share/fonts/truetype/nanum/NanumGothicEco.ttf'  \r\n",
        "font_name = fm.FontProperties(fname=path, size=12).get_name()\r\n",
        "print(font_name)\r\n",
        "plt.rc('font', family=font_name)"
      ],
      "execution_count": 4,
      "outputs": [
        {
          "output_type": "stream",
          "text": [
            "NanumGothic Eco\n"
          ],
          "name": "stdout"
        }
      ]
    },
    {
      "cell_type": "code",
      "metadata": {
        "id": "fa8nJm8plqQk"
      },
      "source": [
        "# fm._rebuild() 를 해주고, 런타임 재시작을 해준다. 그리고 이전 cell을 다시 실행해줘야 설정이 다시 된다.\r\n",
        "fm._rebuild()"
      ],
      "execution_count": 9,
      "outputs": []
    },
    {
      "cell_type": "markdown",
      "metadata": {
        "id": "QOkmspSeckMm"
      },
      "source": [
        "#Libs"
      ]
    },
    {
      "cell_type": "code",
      "metadata": {
        "id": "snIj4d1YYORd"
      },
      "source": [
        "import pandas as pd\r\n",
        "import matplotlib.pyplot as plt\r\n",
        "import seaborn as sns\r\n",
        "import numpy as np\r\n",
        "from scipy.stats import norm\r\n",
        "from sklearn.preprocessing import StandardScaler\r\n",
        "from scipy import stats\r\n",
        "import warnings\r\n",
        "warnings.filterwarnings('ignore')\r\n",
        "%matplotlib inline"
      ],
      "execution_count": 6,
      "outputs": []
    },
    {
      "cell_type": "markdown",
      "metadata": {
        "id": "Uq3_IB2bYsbK"
      },
      "source": [
        "#Load Data"
      ]
    },
    {
      "cell_type": "code",
      "metadata": {
        "id": "g_rOhrwjY5en"
      },
      "source": [
        "#2019-2020\r\n",
        "df = pd.read_csv('/content/gdrive/My Drive/recommend_system/tracer/실거래데이터/단독다가구/adjusted_주변_단독다가구(전월세)_실거래가_20191119_20201118.csv', encoding='CP949')\r\n",
        "# df = pd.read_csv('/content/gdrive/My Drive/recommend_system/tracer/실거래데이터/단독다가구/adjusted_명륜1가_단독다가구(전월세)_실거래가_20191119_20201118.csv', encoding='CP949')\r\n",
        "# df = pd.read_csv('/content/gdrive/My Drive/recommend_system/tracer/실거래데이터/단독다가구/adjusted_성북동1가_단독다가구(전월세)_실거래가_20191119_20201118.csv', encoding='CP949')\r\n",
        "# df = pd.read_csv('/content/gdrive/My Drive/recommend_system/tracer/실거래데이터/단독다가구/adjusted_혜화동_단독다가구(전월세)_실거래가_20191119_20201118.csv', encoding='CP949')\r\n",
        "\r\n",
        "# df = pd.read_csv('/content/gdrive/My Drive/recommend_system/tracer/실거래데이터/연립다세대/adjusted_주변_연립다세대(전월세)_실거래가_20191119_20201118.csv', encoding='CP949')\r\n",
        "# df = pd.read_csv('/content/gdrive/My Drive/recommend_system/tracer/실거래데이터/연립다세대/adjusted_혜화동_연립다세대(전월세)_실거래가_20191119_20201118.csv', encoding='CP949')\r\n",
        "# df = pd.read_csv('/content/gdrive/My Drive/recommend_system/tracer/실거래데이터/연립다세대/adjusted_명륜1가_연립다세대(전월세)_실거래가_20191119_20201118.csv', encoding='CP949')\r\n",
        "\r\n",
        "#2017-2018\r\n",
        "# df = pd.read_csv('/content/gdrive/My Drive/recommend_system/tracer/실거래데이터/단독다가구/adjusted_주변_단독다가구(전월세)_실거래가_20171119_20181118.csv', encoding='CP949')\r\n",
        "\r\n",
        "\r\n",
        "\r\n",
        "\r\n",
        "\r\n"
      ],
      "execution_count": 123,
      "outputs": []
    },
    {
      "cell_type": "markdown",
      "metadata": {
        "id": "plaidel4EZSu"
      },
      "source": [
        "전월세 전환"
      ]
    },
    {
      "cell_type": "code",
      "metadata": {
        "id": "fspr7pJaqb9l"
      },
      "source": [
        "# 2020.05 강북권역 도심권 전월세전환율 \r\n",
        "change_rate = 0.063\r\n",
        "\r\n",
        "df = df.reindex(columns = df.columns.tolist() + ['보증금->월세'])\r\n",
        "for i in range(len(df)):\r\n",
        "  df.loc[i, '보증금(만원)'] = int(df.loc[i, '보증금(만원)'].replace(',', ''))\r\n",
        "  df.loc[i, '보증금->월세'] = df.loc[i, '월세(만원)'] + int(df.loc[i, '보증금(만원)']) * change_rate / 12 "
      ],
      "execution_count": 124,
      "outputs": []
    },
    {
      "cell_type": "code",
      "metadata": {
        "colab": {
          "base_uri": "https://localhost:8080/",
          "height": 359
        },
        "id": "huLLC5obeMkI",
        "outputId": "4ec8b01a-739e-40c5-ebad-94d41843836b"
      },
      "source": [
        "df.head(10)"
      ],
      "execution_count": 125,
      "outputs": [
        {
          "output_type": "execute_result",
          "data": {
            "text/html": [
              "<div>\n",
              "<style scoped>\n",
              "    .dataframe tbody tr th:only-of-type {\n",
              "        vertical-align: middle;\n",
              "    }\n",
              "\n",
              "    .dataframe tbody tr th {\n",
              "        vertical-align: top;\n",
              "    }\n",
              "\n",
              "    .dataframe thead th {\n",
              "        text-align: right;\n",
              "    }\n",
              "</style>\n",
              "<table border=\"1\" class=\"dataframe\">\n",
              "  <thead>\n",
              "    <tr style=\"text-align: right;\">\n",
              "      <th></th>\n",
              "      <th>시군구</th>\n",
              "      <th>번지</th>\n",
              "      <th>도로조건</th>\n",
              "      <th>계약면적(㎡)</th>\n",
              "      <th>전월세구분</th>\n",
              "      <th>계약년월</th>\n",
              "      <th>계약일</th>\n",
              "      <th>보증금(만원)</th>\n",
              "      <th>월세(만원)</th>\n",
              "      <th>건축년도</th>\n",
              "      <th>도로명</th>\n",
              "      <th>위도</th>\n",
              "      <th>경도</th>\n",
              "      <th>학교까지_거리</th>\n",
              "      <th>혜화역까지_거리</th>\n",
              "      <th>한성대역까지_거리</th>\n",
              "      <th>보증금-&gt;월세</th>\n",
              "    </tr>\n",
              "  </thead>\n",
              "  <tbody>\n",
              "    <tr>\n",
              "      <th>0</th>\n",
              "      <td>서울특별시 종로구 명륜1가</td>\n",
              "      <td>5*</td>\n",
              "      <td>8m미만</td>\n",
              "      <td>12.0</td>\n",
              "      <td>전세</td>\n",
              "      <td>202007</td>\n",
              "      <td>16</td>\n",
              "      <td>2500</td>\n",
              "      <td>0</td>\n",
              "      <td>NaN</td>\n",
              "      <td>혜화로3가길</td>\n",
              "      <td>37.586630</td>\n",
              "      <td>127.000469</td>\n",
              "      <td>651.412608</td>\n",
              "      <td>518.855787</td>\n",
              "      <td>524.566882</td>\n",
              "      <td>13.125</td>\n",
              "    </tr>\n",
              "    <tr>\n",
              "      <th>1</th>\n",
              "      <td>서울특별시 종로구 명륜1가</td>\n",
              "      <td>1*</td>\n",
              "      <td>8m미만</td>\n",
              "      <td>13.0</td>\n",
              "      <td>월세</td>\n",
              "      <td>202009</td>\n",
              "      <td>3</td>\n",
              "      <td>500</td>\n",
              "      <td>36</td>\n",
              "      <td>1994.0</td>\n",
              "      <td>성균관로9길</td>\n",
              "      <td>37.584635</td>\n",
              "      <td>126.997017</td>\n",
              "      <td>448.798788</td>\n",
              "      <td>535.325224</td>\n",
              "      <td>894.486887</td>\n",
              "      <td>38.625</td>\n",
              "    </tr>\n",
              "    <tr>\n",
              "      <th>2</th>\n",
              "      <td>서울특별시 종로구 명륜1가</td>\n",
              "      <td>1*</td>\n",
              "      <td>8m미만</td>\n",
              "      <td>15.0</td>\n",
              "      <td>월세</td>\n",
              "      <td>202008</td>\n",
              "      <td>1</td>\n",
              "      <td>2000</td>\n",
              "      <td>30</td>\n",
              "      <td>1995.0</td>\n",
              "      <td>성균관로9길</td>\n",
              "      <td>37.584635</td>\n",
              "      <td>126.997017</td>\n",
              "      <td>448.798788</td>\n",
              "      <td>535.325224</td>\n",
              "      <td>894.486887</td>\n",
              "      <td>40.500</td>\n",
              "    </tr>\n",
              "    <tr>\n",
              "      <th>3</th>\n",
              "      <td>서울특별시 종로구 명륜1가</td>\n",
              "      <td>1*</td>\n",
              "      <td>8m미만</td>\n",
              "      <td>15.0</td>\n",
              "      <td>월세</td>\n",
              "      <td>202005</td>\n",
              "      <td>10</td>\n",
              "      <td>300</td>\n",
              "      <td>30</td>\n",
              "      <td>1992.0</td>\n",
              "      <td>성균관로9길</td>\n",
              "      <td>37.584635</td>\n",
              "      <td>126.997017</td>\n",
              "      <td>448.798788</td>\n",
              "      <td>535.325224</td>\n",
              "      <td>894.486887</td>\n",
              "      <td>31.575</td>\n",
              "    </tr>\n",
              "    <tr>\n",
              "      <th>4</th>\n",
              "      <td>서울특별시 종로구 명륜1가</td>\n",
              "      <td>3*</td>\n",
              "      <td>8m미만</td>\n",
              "      <td>15.0</td>\n",
              "      <td>월세</td>\n",
              "      <td>202007</td>\n",
              "      <td>17</td>\n",
              "      <td>500</td>\n",
              "      <td>33</td>\n",
              "      <td>2001.0</td>\n",
              "      <td>성균관로10길</td>\n",
              "      <td>37.583790</td>\n",
              "      <td>126.998159</td>\n",
              "      <td>586.288566</td>\n",
              "      <td>401.985992</td>\n",
              "      <td>859.502810</td>\n",
              "      <td>35.625</td>\n",
              "    </tr>\n",
              "    <tr>\n",
              "      <th>5</th>\n",
              "      <td>서울특별시 종로구 명륜1가</td>\n",
              "      <td>1*</td>\n",
              "      <td>8m미만</td>\n",
              "      <td>15.0</td>\n",
              "      <td>월세</td>\n",
              "      <td>202006</td>\n",
              "      <td>27</td>\n",
              "      <td>1500</td>\n",
              "      <td>20</td>\n",
              "      <td>1991.0</td>\n",
              "      <td>성균관로</td>\n",
              "      <td>37.583224</td>\n",
              "      <td>126.998407</td>\n",
              "      <td>644.729558</td>\n",
              "      <td>357.503560</td>\n",
              "      <td>881.818849</td>\n",
              "      <td>27.875</td>\n",
              "    </tr>\n",
              "    <tr>\n",
              "      <th>6</th>\n",
              "      <td>서울특별시 종로구 명륜1가</td>\n",
              "      <td>7*</td>\n",
              "      <td>25m미만</td>\n",
              "      <td>15.0</td>\n",
              "      <td>월세</td>\n",
              "      <td>202001</td>\n",
              "      <td>28</td>\n",
              "      <td>500</td>\n",
              "      <td>50</td>\n",
              "      <td>1996.0</td>\n",
              "      <td>성균관로</td>\n",
              "      <td>37.583224</td>\n",
              "      <td>126.998407</td>\n",
              "      <td>644.729558</td>\n",
              "      <td>357.503560</td>\n",
              "      <td>881.818849</td>\n",
              "      <td>52.625</td>\n",
              "    </tr>\n",
              "    <tr>\n",
              "      <th>7</th>\n",
              "      <td>서울특별시 종로구 명륜1가</td>\n",
              "      <td>5*</td>\n",
              "      <td>8m미만</td>\n",
              "      <td>15.0</td>\n",
              "      <td>월세</td>\n",
              "      <td>202001</td>\n",
              "      <td>29</td>\n",
              "      <td>1000</td>\n",
              "      <td>55</td>\n",
              "      <td>2017.0</td>\n",
              "      <td>혜화로9길</td>\n",
              "      <td>37.586440</td>\n",
              "      <td>127.000173</td>\n",
              "      <td>628.099216</td>\n",
              "      <td>507.460078</td>\n",
              "      <td>556.774067</td>\n",
              "      <td>60.250</td>\n",
              "    </tr>\n",
              "    <tr>\n",
              "      <th>8</th>\n",
              "      <td>서울특별시 종로구 명륜1가</td>\n",
              "      <td>9*</td>\n",
              "      <td>12m미만</td>\n",
              "      <td>15.0</td>\n",
              "      <td>전세</td>\n",
              "      <td>202005</td>\n",
              "      <td>4</td>\n",
              "      <td>7000</td>\n",
              "      <td>0</td>\n",
              "      <td>1967.0</td>\n",
              "      <td>혜화로3길</td>\n",
              "      <td>37.586630</td>\n",
              "      <td>127.000469</td>\n",
              "      <td>651.412608</td>\n",
              "      <td>518.855787</td>\n",
              "      <td>524.566882</td>\n",
              "      <td>36.750</td>\n",
              "    </tr>\n",
              "    <tr>\n",
              "      <th>9</th>\n",
              "      <td>서울특별시 종로구 명륜1가</td>\n",
              "      <td>3*</td>\n",
              "      <td>8m미만</td>\n",
              "      <td>16.0</td>\n",
              "      <td>월세</td>\n",
              "      <td>202002</td>\n",
              "      <td>14</td>\n",
              "      <td>1000</td>\n",
              "      <td>50</td>\n",
              "      <td>1992.0</td>\n",
              "      <td>성균관로14길</td>\n",
              "      <td>37.584178</td>\n",
              "      <td>126.997784</td>\n",
              "      <td>533.152076</td>\n",
              "      <td>451.471420</td>\n",
              "      <td>861.984958</td>\n",
              "      <td>55.250</td>\n",
              "    </tr>\n",
              "  </tbody>\n",
              "</table>\n",
              "</div>"
            ],
            "text/plain": [
              "              시군구  번지   도로조건  ...    혜화역까지_거리   한성대역까지_거리  보증금->월세\n",
              "0  서울특별시 종로구 명륜1가  5*   8m미만  ...  518.855787  524.566882   13.125\n",
              "1  서울특별시 종로구 명륜1가  1*   8m미만  ...  535.325224  894.486887   38.625\n",
              "2  서울특별시 종로구 명륜1가  1*   8m미만  ...  535.325224  894.486887   40.500\n",
              "3  서울특별시 종로구 명륜1가  1*   8m미만  ...  535.325224  894.486887   31.575\n",
              "4  서울특별시 종로구 명륜1가  3*   8m미만  ...  401.985992  859.502810   35.625\n",
              "5  서울특별시 종로구 명륜1가  1*   8m미만  ...  357.503560  881.818849   27.875\n",
              "6  서울특별시 종로구 명륜1가  7*  25m미만  ...  357.503560  881.818849   52.625\n",
              "7  서울특별시 종로구 명륜1가  5*   8m미만  ...  507.460078  556.774067   60.250\n",
              "8  서울특별시 종로구 명륜1가  9*  12m미만  ...  518.855787  524.566882   36.750\n",
              "9  서울특별시 종로구 명륜1가  3*   8m미만  ...  451.471420  861.984958   55.250\n",
              "\n",
              "[10 rows x 17 columns]"
            ]
          },
          "metadata": {
            "tags": []
          },
          "execution_count": 125
        }
      ]
    },
    {
      "cell_type": "code",
      "metadata": {
        "colab": {
          "base_uri": "https://localhost:8080/"
        },
        "id": "LYRbK3e8jlA3",
        "outputId": "5230c7c9-25d6-4844-87c2-79707a89845b"
      },
      "source": [
        "df.dtypes"
      ],
      "execution_count": 126,
      "outputs": [
        {
          "output_type": "execute_result",
          "data": {
            "text/plain": [
              "시군구           object\n",
              "번지            object\n",
              "도로조건          object\n",
              "계약면적(㎡)      float64\n",
              "전월세구분         object\n",
              "계약년월           int64\n",
              "계약일            int64\n",
              "보증금(만원)       object\n",
              "월세(만원)         int64\n",
              "건축년도         float64\n",
              "도로명           object\n",
              "위도           float64\n",
              "경도           float64\n",
              "학교까지_거리      float64\n",
              "혜화역까지_거리     float64\n",
              "한성대역까지_거리    float64\n",
              "보증금->월세      float64\n",
              "dtype: object"
            ]
          },
          "metadata": {
            "tags": []
          },
          "execution_count": 126
        }
      ]
    },
    {
      "cell_type": "code",
      "metadata": {
        "colab": {
          "base_uri": "https://localhost:8080/"
        },
        "id": "v-WJtM7MCWET",
        "outputId": "96ce9593-88bf-4d07-dc45-6a772df55f36"
      },
      "source": [
        "len(df)"
      ],
      "execution_count": 127,
      "outputs": [
        {
          "output_type": "execute_result",
          "data": {
            "text/plain": [
              "625"
            ]
          },
          "metadata": {
            "tags": []
          },
          "execution_count": 127
        }
      ]
    },
    {
      "cell_type": "markdown",
      "metadata": {
        "id": "h2z5BquVEhra"
      },
      "source": [
        "#Data Check"
      ]
    },
    {
      "cell_type": "code",
      "metadata": {
        "colab": {
          "base_uri": "https://localhost:8080/"
        },
        "id": "M6VNPaWyMVvd",
        "outputId": "c5e33af5-8852-48d7-bbd8-f6f7000f5800"
      },
      "source": [
        "#scatter plot : adjusted_주변_단독다가구(전월세)_실거래가_20191119_20201118.csv\r\n",
        "df['보증금->월세'].describe()"
      ],
      "execution_count": 128,
      "outputs": [
        {
          "output_type": "execute_result",
          "data": {
            "text/plain": [
              "count    625.000000\n",
              "mean      67.397860\n",
              "std       31.622536\n",
              "min        5.250000\n",
              "25%       46.750000\n",
              "50%       61.250000\n",
              "75%       78.750000\n",
              "max      220.500000\n",
              "Name: 보증금->월세, dtype: float64"
            ]
          },
          "metadata": {
            "tags": []
          },
          "execution_count": 128
        }
      ]
    },
    {
      "cell_type": "code",
      "metadata": {
        "colab": {
          "base_uri": "https://localhost:8080/"
        },
        "id": "tQbGNKU7mUz7",
        "outputId": "7b3ab82f-53d7-46ac-8d90-bfd850893d8f"
      },
      "source": [
        "#scatter plot : adjusted_주변_단독다가구(전월세)_실거래가_20171119_20181118.csv\r\n",
        "df['보증금->월세'].describe()"
      ],
      "execution_count": 116,
      "outputs": [
        {
          "output_type": "execute_result",
          "data": {
            "text/plain": [
              "count    645.000000\n",
              "mean      66.963401\n",
              "std       33.179891\n",
              "min        5.250000\n",
              "25%       47.250000\n",
              "50%       59.375000\n",
              "75%       78.750000\n",
              "max      278.250000\n",
              "Name: 보증금->월세, dtype: float64"
            ]
          },
          "metadata": {
            "tags": []
          },
          "execution_count": 116
        }
      ]
    },
    {
      "cell_type": "code",
      "metadata": {
        "colab": {
          "base_uri": "https://localhost:8080/"
        },
        "id": "0SWJ-8pkmax8",
        "outputId": "60a1a709-9aa0-4cd6-cd85-405173ac697b"
      },
      "source": [
        "df['계약면적(㎡)'].describe()\r\n",
        "# df['전용면적(㎡)'].describe()"
      ],
      "execution_count": 118,
      "outputs": [
        {
          "output_type": "execute_result",
          "data": {
            "text/plain": [
              "count    645.000000\n",
              "mean      34.229721\n",
              "std       22.061126\n",
              "min       10.000000\n",
              "25%       19.800000\n",
              "50%       26.400000\n",
              "75%       43.560000\n",
              "max      176.600000\n",
              "Name: 계약면적(㎡), dtype: float64"
            ]
          },
          "metadata": {
            "tags": []
          },
          "execution_count": 118
        }
      ]
    },
    {
      "cell_type": "code",
      "metadata": {
        "colab": {
          "base_uri": "https://localhost:8080/"
        },
        "id": "_A7vwgmqpdYj",
        "outputId": "d6dad5ed-e935-4284-ace6-5ad69bbbda08"
      },
      "source": [
        "df['학교까지_거리'].describe()"
      ],
      "execution_count": 78,
      "outputs": [
        {
          "output_type": "execute_result",
          "data": {
            "text/plain": [
              "count     243.000000\n",
              "mean      840.076253\n",
              "std       344.925386\n",
              "min       166.756719\n",
              "25%       553.440141\n",
              "50%       801.417861\n",
              "75%      1154.538069\n",
              "max      1458.109654\n",
              "Name: 학교까지_거리, dtype: float64"
            ]
          },
          "metadata": {
            "tags": []
          },
          "execution_count": 78
        }
      ]
    },
    {
      "cell_type": "code",
      "metadata": {
        "colab": {
          "base_uri": "https://localhost:8080/",
          "height": 278
        },
        "id": "OjJkriidmhSC",
        "outputId": "1178c84c-b450-4893-96df-f575be7e1a03"
      },
      "source": [
        "sns.distplot(df['보증금->월세']);"
      ],
      "execution_count": 79,
      "outputs": [
        {
          "output_type": "display_data",
          "data": {
            "image/png": "[encoded data removed]",
            "text/plain": [
              "<Figure size 432x288 with 1 Axes>"
            ]
          },
          "metadata": {
            "tags": [],
            "needs_background": "light"
          }
        }
      ]
    },
    {
      "cell_type": "code",
      "metadata": {
        "colab": {
          "base_uri": "https://localhost:8080/",
          "height": 278
        },
        "id": "N0vuBrQIL5-i",
        "outputId": "f93c313b-ad0f-4986-fce7-188e4ed29fcc"
      },
      "source": [
        "#2017-2018\r\n",
        "sns.distplot(df['보증금->월세']);"
      ],
      "execution_count": 119,
      "outputs": [
        {
          "output_type": "display_data",
          "data": {
            "image/png": "[encoded data removed]",
            "text/plain": [
              "<Figure size 432x288 with 1 Axes>"
            ]
          },
          "metadata": {
            "tags": [],
            "needs_background": "light"
          }
        }
      ]
    },
    {
      "cell_type": "code",
      "metadata": {
        "colab": {
          "base_uri": "https://localhost:8080/",
          "height": 278
        },
        "id": "8kDJoFwnl87S",
        "outputId": "1b1b612b-75eb-4a74-adbb-ec287d5b4acb"
      },
      "source": [
        "sns.distplot(df['보증금->월세']);"
      ],
      "execution_count": 93,
      "outputs": [
        {
          "output_type": "display_data",
          "data": {
            "image/png": "[encoded data removed]",
            "text/plain": [
              "<Figure size 432x288 with 1 Axes>"
            ]
          },
          "metadata": {
            "tags": [],
            "needs_background": "light"
          }
        }
      ]
    },
    {
      "cell_type": "code",
      "metadata": {
        "colab": {
          "base_uri": "https://localhost:8080/",
          "height": 278
        },
        "id": "DuF7-QVYmmN4",
        "outputId": "4850ab2c-2f23-4a13-b59d-57a0f8426ae0"
      },
      "source": [
        "sns.distplot(df['전용면적(㎡)']);"
      ],
      "execution_count": 80,
      "outputs": [
        {
          "output_type": "display_data",
          "data": {
            "image/png": "[encoded data removed]",
            "text/plain": [
              "<Figure size 432x288 with 1 Axes>"
            ]
          },
          "metadata": {
            "tags": [],
            "needs_background": "light"
          }
        }
      ]
    },
    {
      "cell_type": "code",
      "metadata": {
        "colab": {
          "base_uri": "https://localhost:8080/",
          "height": 281
        },
        "id": "KVTtW3Q8p79k",
        "outputId": "3b80db6f-1398-4099-888f-6fb2ef1f3514"
      },
      "source": [
        "sns.distplot(df['학교까지_거리'], bins = 50);"
      ],
      "execution_count": 81,
      "outputs": [
        {
          "output_type": "display_data",
          "data": {
            "image/png": "[encoded data removed]",
            "text/plain": [
              "<Figure size 432x288 with 1 Axes>"
            ]
          },
          "metadata": {
            "tags": [],
            "needs_background": "light"
          }
        }
      ]
    },
    {
      "cell_type": "code",
      "metadata": {
        "colab": {
          "base_uri": "https://localhost:8080/",
          "height": 295
        },
        "id": "ySgDdtvKnBzO",
        "outputId": "4ba3db16-d6e1-4707-b9af-7b0ac5ead1fd"
      },
      "source": [
        "#scatter plot : adjusted_주변_단독다가구(전월세)_실거래가_20171119_20181118.csv\r\n",
        "\r\n",
        "var = '계약면적(㎡)'\r\n",
        "# var = '전용면적(㎡)'\r\n",
        "data = pd.concat([df['보증금->월세'], df[var]], axis=1)\r\n",
        "# data.plot.scatter(x=var, y='보증금->월세', alpha=.2, c=np.array([0, 0, 0]).reshape(1,-1));\r\n",
        "sns.regplot(x=var, y='보증금->월세', data=df);\r\n",
        "\r\n",
        "f = np.polyfit(df[var], df['보증금->월세'], deg=1)\r\n",
        "# Slope\r\n",
        "print(\"기울기 : {}\".format(f[0]))"
      ],
      "execution_count": 122,
      "outputs": [
        {
          "output_type": "stream",
          "text": [
            "기울기 : 1.0069266033767161\n"
          ],
          "name": "stdout"
        },
        {
          "output_type": "display_data",
          "data": {
            "image/png": "[encoded data removed]",
            "text/plain": [
              "<Figure size 432x288 with 1 Axes>"
            ]
          },
          "metadata": {
            "tags": [],
            "needs_background": "light"
          }
        }
      ]
    },
    {
      "cell_type": "code",
      "metadata": {
        "colab": {
          "base_uri": "https://localhost:8080/",
          "height": 295
        },
        "id": "BGvutZDHmA7_",
        "outputId": "070ad64d-4626-46a7-c467-84e0480faeab"
      },
      "source": [
        "#scatter plot : adjusted_주변_단독다가구(전월세)_실거래가_20191119_20201118.csv\r\n",
        "\r\n",
        "var = '계약면적(㎡)'\r\n",
        "# var = '전용면적(㎡)'\r\n",
        "data = pd.concat([df['보증금->월세'], df[var]], axis=1)\r\n",
        "# data.plot.scatter(x=var, y='보증금->월세', alpha=.2, c=np.array([0, 0, 0]).reshape(1,-1));\r\n",
        "sns.regplot(x=var, y='보증금->월세', data=df);\r\n",
        "\r\n",
        "f = np.polyfit(df[var], df['보증금->월세'], deg=1)\r\n",
        "# Slope\r\n",
        "print(\"기울기 : {}\".format(f[0]))"
      ],
      "execution_count": 100,
      "outputs": [
        {
          "output_type": "stream",
          "text": [
            "기울기 : 0.7972871050753061\n"
          ],
          "name": "stdout"
        },
        {
          "output_type": "display_data",
          "data": {
            "image/png": "[encoded data removed]",
            "text/plain": [
              "<Figure size 432x288 with 1 Axes>"
            ]
          },
          "metadata": {
            "tags": [],
            "needs_background": "light"
          }
        }
      ]
    },
    {
      "cell_type": "code",
      "metadata": {
        "colab": {
          "base_uri": "https://localhost:8080/",
          "height": 278
        },
        "id": "tfZwDpMKrJco",
        "outputId": "c690045d-ab51-465d-a6fe-0eda7dc423d3"
      },
      "source": [
        "#scatter plot '공시가격'/'보증금->월세'\r\n",
        "var = '건축년도'\r\n",
        "data = pd.concat([df['보증금->월세'], df[var]], axis=1)\r\n",
        "data.plot.scatter(x=var, y='보증금->월세', c=np.array([0, 0, 0]).reshape(1,-1));"
      ],
      "execution_count": 35,
      "outputs": [
        {
          "output_type": "display_data",
          "data": {
            "image/png": "[encoded data removed]",
            "text/plain": [
              "<Figure size 432x288 with 1 Axes>"
            ]
          },
          "metadata": {
            "tags": [],
            "needs_background": "light"
          }
        }
      ]
    },
    {
      "cell_type": "code",
      "metadata": {
        "colab": {
          "base_uri": "https://localhost:8080/",
          "height": 278
        },
        "id": "P65IF2lZqBFt",
        "outputId": "008345a7-4688-43e1-c281-1ab67418209a"
      },
      "source": [
        "#scatter plot '공시가격'/'보증금->월세'\r\n",
        "var = '학교까지_거리'\r\n",
        "data = pd.concat([df['보증금->월세'], df[var]], axis=1)\r\n",
        "data.plot.scatter(x=var, y='보증금->월세', c=np.array([0, 0, 0]).reshape(1,-1));"
      ],
      "execution_count": 36,
      "outputs": [
        {
          "output_type": "display_data",
          "data": {
            "image/png": "[encoded data removed]",
            "text/plain": [
              "<Figure size 432x288 with 1 Axes>"
            ]
          },
          "metadata": {
            "tags": [],
            "needs_background": "light"
          }
        }
      ]
    },
    {
      "cell_type": "code",
      "metadata": {
        "colab": {
          "base_uri": "https://localhost:8080/",
          "height": 278
        },
        "id": "9V-tfzwnrOpq",
        "outputId": "96cff1d5-b815-4943-8578-b7d99633774c"
      },
      "source": [
        "#scatter plot '공시가격'/'보증금->월세'\r\n",
        "var = '혜화역까지_거리'\r\n",
        "data = pd.concat([df['보증금->월세'], df[var]], axis=1)\r\n",
        "data.plot.scatter(x=var, y='보증금->월세', c=np.array([0, 0, 0]).reshape(1,-1));"
      ],
      "execution_count": 37,
      "outputs": [
        {
          "output_type": "display_data",
          "data": {
            "image/png": "[encoded data removed]",
            "text/plain": [
              "<Figure size 432x288 with 1 Axes>"
            ]
          },
          "metadata": {
            "tags": [],
            "needs_background": "light"
          }
        }
      ]
    },
    {
      "cell_type": "code",
      "metadata": {
        "colab": {
          "base_uri": "https://localhost:8080/",
          "height": 278
        },
        "id": "vzcFGmW_rYR7",
        "outputId": "a22bbc05-fa95-4ab2-bfaf-316e2ed4bbc7"
      },
      "source": [
        "#scatter plot '공시가격'/'보증금->월세'\r\n",
        "var = '한성대역까지_거리'\r\n",
        "data = pd.concat([df['보증금->월세'], df[var]], axis=1)\r\n",
        "data.plot.scatter(x=var, y='보증금->월세', c=np.array([0, 0, 0]).reshape(1,-1));"
      ],
      "execution_count": 38,
      "outputs": [
        {
          "output_type": "display_data",
          "data": {
            "image/png": "[encoded data removed]",
            "text/plain": [
              "<Figure size 432x288 with 1 Axes>"
            ]
          },
          "metadata": {
            "tags": [],
            "needs_background": "light"
          }
        }
      ]
    },
    {
      "cell_type": "code",
      "metadata": {
        "id": "TqY6cnAxqiZx"
      },
      "source": [
        "#deleting points\r\n",
        "df = df.drop(df[df['보증금->월세'] < 20].index)"
      ],
      "execution_count": null,
      "outputs": []
    },
    {
      "cell_type": "code",
      "metadata": {
        "id": "c09jn4X5DRNv"
      },
      "source": [
        "#deleting points\r\n",
        "df = df.drop(df[df['계약면적(㎡)'] > 150].index)"
      ],
      "execution_count": null,
      "outputs": []
    },
    {
      "cell_type": "code",
      "metadata": {
        "id": "yKbQHWrAqZU3"
      },
      "source": [
        "#deleting points\r\n",
        "df = df.drop(df[df['계약면적(㎡)'] > 150].index)"
      ],
      "execution_count": null,
      "outputs": []
    },
    {
      "cell_type": "code",
      "metadata": {
        "id": "2OtSL0z3nPky"
      },
      "source": [
        "def detect_outlier"
      ],
      "execution_count": null,
      "outputs": []
    },
    {
      "cell_type": "markdown",
      "metadata": {
        "id": "ClkoI8N0ZT3D"
      },
      "source": [
        "#to_csv"
      ]
    },
    {
      "cell_type": "code",
      "metadata": {
        "id": "ThFA4X2GZX36"
      },
      "source": [
        "df.to_csv('/content/gdrive/My Drive/recommend_system/tracer/preprocessed_명륜1가_단독다가구(전월세)_실거래가_20191119_20201118_ex.csv', index=False, encoding='cp949')"
      ],
      "execution_count": null,
      "outputs": []
    },
    {
      "cell_type": "code",
      "metadata": {
        "id": "VYVClvqpn3oe"
      },
      "source": [
        ""
      ],
      "execution_count": null,
      "outputs": []
    }
  ]
}