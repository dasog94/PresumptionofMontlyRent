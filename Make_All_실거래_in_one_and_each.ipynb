{
 "cells": [
  {
   "cell_type": "code",
   "execution_count": 5,
   "metadata": {},
   "outputs": [],
   "source": [
    "import os\n",
    "import csv\n",
    "import pandas as pd"
   ]
  },
  {
   "cell_type": "code",
   "execution_count": 6,
   "metadata": {},
   "outputs": [],
   "source": [
    "# 공공데이터 앞 부분 설명 제거\n",
    "# 데이터를 잘라 임시 저장소 tmp에 저장\n",
    "# 폴더에는 사용할 데이터만 있어야함.\n",
    "\n",
    "# path_read = 'files/단독다가구'\n",
    "# path_read = 'files/연립다세대'\n",
    "path_read = 'files/연립다세대_추가'\n",
    "\n",
    "# 임시 저장소 생성\n",
    "path_write = 'files/tmp'\n",
    "os.mkdir(path_write)\n",
    "\n",
    "# 임시 저장소에 앞 부분 설명 제거된 파일 저장\n",
    "file_list = os.listdir(path_read)\n",
    "for el in file_list:\n",
    "    file_read = open(path_read + '/' + el, 'r', encoding='CP949')\n",
    "    file_write = open(path_write + '/' + el, 'w', encoding='CP949')\n",
    "    for i, line in enumerate(file_read):\n",
    "        if i > 13:\n",
    "            line = file_read.readline()\n",
    "            file_write.write(line)\n",
    "    file_read.close()\n",
    "    file_write.close()"
   ]
  },
  {
   "cell_type": "code",
   "execution_count": 7,
   "metadata": {},
   "outputs": [],
   "source": [
    "path = path_write\n",
    "\n",
    "# df_list에 df 할당\n",
    "file_list = os.listdir(path)\n",
    "df_list = []\n",
    "for el in file_list:\n",
    "    df = pd.read_csv(path+ '/' +el, encoding='CP949')\n",
    "    df_list.append(df)\n",
    "\n",
    "for el in file_list:\n",
    "    os.remove(path+ '/' +el)\n",
    "os.rmdir(\"files/tmp\")"
   ]
  },
  {
   "cell_type": "code",
   "execution_count": 8,
   "metadata": {},
   "outputs": [],
   "source": [
    "# make all files\n",
    "for file, df in zip(file_list, df_list):\n",
    "    df.to_csv('adjusted_'+file, index=False, encoding='cp949')"
   ]
  },
  {
   "cell_type": "code",
   "execution_count": null,
   "metadata": {},
   "outputs": [],
   "source": [
    "# make one file\n",
    "one_file_name = '주변_연립다세대(전월세)_실거래가_ALL.csv'\n",
    "one = pd.concat([df for df in df_list])\n",
    "one.to_csv('adjusted_'+one_file_name, index=False, encoding='cp949')"
   ]
  }
 ],
 "metadata": {
  "kernelspec": {
   "display_name": "Python 3",
   "language": "python",
   "name": "python3"
  },
  "language_info": {
   "codemirror_mode": {
    "name": "ipython",
    "version": 3
   },
   "file_extension": ".py",
   "mimetype": "text/x-python",
   "name": "python",
   "nbconvert_exporter": "python",
   "pygments_lexer": "ipython3",
   "version": "3.7.6"
  }
 },
 "nbformat": 4,
 "nbformat_minor": 4
}
