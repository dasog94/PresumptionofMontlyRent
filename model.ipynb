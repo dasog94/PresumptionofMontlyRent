{
  "nbformat": 4,
  "nbformat_minor": 0,
  "metadata": {
    "colab": {
      "name": "model.ipynb",
      "provenance": [],
      "collapsed_sections": [
        "CF_Mpbb4ij9u",
        "MRjOzi0hi8n5",
        "Q3CraUHotv49"
      ],
      "authorship_tag": "ABX9TyO0/T2USLJuFoqawY6IcVtr",
      "include_colab_link": true
    },
    "kernelspec": {
      "name": "python3",
      "display_name": "Python 3"
    }
  },
  "cells": [
    {
      "cell_type": "markdown",
      "metadata": {
        "id": "view-in-github",
        "colab_type": "text"
      },
      "source": [
        "<a href=\"https://colab.research.google.com/github/dasog94/PresumptionofMontlyRent/blob/main/model.ipynb\" target=\"_parent\"><img src=\"https://colab.research.google.com/assets/colab-badge.svg\" alt=\"Open In Colab\"/></a>"
      ]
    },
    {
      "cell_type": "code",
      "metadata": {
        "id": "dXt223snuJti",
        "colab": {
          "base_uri": "https://localhost:8080/"
        },
        "outputId": "8b71f6c1-b57a-42d4-8551-a8afbe67033b"
      },
      "source": [
        "from google.colab import drive\n",
        "drive.mount('/content/gdrive/')"
      ],
      "execution_count": 1,
      "outputs": [
        {
          "output_type": "stream",
          "text": [
            "Mounted at /content/gdrive/\n"
          ],
          "name": "stdout"
        }
      ]
    },
    {
      "cell_type": "markdown",
      "metadata": {
        "id": "169Oanwnigvy"
      },
      "source": [
        "#Libs"
      ]
    },
    {
      "cell_type": "code",
      "metadata": {
        "id": "vaeVZ3vYOOAJ"
      },
      "source": [
        "import pandas as pd\n",
        "import tensorflow as tf\n",
        "import numpy as np\n",
        "from sklearn.model_selection import train_test_split\n",
        "from keras import models\n",
        "from keras import layers"
      ],
      "execution_count": 2,
      "outputs": []
    },
    {
      "cell_type": "markdown",
      "metadata": {
        "id": "CF_Mpbb4ij9u"
      },
      "source": [
        "#Load Data"
      ]
    },
    {
      "cell_type": "code",
      "metadata": {
        "id": "wO1RBFVoOO-J"
      },
      "source": [
        "df = pd.read_csv('/content/gdrive/My Drive/recommend_system/tracer/월세데이터.csv', encoding='CP949')"
      ],
      "execution_count": 15,
      "outputs": []
    },
    {
      "cell_type": "code",
      "metadata": {
        "id": "mHZmE6FIXUf2"
      },
      "source": [
        "df = df.reindex(columns = df.columns.tolist() + ['1m당_가격'])\r\n",
        "for i in range(len(df)):\r\n",
        "  df.loc[i, '1m당_가격'] = df.loc[i, '보증금->월세'] / df.loc[i, '전용면적']"
      ],
      "execution_count": 16,
      "outputs": []
    },
    {
      "cell_type": "code",
      "metadata": {
        "colab": {
          "base_uri": "https://localhost:8080/",
          "height": 937
        },
        "id": "8QSZdcYjQhtk",
        "outputId": "9789e8d6-8e13-4d66-aa42-8f0b73e06ab5"
      },
      "source": [
        "df.head(10)"
      ],
      "execution_count": 17,
      "outputs": [
        {
          "output_type": "execute_result",
          "data": {
            "text/html": [
              "<div>\n",
              "<style scoped>\n",
              "    .dataframe tbody tr th:only-of-type {\n",
              "        vertical-align: middle;\n",
              "    }\n",
              "\n",
              "    .dataframe tbody tr th {\n",
              "        vertical-align: top;\n",
              "    }\n",
              "\n",
              "    .dataframe thead th {\n",
              "        text-align: right;\n",
              "    }\n",
              "</style>\n",
              "<table border=\"1\" class=\"dataframe\">\n",
              "  <thead>\n",
              "    <tr style=\"text-align: right;\">\n",
              "      <th></th>\n",
              "      <th>건물명</th>\n",
              "      <th>건축년도</th>\n",
              "      <th>계약년월</th>\n",
              "      <th>계약일</th>\n",
              "      <th>단지명</th>\n",
              "      <th>도로명</th>\n",
              "      <th>지번</th>\n",
              "      <th>보증금(만원)</th>\n",
              "      <th>보증금-&gt;월세</th>\n",
              "      <th>본번</th>\n",
              "      <th>부번</th>\n",
              "      <th>법정동명</th>\n",
              "      <th>월세(만원)</th>\n",
              "      <th>전용면적</th>\n",
              "      <th>전월세구분</th>\n",
              "      <th>층</th>\n",
              "      <th>거주타입</th>\n",
              "      <th>건물명_건물동명</th>\n",
              "      <th>건물식별번호</th>\n",
              "      <th>건물연령</th>\n",
              "      <th>공동주택명</th>\n",
              "      <th>공시가격</th>\n",
              "      <th>데이터기준일자</th>\n",
              "      <th>위도</th>\n",
              "      <th>경도</th>\n",
              "      <th>학교까지_거리</th>\n",
              "      <th>혜화역까지_거리</th>\n",
              "      <th>한성대역까지_거리</th>\n",
              "      <th>1m당_가격</th>\n",
              "    </tr>\n",
              "  </thead>\n",
              "  <tbody>\n",
              "    <tr>\n",
              "      <th>0</th>\n",
              "      <td>NaN</td>\n",
              "      <td>1999</td>\n",
              "      <td>201804</td>\n",
              "      <td>13</td>\n",
              "      <td>동성아파트(1동)</td>\n",
              "      <td>동숭4라길 29</td>\n",
              "      <td>4-161</td>\n",
              "      <td>20000.0</td>\n",
              "      <td>66.666667</td>\n",
              "      <td>4</td>\n",
              "      <td>161</td>\n",
              "      <td>서울특별시 종로구 동숭동</td>\n",
              "      <td>0.0</td>\n",
              "      <td>57.96</td>\n",
              "      <td>전세</td>\n",
              "      <td>3</td>\n",
              "      <td>아파트&amp;오피스텔</td>\n",
              "      <td>동성아파트 1동</td>\n",
              "      <td>24809.0</td>\n",
              "      <td>22.0</td>\n",
              "      <td>동성아파트(1동)</td>\n",
              "      <td>162000000.0</td>\n",
              "      <td>2020-07-27</td>\n",
              "      <td>37.583375</td>\n",
              "      <td>127.006271</td>\n",
              "      <td>1235.880709</td>\n",
              "      <td>378.810239</td>\n",
              "      <td>559.530861</td>\n",
              "      <td>1.150219</td>\n",
              "    </tr>\n",
              "    <tr>\n",
              "      <th>1</th>\n",
              "      <td>NaN</td>\n",
              "      <td>1999</td>\n",
              "      <td>201910</td>\n",
              "      <td>18</td>\n",
              "      <td>동성아파트(2동)</td>\n",
              "      <td>동숭4라길 27</td>\n",
              "      <td>4-157</td>\n",
              "      <td>22000.0</td>\n",
              "      <td>73.333333</td>\n",
              "      <td>4</td>\n",
              "      <td>157</td>\n",
              "      <td>서울특별시 종로구 동숭동</td>\n",
              "      <td>0.0</td>\n",
              "      <td>59.34</td>\n",
              "      <td>전세</td>\n",
              "      <td>6</td>\n",
              "      <td>아파트&amp;오피스텔</td>\n",
              "      <td>동성아파트 2동</td>\n",
              "      <td>29649.0</td>\n",
              "      <td>22.0</td>\n",
              "      <td>동성아파트(2동)</td>\n",
              "      <td>158000000.0</td>\n",
              "      <td>2020-07-27</td>\n",
              "      <td>37.583500</td>\n",
              "      <td>127.006149</td>\n",
              "      <td>1221.044377</td>\n",
              "      <td>373.985483</td>\n",
              "      <td>545.305534</td>\n",
              "      <td>1.235816</td>\n",
              "    </tr>\n",
              "    <tr>\n",
              "      <th>2</th>\n",
              "      <td>(129-23)</td>\n",
              "      <td>1997</td>\n",
              "      <td>201806</td>\n",
              "      <td>2</td>\n",
              "      <td>NaN</td>\n",
              "      <td>동숭4나길 28-1</td>\n",
              "      <td>129-23</td>\n",
              "      <td>13000.0</td>\n",
              "      <td>43.333333</td>\n",
              "      <td>129</td>\n",
              "      <td>23</td>\n",
              "      <td>서울특별시 종로구 동숭동</td>\n",
              "      <td>0.0</td>\n",
              "      <td>47.20</td>\n",
              "      <td>전세</td>\n",
              "      <td>4</td>\n",
              "      <td>연립다세대</td>\n",
              "      <td>예일하우스</td>\n",
              "      <td>17641.0</td>\n",
              "      <td>24.0</td>\n",
              "      <td>(129-23)</td>\n",
              "      <td>122000000.0</td>\n",
              "      <td>2020-07-27</td>\n",
              "      <td>37.583036</td>\n",
              "      <td>127.005743</td>\n",
              "      <td>1206.473960</td>\n",
              "      <td>322.626687</td>\n",
              "      <td>597.085546</td>\n",
              "      <td>0.918079</td>\n",
              "    </tr>\n",
              "    <tr>\n",
              "      <th>3</th>\n",
              "      <td>(129-24)</td>\n",
              "      <td>1997</td>\n",
              "      <td>201712</td>\n",
              "      <td>9</td>\n",
              "      <td>NaN</td>\n",
              "      <td>동숭4나길 28</td>\n",
              "      <td>129-24</td>\n",
              "      <td>14000.0</td>\n",
              "      <td>46.666667</td>\n",
              "      <td>129</td>\n",
              "      <td>24</td>\n",
              "      <td>서울특별시 종로구 동숭동</td>\n",
              "      <td>0.0</td>\n",
              "      <td>38.54</td>\n",
              "      <td>전세</td>\n",
              "      <td>4</td>\n",
              "      <td>연립다세대</td>\n",
              "      <td>0</td>\n",
              "      <td>22280.0</td>\n",
              "      <td>24.0</td>\n",
              "      <td>(129-24)</td>\n",
              "      <td>98500000.0</td>\n",
              "      <td>2020-07-27</td>\n",
              "      <td>37.583045</td>\n",
              "      <td>127.005632</td>\n",
              "      <td>1197.013260</td>\n",
              "      <td>313.528991</td>\n",
              "      <td>596.535653</td>\n",
              "      <td>1.210863</td>\n",
              "    </tr>\n",
              "    <tr>\n",
              "      <th>4</th>\n",
              "      <td>(129-74)</td>\n",
              "      <td>1994</td>\n",
              "      <td>201802</td>\n",
              "      <td>20</td>\n",
              "      <td>NaN</td>\n",
              "      <td>낙산1길 22-1</td>\n",
              "      <td>129-74</td>\n",
              "      <td>25000.0</td>\n",
              "      <td>83.333333</td>\n",
              "      <td>129</td>\n",
              "      <td>74</td>\n",
              "      <td>서울특별시 종로구 동숭동</td>\n",
              "      <td>0.0</td>\n",
              "      <td>54.02</td>\n",
              "      <td>전세</td>\n",
              "      <td>2</td>\n",
              "      <td>연립다세대</td>\n",
              "      <td>0</td>\n",
              "      <td>10769.0</td>\n",
              "      <td>27.0</td>\n",
              "      <td>(129-74)</td>\n",
              "      <td>136000000.0</td>\n",
              "      <td>2020-07-27</td>\n",
              "      <td>37.581118</td>\n",
              "      <td>127.005861</td>\n",
              "      <td>1312.654556</td>\n",
              "      <td>339.899030</td>\n",
              "      <td>810.031517</td>\n",
              "      <td>1.542639</td>\n",
              "    </tr>\n",
              "    <tr>\n",
              "      <th>5</th>\n",
              "      <td>(129-74)</td>\n",
              "      <td>1994</td>\n",
              "      <td>201803</td>\n",
              "      <td>26</td>\n",
              "      <td>NaN</td>\n",
              "      <td>낙산1길 22-1</td>\n",
              "      <td>129-74</td>\n",
              "      <td>20000.0</td>\n",
              "      <td>66.666667</td>\n",
              "      <td>129</td>\n",
              "      <td>74</td>\n",
              "      <td>서울특별시 종로구 동숭동</td>\n",
              "      <td>0.0</td>\n",
              "      <td>34.56</td>\n",
              "      <td>전세</td>\n",
              "      <td>1</td>\n",
              "      <td>연립다세대</td>\n",
              "      <td>0</td>\n",
              "      <td>10769.0</td>\n",
              "      <td>27.0</td>\n",
              "      <td>(129-74)</td>\n",
              "      <td>80700000.0</td>\n",
              "      <td>2020-07-27</td>\n",
              "      <td>37.581118</td>\n",
              "      <td>127.005861</td>\n",
              "      <td>1312.654556</td>\n",
              "      <td>339.899030</td>\n",
              "      <td>810.031517</td>\n",
              "      <td>1.929012</td>\n",
              "    </tr>\n",
              "    <tr>\n",
              "      <th>6</th>\n",
              "      <td>(129-74)</td>\n",
              "      <td>1994</td>\n",
              "      <td>201807</td>\n",
              "      <td>28</td>\n",
              "      <td>NaN</td>\n",
              "      <td>낙산1길 22-1</td>\n",
              "      <td>129-74</td>\n",
              "      <td>33000.0</td>\n",
              "      <td>110.000000</td>\n",
              "      <td>129</td>\n",
              "      <td>74</td>\n",
              "      <td>서울특별시 종로구 동숭동</td>\n",
              "      <td>0.0</td>\n",
              "      <td>54.02</td>\n",
              "      <td>전세</td>\n",
              "      <td>2</td>\n",
              "      <td>연립다세대</td>\n",
              "      <td>0</td>\n",
              "      <td>10769.0</td>\n",
              "      <td>27.0</td>\n",
              "      <td>(129-74)</td>\n",
              "      <td>136000000.0</td>\n",
              "      <td>2020-07-27</td>\n",
              "      <td>37.581118</td>\n",
              "      <td>127.005861</td>\n",
              "      <td>1312.654556</td>\n",
              "      <td>339.899030</td>\n",
              "      <td>810.031517</td>\n",
              "      <td>2.036283</td>\n",
              "    </tr>\n",
              "    <tr>\n",
              "      <th>7</th>\n",
              "      <td>(130-7)</td>\n",
              "      <td>2014</td>\n",
              "      <td>201806</td>\n",
              "      <td>27</td>\n",
              "      <td>NaN</td>\n",
              "      <td>동숭2길 13-3</td>\n",
              "      <td>130-7</td>\n",
              "      <td>1000.0</td>\n",
              "      <td>48.333333</td>\n",
              "      <td>130</td>\n",
              "      <td>7</td>\n",
              "      <td>서울특별시 종로구 동숭동</td>\n",
              "      <td>45.0</td>\n",
              "      <td>15.51</td>\n",
              "      <td>월세</td>\n",
              "      <td>1</td>\n",
              "      <td>연립다세대</td>\n",
              "      <td>0</td>\n",
              "      <td>NaN</td>\n",
              "      <td>NaN</td>\n",
              "      <td>(130-7)</td>\n",
              "      <td>61400000.0</td>\n",
              "      <td>2020-07-27</td>\n",
              "      <td>37.581068</td>\n",
              "      <td>127.005069</td>\n",
              "      <td>1256.475426</td>\n",
              "      <td>277.959329</td>\n",
              "      <td>819.514180</td>\n",
              "      <td>3.116269</td>\n",
              "    </tr>\n",
              "    <tr>\n",
              "      <th>8</th>\n",
              "      <td>(14-2)</td>\n",
              "      <td>1998</td>\n",
              "      <td>201801</td>\n",
              "      <td>24</td>\n",
              "      <td>NaN</td>\n",
              "      <td>동숭4나길 5</td>\n",
              "      <td>14-2</td>\n",
              "      <td>7000.0</td>\n",
              "      <td>48.333333</td>\n",
              "      <td>14</td>\n",
              "      <td>2</td>\n",
              "      <td>서울특별시 종로구 동숭동</td>\n",
              "      <td>25.0</td>\n",
              "      <td>25.60</td>\n",
              "      <td>월세</td>\n",
              "      <td>2</td>\n",
              "      <td>연립다세대</td>\n",
              "      <td>0</td>\n",
              "      <td>10902.0</td>\n",
              "      <td>23.0</td>\n",
              "      <td>(14-2)</td>\n",
              "      <td>62500000.0</td>\n",
              "      <td>2020-07-27</td>\n",
              "      <td>37.583173</td>\n",
              "      <td>127.004496</td>\n",
              "      <td>1099.579313</td>\n",
              "      <td>226.983207</td>\n",
              "      <td>596.110922</td>\n",
              "      <td>1.888021</td>\n",
              "    </tr>\n",
              "    <tr>\n",
              "      <th>9</th>\n",
              "      <td>(14-2)</td>\n",
              "      <td>1998</td>\n",
              "      <td>201808</td>\n",
              "      <td>2</td>\n",
              "      <td>NaN</td>\n",
              "      <td>동숭4나길 5</td>\n",
              "      <td>14-2</td>\n",
              "      <td>9000.0</td>\n",
              "      <td>40.000000</td>\n",
              "      <td>14</td>\n",
              "      <td>2</td>\n",
              "      <td>서울특별시 종로구 동숭동</td>\n",
              "      <td>10.0</td>\n",
              "      <td>25.60</td>\n",
              "      <td>월세</td>\n",
              "      <td>4</td>\n",
              "      <td>연립다세대</td>\n",
              "      <td>0</td>\n",
              "      <td>10902.0</td>\n",
              "      <td>23.0</td>\n",
              "      <td>(14-2)</td>\n",
              "      <td>62500000.0</td>\n",
              "      <td>2020-07-27</td>\n",
              "      <td>37.583173</td>\n",
              "      <td>127.004496</td>\n",
              "      <td>1099.579313</td>\n",
              "      <td>226.983207</td>\n",
              "      <td>596.110922</td>\n",
              "      <td>1.562500</td>\n",
              "    </tr>\n",
              "  </tbody>\n",
              "</table>\n",
              "</div>"
            ],
            "text/plain": [
              "        건물명  건축년도    계약년월  계약일  ...      학교까지_거리    혜화역까지_거리   한성대역까지_거리    1m당_가격\n",
              "0       NaN  1999  201804   13  ...  1235.880709  378.810239  559.530861  1.150219\n",
              "1       NaN  1999  201910   18  ...  1221.044377  373.985483  545.305534  1.235816\n",
              "2  (129-23)  1997  201806    2  ...  1206.473960  322.626687  597.085546  0.918079\n",
              "3  (129-24)  1997  201712    9  ...  1197.013260  313.528991  596.535653  1.210863\n",
              "4  (129-74)  1994  201802   20  ...  1312.654556  339.899030  810.031517  1.542639\n",
              "5  (129-74)  1994  201803   26  ...  1312.654556  339.899030  810.031517  1.929012\n",
              "6  (129-74)  1994  201807   28  ...  1312.654556  339.899030  810.031517  2.036283\n",
              "7   (130-7)  2014  201806   27  ...  1256.475426  277.959329  819.514180  3.116269\n",
              "8    (14-2)  1998  201801   24  ...  1099.579313  226.983207  596.110922  1.888021\n",
              "9    (14-2)  1998  201808    2  ...  1099.579313  226.983207  596.110922  1.562500\n",
              "\n",
              "[10 rows x 29 columns]"
            ]
          },
          "metadata": {
            "tags": []
          },
          "execution_count": 17
        }
      ]
    },
    {
      "cell_type": "code",
      "metadata": {
        "colab": {
          "base_uri": "https://localhost:8080/"
        },
        "id": "yK-7mNHwMxlf",
        "outputId": "865a1a56-a21f-4983-fe2f-9a604b270ac7"
      },
      "source": [
        "df.dtypes"
      ],
      "execution_count": 18,
      "outputs": [
        {
          "output_type": "execute_result",
          "data": {
            "text/plain": [
              "건물명           object\n",
              "건축년도           int64\n",
              "계약년월           int64\n",
              "계약일            int64\n",
              "단지명           object\n",
              "도로명           object\n",
              "지번            object\n",
              "보증금(만원)      float64\n",
              "보증금->월세      float64\n",
              "본번             int64\n",
              "부번             int64\n",
              "법정동명          object\n",
              "월세(만원)       float64\n",
              "전용면적         float64\n",
              "전월세구분         object\n",
              "층              int64\n",
              "거주타입          object\n",
              "건물명_건물동명      object\n",
              "건물식별번호       float64\n",
              "건물연령         float64\n",
              "공동주택명         object\n",
              "공시가격         float64\n",
              "데이터기준일자       object\n",
              "위도           float64\n",
              "경도           float64\n",
              "학교까지_거리      float64\n",
              "혜화역까지_거리     float64\n",
              "한성대역까지_거리    float64\n",
              "1m당_가격       float64\n",
              "dtype: object"
            ]
          },
          "metadata": {
            "tags": []
          },
          "execution_count": 18
        }
      ]
    },
    {
      "cell_type": "markdown",
      "metadata": {
        "id": "MRjOzi0hi8n5"
      },
      "source": [
        "#Form Data Table"
      ]
    },
    {
      "cell_type": "code",
      "metadata": {
        "id": "Za84XdNdQWxE"
      },
      "source": [
        "df_arranged = df.loc[:, ['건축년도', '계약년월', '공시가격', '법정동명', '보증금->월세', '학교까지_거리', '혜화역까지_거리', '한성대역까지_거리', '1m당_가격']]\n",
        "df_arranged = df_arranged.dropna(axis=0)"
      ],
      "execution_count": 19,
      "outputs": []
    },
    {
      "cell_type": "code",
      "metadata": {
        "colab": {
          "base_uri": "https://localhost:8080/",
          "height": 359
        },
        "id": "yz9FOoHBQF8i",
        "outputId": "d3a34538-4890-4881-9bee-2e2837d0945c"
      },
      "source": [
        "df_arranged.head(10)"
      ],
      "execution_count": 20,
      "outputs": [
        {
          "output_type": "execute_result",
          "data": {
            "text/html": [
              "<div>\n",
              "<style scoped>\n",
              "    .dataframe tbody tr th:only-of-type {\n",
              "        vertical-align: middle;\n",
              "    }\n",
              "\n",
              "    .dataframe tbody tr th {\n",
              "        vertical-align: top;\n",
              "    }\n",
              "\n",
              "    .dataframe thead th {\n",
              "        text-align: right;\n",
              "    }\n",
              "</style>\n",
              "<table border=\"1\" class=\"dataframe\">\n",
              "  <thead>\n",
              "    <tr style=\"text-align: right;\">\n",
              "      <th></th>\n",
              "      <th>건축년도</th>\n",
              "      <th>계약년월</th>\n",
              "      <th>공시가격</th>\n",
              "      <th>법정동명</th>\n",
              "      <th>보증금-&gt;월세</th>\n",
              "      <th>학교까지_거리</th>\n",
              "      <th>혜화역까지_거리</th>\n",
              "      <th>한성대역까지_거리</th>\n",
              "      <th>1m당_가격</th>\n",
              "    </tr>\n",
              "  </thead>\n",
              "  <tbody>\n",
              "    <tr>\n",
              "      <th>0</th>\n",
              "      <td>1999</td>\n",
              "      <td>201804</td>\n",
              "      <td>162000000.0</td>\n",
              "      <td>서울특별시 종로구 동숭동</td>\n",
              "      <td>66.666667</td>\n",
              "      <td>1235.880709</td>\n",
              "      <td>378.810239</td>\n",
              "      <td>559.530861</td>\n",
              "      <td>1.150219</td>\n",
              "    </tr>\n",
              "    <tr>\n",
              "      <th>1</th>\n",
              "      <td>1999</td>\n",
              "      <td>201910</td>\n",
              "      <td>158000000.0</td>\n",
              "      <td>서울특별시 종로구 동숭동</td>\n",
              "      <td>73.333333</td>\n",
              "      <td>1221.044377</td>\n",
              "      <td>373.985483</td>\n",
              "      <td>545.305534</td>\n",
              "      <td>1.235816</td>\n",
              "    </tr>\n",
              "    <tr>\n",
              "      <th>2</th>\n",
              "      <td>1997</td>\n",
              "      <td>201806</td>\n",
              "      <td>122000000.0</td>\n",
              "      <td>서울특별시 종로구 동숭동</td>\n",
              "      <td>43.333333</td>\n",
              "      <td>1206.473960</td>\n",
              "      <td>322.626687</td>\n",
              "      <td>597.085546</td>\n",
              "      <td>0.918079</td>\n",
              "    </tr>\n",
              "    <tr>\n",
              "      <th>3</th>\n",
              "      <td>1997</td>\n",
              "      <td>201712</td>\n",
              "      <td>98500000.0</td>\n",
              "      <td>서울특별시 종로구 동숭동</td>\n",
              "      <td>46.666667</td>\n",
              "      <td>1197.013260</td>\n",
              "      <td>313.528991</td>\n",
              "      <td>596.535653</td>\n",
              "      <td>1.210863</td>\n",
              "    </tr>\n",
              "    <tr>\n",
              "      <th>4</th>\n",
              "      <td>1994</td>\n",
              "      <td>201802</td>\n",
              "      <td>136000000.0</td>\n",
              "      <td>서울특별시 종로구 동숭동</td>\n",
              "      <td>83.333333</td>\n",
              "      <td>1312.654556</td>\n",
              "      <td>339.899030</td>\n",
              "      <td>810.031517</td>\n",
              "      <td>1.542639</td>\n",
              "    </tr>\n",
              "    <tr>\n",
              "      <th>5</th>\n",
              "      <td>1994</td>\n",
              "      <td>201803</td>\n",
              "      <td>80700000.0</td>\n",
              "      <td>서울특별시 종로구 동숭동</td>\n",
              "      <td>66.666667</td>\n",
              "      <td>1312.654556</td>\n",
              "      <td>339.899030</td>\n",
              "      <td>810.031517</td>\n",
              "      <td>1.929012</td>\n",
              "    </tr>\n",
              "    <tr>\n",
              "      <th>6</th>\n",
              "      <td>1994</td>\n",
              "      <td>201807</td>\n",
              "      <td>136000000.0</td>\n",
              "      <td>서울특별시 종로구 동숭동</td>\n",
              "      <td>110.000000</td>\n",
              "      <td>1312.654556</td>\n",
              "      <td>339.899030</td>\n",
              "      <td>810.031517</td>\n",
              "      <td>2.036283</td>\n",
              "    </tr>\n",
              "    <tr>\n",
              "      <th>7</th>\n",
              "      <td>2014</td>\n",
              "      <td>201806</td>\n",
              "      <td>61400000.0</td>\n",
              "      <td>서울특별시 종로구 동숭동</td>\n",
              "      <td>48.333333</td>\n",
              "      <td>1256.475426</td>\n",
              "      <td>277.959329</td>\n",
              "      <td>819.514180</td>\n",
              "      <td>3.116269</td>\n",
              "    </tr>\n",
              "    <tr>\n",
              "      <th>8</th>\n",
              "      <td>1998</td>\n",
              "      <td>201801</td>\n",
              "      <td>62500000.0</td>\n",
              "      <td>서울특별시 종로구 동숭동</td>\n",
              "      <td>48.333333</td>\n",
              "      <td>1099.579313</td>\n",
              "      <td>226.983207</td>\n",
              "      <td>596.110922</td>\n",
              "      <td>1.888021</td>\n",
              "    </tr>\n",
              "    <tr>\n",
              "      <th>9</th>\n",
              "      <td>1998</td>\n",
              "      <td>201808</td>\n",
              "      <td>62500000.0</td>\n",
              "      <td>서울특별시 종로구 동숭동</td>\n",
              "      <td>40.000000</td>\n",
              "      <td>1099.579313</td>\n",
              "      <td>226.983207</td>\n",
              "      <td>596.110922</td>\n",
              "      <td>1.562500</td>\n",
              "    </tr>\n",
              "  </tbody>\n",
              "</table>\n",
              "</div>"
            ],
            "text/plain": [
              "   건축년도    계약년월         공시가격  ...    혜화역까지_거리   한성대역까지_거리    1m당_가격\n",
              "0  1999  201804  162000000.0  ...  378.810239  559.530861  1.150219\n",
              "1  1999  201910  158000000.0  ...  373.985483  545.305534  1.235816\n",
              "2  1997  201806  122000000.0  ...  322.626687  597.085546  0.918079\n",
              "3  1997  201712   98500000.0  ...  313.528991  596.535653  1.210863\n",
              "4  1994  201802  136000000.0  ...  339.899030  810.031517  1.542639\n",
              "5  1994  201803   80700000.0  ...  339.899030  810.031517  1.929012\n",
              "6  1994  201807  136000000.0  ...  339.899030  810.031517  2.036283\n",
              "7  2014  201806   61400000.0  ...  277.959329  819.514180  3.116269\n",
              "8  1998  201801   62500000.0  ...  226.983207  596.110922  1.888021\n",
              "9  1998  201808   62500000.0  ...  226.983207  596.110922  1.562500\n",
              "\n",
              "[10 rows x 9 columns]"
            ]
          },
          "metadata": {
            "tags": []
          },
          "execution_count": 20
        }
      ]
    },
    {
      "cell_type": "code",
      "metadata": {
        "id": "sV5MvA72TGPb",
        "colab": {
          "base_uri": "https://localhost:8080/"
        },
        "outputId": "c5113e75-18af-43da-a7e9-3d70355d0c4a"
      },
      "source": [
        "df_arranged.dtypes"
      ],
      "execution_count": 21,
      "outputs": [
        {
          "output_type": "execute_result",
          "data": {
            "text/plain": [
              "건축년도           int64\n",
              "계약년월           int64\n",
              "공시가격         float64\n",
              "법정동명          object\n",
              "보증금->월세      float64\n",
              "학교까지_거리      float64\n",
              "혜화역까지_거리     float64\n",
              "한성대역까지_거리    float64\n",
              "1m당_가격       float64\n",
              "dtype: object"
            ]
          },
          "metadata": {
            "tags": []
          },
          "execution_count": 21
        }
      ]
    },
    {
      "cell_type": "code",
      "metadata": {
        "id": "kKFx4cXdNFur"
      },
      "source": [
        "# 법정동 one hot encoding\n",
        "df_arranged['법정동명'] = pd.Categorical(df_arranged['법정동명'])\n",
        "df_arranged['법정동명'] = df_arranged['법정동명'].cat.codes\n",
        "\n",
        "# # float64 or int8 -> int64\n",
        "# for each in df_arranged:\n",
        "#   if df_arranged[each].dtypes == 'float64' or df_arranged[each].dtypes == 'int8':\n",
        "#     df_arranged = df_arranged.astype({each : 'int64'})"
      ],
      "execution_count": 22,
      "outputs": []
    },
    {
      "cell_type": "code",
      "metadata": {
        "colab": {
          "base_uri": "https://localhost:8080/",
          "height": 359
        },
        "id": "WZ3zYBA8xl1R",
        "outputId": "b74dd236-44a3-40e2-a48c-2e8f1f370ca7"
      },
      "source": [
        "df_arranged.head(10)"
      ],
      "execution_count": 23,
      "outputs": [
        {
          "output_type": "execute_result",
          "data": {
            "text/html": [
              "<div>\n",
              "<style scoped>\n",
              "    .dataframe tbody tr th:only-of-type {\n",
              "        vertical-align: middle;\n",
              "    }\n",
              "\n",
              "    .dataframe tbody tr th {\n",
              "        vertical-align: top;\n",
              "    }\n",
              "\n",
              "    .dataframe thead th {\n",
              "        text-align: right;\n",
              "    }\n",
              "</style>\n",
              "<table border=\"1\" class=\"dataframe\">\n",
              "  <thead>\n",
              "    <tr style=\"text-align: right;\">\n",
              "      <th></th>\n",
              "      <th>건축년도</th>\n",
              "      <th>계약년월</th>\n",
              "      <th>공시가격</th>\n",
              "      <th>법정동명</th>\n",
              "      <th>보증금-&gt;월세</th>\n",
              "      <th>학교까지_거리</th>\n",
              "      <th>혜화역까지_거리</th>\n",
              "      <th>한성대역까지_거리</th>\n",
              "      <th>1m당_가격</th>\n",
              "    </tr>\n",
              "  </thead>\n",
              "  <tbody>\n",
              "    <tr>\n",
              "      <th>0</th>\n",
              "      <td>1999</td>\n",
              "      <td>201804</td>\n",
              "      <td>162000000.0</td>\n",
              "      <td>1</td>\n",
              "      <td>66.666667</td>\n",
              "      <td>1235.880709</td>\n",
              "      <td>378.810239</td>\n",
              "      <td>559.530861</td>\n",
              "      <td>1.150219</td>\n",
              "    </tr>\n",
              "    <tr>\n",
              "      <th>1</th>\n",
              "      <td>1999</td>\n",
              "      <td>201910</td>\n",
              "      <td>158000000.0</td>\n",
              "      <td>1</td>\n",
              "      <td>73.333333</td>\n",
              "      <td>1221.044377</td>\n",
              "      <td>373.985483</td>\n",
              "      <td>545.305534</td>\n",
              "      <td>1.235816</td>\n",
              "    </tr>\n",
              "    <tr>\n",
              "      <th>2</th>\n",
              "      <td>1997</td>\n",
              "      <td>201806</td>\n",
              "      <td>122000000.0</td>\n",
              "      <td>1</td>\n",
              "      <td>43.333333</td>\n",
              "      <td>1206.473960</td>\n",
              "      <td>322.626687</td>\n",
              "      <td>597.085546</td>\n",
              "      <td>0.918079</td>\n",
              "    </tr>\n",
              "    <tr>\n",
              "      <th>3</th>\n",
              "      <td>1997</td>\n",
              "      <td>201712</td>\n",
              "      <td>98500000.0</td>\n",
              "      <td>1</td>\n",
              "      <td>46.666667</td>\n",
              "      <td>1197.013260</td>\n",
              "      <td>313.528991</td>\n",
              "      <td>596.535653</td>\n",
              "      <td>1.210863</td>\n",
              "    </tr>\n",
              "    <tr>\n",
              "      <th>4</th>\n",
              "      <td>1994</td>\n",
              "      <td>201802</td>\n",
              "      <td>136000000.0</td>\n",
              "      <td>1</td>\n",
              "      <td>83.333333</td>\n",
              "      <td>1312.654556</td>\n",
              "      <td>339.899030</td>\n",
              "      <td>810.031517</td>\n",
              "      <td>1.542639</td>\n",
              "    </tr>\n",
              "    <tr>\n",
              "      <th>5</th>\n",
              "      <td>1994</td>\n",
              "      <td>201803</td>\n",
              "      <td>80700000.0</td>\n",
              "      <td>1</td>\n",
              "      <td>66.666667</td>\n",
              "      <td>1312.654556</td>\n",
              "      <td>339.899030</td>\n",
              "      <td>810.031517</td>\n",
              "      <td>1.929012</td>\n",
              "    </tr>\n",
              "    <tr>\n",
              "      <th>6</th>\n",
              "      <td>1994</td>\n",
              "      <td>201807</td>\n",
              "      <td>136000000.0</td>\n",
              "      <td>1</td>\n",
              "      <td>110.000000</td>\n",
              "      <td>1312.654556</td>\n",
              "      <td>339.899030</td>\n",
              "      <td>810.031517</td>\n",
              "      <td>2.036283</td>\n",
              "    </tr>\n",
              "    <tr>\n",
              "      <th>7</th>\n",
              "      <td>2014</td>\n",
              "      <td>201806</td>\n",
              "      <td>61400000.0</td>\n",
              "      <td>1</td>\n",
              "      <td>48.333333</td>\n",
              "      <td>1256.475426</td>\n",
              "      <td>277.959329</td>\n",
              "      <td>819.514180</td>\n",
              "      <td>3.116269</td>\n",
              "    </tr>\n",
              "    <tr>\n",
              "      <th>8</th>\n",
              "      <td>1998</td>\n",
              "      <td>201801</td>\n",
              "      <td>62500000.0</td>\n",
              "      <td>1</td>\n",
              "      <td>48.333333</td>\n",
              "      <td>1099.579313</td>\n",
              "      <td>226.983207</td>\n",
              "      <td>596.110922</td>\n",
              "      <td>1.888021</td>\n",
              "    </tr>\n",
              "    <tr>\n",
              "      <th>9</th>\n",
              "      <td>1998</td>\n",
              "      <td>201808</td>\n",
              "      <td>62500000.0</td>\n",
              "      <td>1</td>\n",
              "      <td>40.000000</td>\n",
              "      <td>1099.579313</td>\n",
              "      <td>226.983207</td>\n",
              "      <td>596.110922</td>\n",
              "      <td>1.562500</td>\n",
              "    </tr>\n",
              "  </tbody>\n",
              "</table>\n",
              "</div>"
            ],
            "text/plain": [
              "   건축년도    계약년월         공시가격  ...    혜화역까지_거리   한성대역까지_거리    1m당_가격\n",
              "0  1999  201804  162000000.0  ...  378.810239  559.530861  1.150219\n",
              "1  1999  201910  158000000.0  ...  373.985483  545.305534  1.235816\n",
              "2  1997  201806  122000000.0  ...  322.626687  597.085546  0.918079\n",
              "3  1997  201712   98500000.0  ...  313.528991  596.535653  1.210863\n",
              "4  1994  201802  136000000.0  ...  339.899030  810.031517  1.542639\n",
              "5  1994  201803   80700000.0  ...  339.899030  810.031517  1.929012\n",
              "6  1994  201807  136000000.0  ...  339.899030  810.031517  2.036283\n",
              "7  2014  201806   61400000.0  ...  277.959329  819.514180  3.116269\n",
              "8  1998  201801   62500000.0  ...  226.983207  596.110922  1.888021\n",
              "9  1998  201808   62500000.0  ...  226.983207  596.110922  1.562500\n",
              "\n",
              "[10 rows x 9 columns]"
            ]
          },
          "metadata": {
            "tags": []
          },
          "execution_count": 23
        }
      ]
    },
    {
      "cell_type": "code",
      "metadata": {
        "colab": {
          "base_uri": "https://localhost:8080/"
        },
        "id": "wQW60ZRMl6fp",
        "outputId": "bc257e35-5184-46f6-f9e1-ed5ec9e0c395"
      },
      "source": [
        "df_arranged.dtypes"
      ],
      "execution_count": 24,
      "outputs": [
        {
          "output_type": "execute_result",
          "data": {
            "text/plain": [
              "건축년도           int64\n",
              "계약년월           int64\n",
              "공시가격         float64\n",
              "법정동명            int8\n",
              "보증금->월세      float64\n",
              "학교까지_거리      float64\n",
              "혜화역까지_거리     float64\n",
              "한성대역까지_거리    float64\n",
              "1m당_가격       float64\n",
              "dtype: object"
            ]
          },
          "metadata": {
            "tags": []
          },
          "execution_count": 24
        }
      ]
    },
    {
      "cell_type": "markdown",
      "metadata": {
        "id": "AT2kVsgrn8VG"
      },
      "source": [
        "#Preprocessing"
      ]
    },
    {
      "cell_type": "markdown",
      "metadata": {
        "id": "eHYUXKEMoGyv"
      },
      "source": [
        "#Dividing into Feature and Target"
      ]
    },
    {
      "cell_type": "markdown",
      "metadata": {
        "id": "woqKZ1MB83t1"
      },
      "source": [
        "Divide each into the features and target"
      ]
    },
    {
      "cell_type": "code",
      "metadata": {
        "id": "UpO3USQuoXV0"
      },
      "source": [
        "# target = np.array(df_arranged.pop('보증금->월세'))\n",
        "# features = np.array(df_arranged)"
      ],
      "execution_count": 25,
      "outputs": []
    },
    {
      "cell_type": "code",
      "metadata": {
        "id": "VeobU0DEZzhy"
      },
      "source": [
        "target = np.array(df_arranged.pop('1m당_가격'))\r\n",
        "features = np.array(df_arranged)"
      ],
      "execution_count": 37,
      "outputs": []
    },
    {
      "cell_type": "markdown",
      "metadata": {
        "id": "CVTdZEZ48w8y"
      },
      "source": [
        "Divede into the train, test for final model"
      ]
    },
    {
      "cell_type": "code",
      "metadata": {
        "id": "KvlHI2678wof"
      },
      "source": [
        "# X_train, X_test, y_train, y_test = train_test_split(features, \n",
        "#                                                     target, \n",
        "#                                                     test_size=0.1, \n",
        "#                                                     shuffle=False, \n",
        "#                                                     random_state=1004)"
      ],
      "execution_count": null,
      "outputs": []
    },
    {
      "cell_type": "markdown",
      "metadata": {
        "id": "s3Rq534NpluA"
      },
      "source": [
        "#Model with K-Fold"
      ]
    },
    {
      "cell_type": "markdown",
      "metadata": {
        "id": "igMpi1kovHRo"
      },
      "source": [
        "model"
      ]
    },
    {
      "cell_type": "code",
      "metadata": {
        "id": "eVocj-mepove"
      },
      "source": [
        "def build_model(feature_shape):\n",
        "    model = models.Sequential()\n",
        "    model.add(layers.Dense(64, activation='relu',\n",
        "                           input_shape=(feature_shape,)))\n",
        "    model.add(layers.Dense(64, activation='relu'))\n",
        "    model.add(layers.Dense(1))\n",
        "    model.compile(optimizer='rmsprop', loss='mse', metrics=['mae'])\n",
        "    return model"
      ],
      "execution_count": 26,
      "outputs": []
    },
    {
      "cell_type": "markdown",
      "metadata": {
        "id": "irrNUqFOvJAj"
      },
      "source": [
        "k-fold croos-validation"
      ]
    },
    {
      "cell_type": "code",
      "metadata": {
        "colab": {
          "base_uri": "https://localhost:8080/"
        },
        "id": "ycS-VDY8vE_M",
        "outputId": "6f4982dc-b4ae-4402-eacd-7eee8ef16c35"
      },
      "source": [
        "# normally 4 or 5\n",
        "k = 4 \n",
        "\n",
        "num_val_samples = len(features) // k\n",
        "num_epochs = 40\n",
        "all_scores = []\n",
        "all_mae_histories = []\n",
        "for i in range(k):\n",
        "    print('처리중인 폴드 #', i)\n",
        "    val_data = features[i * num_val_samples: (i + 1) * num_val_samples]  # 검증 데이터 준비: k번째 분할\n",
        "    val_targets = target[i * num_val_samples: (i + 1) * num_val_samples]\n",
        "\n",
        "    partial_train_data = np.concatenate(  # 훈련 데이터 준비: 다른 분할 전체\n",
        "        [features[:i * num_val_samples],\n",
        "         features[(i + 1) * num_val_samples:]],\n",
        "        axis=0)\n",
        "    partial_train_targets = np.concatenate(\n",
        "        [target[:i * num_val_samples],\n",
        "        target[(i + 1) * num_val_samples:]],\n",
        "        axis=0)\n",
        "\n",
        "    model = build_model(features.shape[1])  # 케라스 모델 구성(컴파일 포함)\n",
        "    history = model.fit(partial_train_data, partial_train_targets,  # 모델 훈련(verbose=0이므로 훈련 과정이 출력되지 않습니다.)\n",
        "              epochs=num_epochs, batch_size=1, verbose=0)\n",
        "    val_mse, val_mae = model.evaluate(val_data, val_targets, verbose=0)  # 검증 세트로 모델 평가\n",
        "    all_scores.append(val_mae)\n",
        "    mae_history = history.history['mae']\n",
        "    all_mae_histories.append(mae_history)"
      ],
      "execution_count": 38,
      "outputs": [
        {
          "output_type": "stream",
          "text": [
            "처리중인 폴드 # 0\n",
            "처리중인 폴드 # 1\n",
            "처리중인 폴드 # 2\n",
            "처리중인 폴드 # 3\n"
          ],
          "name": "stdout"
        }
      ]
    },
    {
      "cell_type": "code",
      "metadata": {
        "colab": {
          "base_uri": "https://localhost:8080/"
        },
        "id": "f8KXbAao-5TM",
        "outputId": "265c9106-17b0-475c-a921-4bb3a89482f8"
      },
      "source": [
        "#거리 추가, 1m2당 가격으로 전환 전\r\n",
        "#all_scores"
      ],
      "execution_count": null,
      "outputs": [
        {
          "output_type": "execute_result",
          "data": {
            "text/plain": [
              "[51.13697814941406, 42.92242431640625, 65.04145812988281, 48.372886657714844]"
            ]
          },
          "metadata": {
            "tags": []
          },
          "execution_count": 164
        }
      ]
    },
    {
      "cell_type": "code",
      "metadata": {
        "colab": {
          "base_uri": "https://localhost:8080/"
        },
        "id": "aLGgWtLNZejC",
        "outputId": "dc547a4b-7f5c-4bae-9ae6-e6537f624ec7"
      },
      "source": [
        "# 거리만 추가, epoch 40\r\n",
        "all_scores"
      ],
      "execution_count": 36,
      "outputs": [
        {
          "output_type": "execute_result",
          "data": {
            "text/plain": [
              "[48.61420822143555, 43.31092834472656, 65.10830688476562, 1183.0198974609375]"
            ]
          },
          "metadata": {
            "tags": []
          },
          "execution_count": 36
        }
      ]
    },
    {
      "cell_type": "code",
      "metadata": {
        "colab": {
          "base_uri": "https://localhost:8080/"
        },
        "id": "tMe2FaKOaRw-",
        "outputId": "11b91743-b1a6-450b-c188-9fafc7ee0532"
      },
      "source": [
        "all_scores"
      ],
      "execution_count": 39,
      "outputs": [
        {
          "output_type": "execute_result",
          "data": {
            "text/plain": [
              "[3.4825620651245117,\n",
              " 0.6292937397956848,\n",
              " 0.7432553768157959,\n",
              " 0.8387060761451721]"
            ]
          },
          "metadata": {
            "tags": []
          },
          "execution_count": 39
        }
      ]
    },
    {
      "cell_type": "code",
      "metadata": {
        "colab": {
          "base_uri": "https://localhost:8080/"
        },
        "id": "4KpHfs0TaUVS",
        "outputId": "cdb8468b-760e-46ce-86db-9781b24a884c"
      },
      "source": [
        "np.mean(all_scores)"
      ],
      "execution_count": 40,
      "outputs": [
        {
          "output_type": "execute_result",
          "data": {
            "text/plain": [
              "1.4234543144702911"
            ]
          },
          "metadata": {
            "tags": []
          },
          "execution_count": 40
        }
      ]
    },
    {
      "cell_type": "code",
      "metadata": {
        "id": "pfAVzHxVBv7c"
      },
      "source": [
        "average_mae_history = [\n",
        "    np.mean([x[i] for x in all_mae_histories]) for i in range(num_epochs)]"
      ],
      "execution_count": 41,
      "outputs": []
    },
    {
      "cell_type": "code",
      "metadata": {
        "colab": {
          "base_uri": "https://localhost:8080/",
          "height": 290
        },
        "id": "jDLE4kEYB_zz",
        "outputId": "30a6232d-9c06-4b02-945a-f62871cf307b"
      },
      "source": [
        "import matplotlib.pyplot as plt\n",
        "\n",
        "plt.plot(range(1, len(average_mae_history) + 1), average_mae_history)\n",
        "plt.xlabel('Epochs')\n",
        "plt.ylabel('Validation MAE')\n",
        "plt.show()"
      ],
      "execution_count": 42,
      "outputs": [
        {
          "output_type": "display_data",
          "data": {
            "image/png": "[encoded data removed]",
            "text/plain": [
              "<Figure size 432x288 with 1 Axes>"
            ]
          },
          "metadata": {
            "tags": [],
            "needs_background": "light"
          }
        }
      ]
    },
    {
      "cell_type": "code",
      "metadata": {
        "id": "wfGvfyLVCIPl"
      },
      "source": [
        "# def smooth_curve(points, factor=0.9):\n",
        "#     smoothed_points = []\n",
        "#     for point in points:\n",
        "#         if smoothed_points:\n",
        "#             previous = smoothed_points[-1]\n",
        "#             smoothed_points.append(previous * factor + point * (1 - factor))\n",
        "#         else:\n",
        "#             smoothed_points.append(point)\n",
        "#     return smoothed_points\n",
        "\n",
        "# smooth_mae_history = smooth_curve(average_mae_history[10:])\n",
        "\n",
        "# plt.plot(range(1, len(smooth_mae_history) + 1), smooth_mae_history)\n",
        "# plt.xlabel('Epochs')\n",
        "# plt.ylabel('Validation MAE')\n",
        "# plt.show()"
      ],
      "execution_count": null,
      "outputs": []
    },
    {
      "cell_type": "markdown",
      "metadata": {
        "id": "zhmM49TlCQJZ"
      },
      "source": [
        "#Final Test"
      ]
    },
    {
      "cell_type": "code",
      "metadata": {
        "id": "k9hLEojKCt76"
      },
      "source": [
        "model = build_model()  # 새롭게 컴파일된 모델을 얻습니다.\n",
        "model.fit(X_train, y_train,  # 전체 데이터로 훈련시킵니다.\n",
        "          epochs=80, batch_size=16, verbose=0)\n",
        "test_mse_score, test_mae_score = model.evaluate(X_test, y_test)"
      ],
      "execution_count": null,
      "outputs": []
    },
    {
      "cell_type": "markdown",
      "metadata": {
        "id": "Q3CraUHotv49"
      },
      "source": [
        "#Reference"
      ]
    },
    {
      "cell_type": "markdown",
      "metadata": {
        "id": "W3OPjHE1tylK"
      },
      "source": [
        "3.6 주택 가격 예측: 회귀 문제 : \n",
        "https://tensorflow.blog/%EC%BC%80%EB%9D%BC%EC%8A%A4-%EB%94%A5%EB%9F%AC%EB%8B%9D/3-6-%EC%A3%BC%ED%83%9D-%EA%B0%80%EA%B2%A9-%EC%98%88%EC%B8%A1-%ED%9A%8C%EA%B7%80-%EB%AC%B8%EC%A0%9C/"
      ]
    }
  ]
}