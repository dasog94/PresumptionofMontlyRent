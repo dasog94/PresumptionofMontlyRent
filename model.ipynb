{
  "nbformat": 4,
  "nbformat_minor": 0,
  "metadata": {
    "colab": {
      "name": "model.ipynb",
      "provenance": [],
      "collapsed_sections": [
        "CF_Mpbb4ij9u",
        "MRjOzi0hi8n5",
        "Q3CraUHotv49"
      ],
      "authorship_tag": "ABX9TyMYa+9jSByMuKiiqEaI748I",
      "include_colab_link": true
    },
    "kernelspec": {
      "name": "python3",
      "display_name": "Python 3"
    }
  },
  "cells": [
    {
      "cell_type": "markdown",
      "metadata": {
        "id": "view-in-github",
        "colab_type": "text"
      },
      "source": [
        "<a href=\"https://colab.research.google.com/github/dasog94/PresumptionofMontlyRent/blob/main/model.ipynb\" target=\"_parent\"><img src=\"https://colab.research.google.com/assets/colab-badge.svg\" alt=\"Open In Colab\"/></a>"
      ]
    },
    {
      "cell_type": "code",
      "metadata": {
        "id": "dXt223snuJti",
        "colab": {
          "base_uri": "https://localhost:8080/"
        },
        "outputId": "20232d84-5a40-4447-f169-0414d13d647c"
      },
      "source": [
        "from google.colab import drive\n",
        "drive.mount('/content/gdrive/')"
      ],
      "execution_count": 1,
      "outputs": [
        {
          "output_type": "stream",
          "text": [
            "Mounted at /content/gdrive/\n"
          ],
          "name": "stdout"
        }
      ]
    },
    {
      "cell_type": "markdown",
      "metadata": {
        "id": "169Oanwnigvy"
      },
      "source": [
        "#Libs"
      ]
    },
    {
      "cell_type": "code",
      "metadata": {
        "id": "vaeVZ3vYOOAJ"
      },
      "source": [
        "import pandas as pd\n",
        "import tensorflow as tf\n",
        "import numpy as np\n",
        "from sklearn.model_selection import train_test_split"
      ],
      "execution_count": 128,
      "outputs": []
    },
    {
      "cell_type": "markdown",
      "metadata": {
        "id": "CF_Mpbb4ij9u"
      },
      "source": [
        "#Load Data"
      ]
    },
    {
      "cell_type": "code",
      "metadata": {
        "id": "wO1RBFVoOO-J"
      },
      "source": [
        "df = pd.read_csv('/content/gdrive/My Drive/recommend_system/tracer/Merged_data.csv', encoding='CP949')"
      ],
      "execution_count": 59,
      "outputs": []
    },
    {
      "cell_type": "code",
      "metadata": {
        "colab": {
          "base_uri": "https://localhost:8080/",
          "height": 0
        },
        "id": "8QSZdcYjQhtk",
        "outputId": "8d5d2411-8936-4229-f2e4-f1e0facc026f"
      },
      "source": [
        "df.head(10)"
      ],
      "execution_count": 60,
      "outputs": [
        {
          "output_type": "execute_result",
          "data": {
            "text/html": [
              "<div>\n",
              "<style scoped>\n",
              "    .dataframe tbody tr th:only-of-type {\n",
              "        vertical-align: middle;\n",
              "    }\n",
              "\n",
              "    .dataframe tbody tr th {\n",
              "        vertical-align: top;\n",
              "    }\n",
              "\n",
              "    .dataframe thead th {\n",
              "        text-align: right;\n",
              "    }\n",
              "</style>\n",
              "<table border=\"1\" class=\"dataframe\">\n",
              "  <thead>\n",
              "    <tr style=\"text-align: right;\">\n",
              "      <th></th>\n",
              "      <th>건물명</th>\n",
              "      <th>건축년도</th>\n",
              "      <th>계약년월</th>\n",
              "      <th>계약일</th>\n",
              "      <th>단지명</th>\n",
              "      <th>도로명</th>\n",
              "      <th>지번</th>\n",
              "      <th>보증금(만원)</th>\n",
              "      <th>보증금-&gt;월세</th>\n",
              "      <th>본번</th>\n",
              "      <th>부번</th>\n",
              "      <th>법정동명</th>\n",
              "      <th>월세(만원)</th>\n",
              "      <th>전용면적</th>\n",
              "      <th>전월세구분</th>\n",
              "      <th>층</th>\n",
              "      <th>거주타입</th>\n",
              "      <th>건물명_건물동명</th>\n",
              "      <th>건물식별번호</th>\n",
              "      <th>건물연령</th>\n",
              "      <th>공동주택명</th>\n",
              "      <th>공시가격</th>\n",
              "      <th>데이터기준일자</th>\n",
              "    </tr>\n",
              "  </thead>\n",
              "  <tbody>\n",
              "    <tr>\n",
              "      <th>0</th>\n",
              "      <td>NaN</td>\n",
              "      <td>1999</td>\n",
              "      <td>201804</td>\n",
              "      <td>13</td>\n",
              "      <td>동성아파트(1동)</td>\n",
              "      <td>동숭4라길 29</td>\n",
              "      <td>4-161</td>\n",
              "      <td>20000.0</td>\n",
              "      <td>66.666667</td>\n",
              "      <td>4</td>\n",
              "      <td>161</td>\n",
              "      <td>서울특별시 종로구 동숭동</td>\n",
              "      <td>0.0</td>\n",
              "      <td>57.96</td>\n",
              "      <td>전세</td>\n",
              "      <td>3</td>\n",
              "      <td>아파트&amp;오피스텔</td>\n",
              "      <td>동성아파트 1동</td>\n",
              "      <td>24809.0</td>\n",
              "      <td>22.0</td>\n",
              "      <td>동성아파트(1동)</td>\n",
              "      <td>162000000.0</td>\n",
              "      <td>2020-07-27</td>\n",
              "    </tr>\n",
              "    <tr>\n",
              "      <th>1</th>\n",
              "      <td>NaN</td>\n",
              "      <td>1999</td>\n",
              "      <td>201910</td>\n",
              "      <td>18</td>\n",
              "      <td>동성아파트(2동)</td>\n",
              "      <td>동숭4라길 27</td>\n",
              "      <td>4-157</td>\n",
              "      <td>22000.0</td>\n",
              "      <td>73.333333</td>\n",
              "      <td>4</td>\n",
              "      <td>157</td>\n",
              "      <td>서울특별시 종로구 동숭동</td>\n",
              "      <td>0.0</td>\n",
              "      <td>59.34</td>\n",
              "      <td>전세</td>\n",
              "      <td>6</td>\n",
              "      <td>아파트&amp;오피스텔</td>\n",
              "      <td>동성아파트 2동</td>\n",
              "      <td>29649.0</td>\n",
              "      <td>22.0</td>\n",
              "      <td>동성아파트(2동)</td>\n",
              "      <td>158000000.0</td>\n",
              "      <td>2020-07-27</td>\n",
              "    </tr>\n",
              "    <tr>\n",
              "      <th>2</th>\n",
              "      <td>(129-23)</td>\n",
              "      <td>1997</td>\n",
              "      <td>201806</td>\n",
              "      <td>2</td>\n",
              "      <td>NaN</td>\n",
              "      <td>동숭4나길 28-1</td>\n",
              "      <td>129-23</td>\n",
              "      <td>13000.0</td>\n",
              "      <td>43.333333</td>\n",
              "      <td>129</td>\n",
              "      <td>23</td>\n",
              "      <td>서울특별시 종로구 동숭동</td>\n",
              "      <td>0.0</td>\n",
              "      <td>47.20</td>\n",
              "      <td>전세</td>\n",
              "      <td>4</td>\n",
              "      <td>연립다세대</td>\n",
              "      <td>예일하우스</td>\n",
              "      <td>17641.0</td>\n",
              "      <td>24.0</td>\n",
              "      <td>(129-23)</td>\n",
              "      <td>122000000.0</td>\n",
              "      <td>2020-07-27</td>\n",
              "    </tr>\n",
              "    <tr>\n",
              "      <th>3</th>\n",
              "      <td>(129-24)</td>\n",
              "      <td>1997</td>\n",
              "      <td>201712</td>\n",
              "      <td>9</td>\n",
              "      <td>NaN</td>\n",
              "      <td>동숭4나길 28</td>\n",
              "      <td>129-24</td>\n",
              "      <td>14000.0</td>\n",
              "      <td>46.666667</td>\n",
              "      <td>129</td>\n",
              "      <td>24</td>\n",
              "      <td>서울특별시 종로구 동숭동</td>\n",
              "      <td>0.0</td>\n",
              "      <td>38.54</td>\n",
              "      <td>전세</td>\n",
              "      <td>4</td>\n",
              "      <td>연립다세대</td>\n",
              "      <td>0</td>\n",
              "      <td>22280.0</td>\n",
              "      <td>24.0</td>\n",
              "      <td>(129-24)</td>\n",
              "      <td>98500000.0</td>\n",
              "      <td>2020-07-27</td>\n",
              "    </tr>\n",
              "    <tr>\n",
              "      <th>4</th>\n",
              "      <td>(129-74)</td>\n",
              "      <td>1994</td>\n",
              "      <td>201802</td>\n",
              "      <td>20</td>\n",
              "      <td>NaN</td>\n",
              "      <td>낙산1길 22-1</td>\n",
              "      <td>129-74</td>\n",
              "      <td>25000.0</td>\n",
              "      <td>83.333333</td>\n",
              "      <td>129</td>\n",
              "      <td>74</td>\n",
              "      <td>서울특별시 종로구 동숭동</td>\n",
              "      <td>0.0</td>\n",
              "      <td>54.02</td>\n",
              "      <td>전세</td>\n",
              "      <td>2</td>\n",
              "      <td>연립다세대</td>\n",
              "      <td>0</td>\n",
              "      <td>10769.0</td>\n",
              "      <td>27.0</td>\n",
              "      <td>(129-74)</td>\n",
              "      <td>136000000.0</td>\n",
              "      <td>2020-07-27</td>\n",
              "    </tr>\n",
              "    <tr>\n",
              "      <th>5</th>\n",
              "      <td>(129-74)</td>\n",
              "      <td>1994</td>\n",
              "      <td>201803</td>\n",
              "      <td>26</td>\n",
              "      <td>NaN</td>\n",
              "      <td>낙산1길 22-1</td>\n",
              "      <td>129-74</td>\n",
              "      <td>20000.0</td>\n",
              "      <td>66.666667</td>\n",
              "      <td>129</td>\n",
              "      <td>74</td>\n",
              "      <td>서울특별시 종로구 동숭동</td>\n",
              "      <td>0.0</td>\n",
              "      <td>34.56</td>\n",
              "      <td>전세</td>\n",
              "      <td>1</td>\n",
              "      <td>연립다세대</td>\n",
              "      <td>0</td>\n",
              "      <td>10769.0</td>\n",
              "      <td>27.0</td>\n",
              "      <td>(129-74)</td>\n",
              "      <td>80700000.0</td>\n",
              "      <td>2020-07-27</td>\n",
              "    </tr>\n",
              "    <tr>\n",
              "      <th>6</th>\n",
              "      <td>(129-74)</td>\n",
              "      <td>1994</td>\n",
              "      <td>201807</td>\n",
              "      <td>28</td>\n",
              "      <td>NaN</td>\n",
              "      <td>낙산1길 22-1</td>\n",
              "      <td>129-74</td>\n",
              "      <td>33000.0</td>\n",
              "      <td>110.000000</td>\n",
              "      <td>129</td>\n",
              "      <td>74</td>\n",
              "      <td>서울특별시 종로구 동숭동</td>\n",
              "      <td>0.0</td>\n",
              "      <td>54.02</td>\n",
              "      <td>전세</td>\n",
              "      <td>2</td>\n",
              "      <td>연립다세대</td>\n",
              "      <td>0</td>\n",
              "      <td>10769.0</td>\n",
              "      <td>27.0</td>\n",
              "      <td>(129-74)</td>\n",
              "      <td>136000000.0</td>\n",
              "      <td>2020-07-27</td>\n",
              "    </tr>\n",
              "    <tr>\n",
              "      <th>7</th>\n",
              "      <td>(130-7)</td>\n",
              "      <td>2014</td>\n",
              "      <td>201806</td>\n",
              "      <td>27</td>\n",
              "      <td>NaN</td>\n",
              "      <td>동숭2길 13-3</td>\n",
              "      <td>130-7</td>\n",
              "      <td>1000.0</td>\n",
              "      <td>48.333333</td>\n",
              "      <td>130</td>\n",
              "      <td>7</td>\n",
              "      <td>서울특별시 종로구 동숭동</td>\n",
              "      <td>45.0</td>\n",
              "      <td>15.51</td>\n",
              "      <td>월세</td>\n",
              "      <td>1</td>\n",
              "      <td>연립다세대</td>\n",
              "      <td>0</td>\n",
              "      <td>NaN</td>\n",
              "      <td>NaN</td>\n",
              "      <td>(130-7)</td>\n",
              "      <td>61400000.0</td>\n",
              "      <td>2020-07-27</td>\n",
              "    </tr>\n",
              "    <tr>\n",
              "      <th>8</th>\n",
              "      <td>(14-2)</td>\n",
              "      <td>1998</td>\n",
              "      <td>201801</td>\n",
              "      <td>24</td>\n",
              "      <td>NaN</td>\n",
              "      <td>동숭4나길 5</td>\n",
              "      <td>14-2</td>\n",
              "      <td>7000.0</td>\n",
              "      <td>48.333333</td>\n",
              "      <td>14</td>\n",
              "      <td>2</td>\n",
              "      <td>서울특별시 종로구 동숭동</td>\n",
              "      <td>25.0</td>\n",
              "      <td>25.60</td>\n",
              "      <td>월세</td>\n",
              "      <td>2</td>\n",
              "      <td>연립다세대</td>\n",
              "      <td>0</td>\n",
              "      <td>10902.0</td>\n",
              "      <td>23.0</td>\n",
              "      <td>(14-2)</td>\n",
              "      <td>62500000.0</td>\n",
              "      <td>2020-07-27</td>\n",
              "    </tr>\n",
              "    <tr>\n",
              "      <th>9</th>\n",
              "      <td>(14-2)</td>\n",
              "      <td>1998</td>\n",
              "      <td>201808</td>\n",
              "      <td>2</td>\n",
              "      <td>NaN</td>\n",
              "      <td>동숭4나길 5</td>\n",
              "      <td>14-2</td>\n",
              "      <td>9000.0</td>\n",
              "      <td>40.000000</td>\n",
              "      <td>14</td>\n",
              "      <td>2</td>\n",
              "      <td>서울특별시 종로구 동숭동</td>\n",
              "      <td>10.0</td>\n",
              "      <td>25.60</td>\n",
              "      <td>월세</td>\n",
              "      <td>4</td>\n",
              "      <td>연립다세대</td>\n",
              "      <td>0</td>\n",
              "      <td>10902.0</td>\n",
              "      <td>23.0</td>\n",
              "      <td>(14-2)</td>\n",
              "      <td>62500000.0</td>\n",
              "      <td>2020-07-27</td>\n",
              "    </tr>\n",
              "  </tbody>\n",
              "</table>\n",
              "</div>"
            ],
            "text/plain": [
              "        건물명  건축년도    계약년월  계약일  ...  건물연령      공동주택명         공시가격     데이터기준일자\n",
              "0       NaN  1999  201804   13  ...  22.0  동성아파트(1동)  162000000.0  2020-07-27\n",
              "1       NaN  1999  201910   18  ...  22.0  동성아파트(2동)  158000000.0  2020-07-27\n",
              "2  (129-23)  1997  201806    2  ...  24.0   (129-23)  122000000.0  2020-07-27\n",
              "3  (129-24)  1997  201712    9  ...  24.0   (129-24)   98500000.0  2020-07-27\n",
              "4  (129-74)  1994  201802   20  ...  27.0   (129-74)  136000000.0  2020-07-27\n",
              "5  (129-74)  1994  201803   26  ...  27.0   (129-74)   80700000.0  2020-07-27\n",
              "6  (129-74)  1994  201807   28  ...  27.0   (129-74)  136000000.0  2020-07-27\n",
              "7   (130-7)  2014  201806   27  ...   NaN    (130-7)   61400000.0  2020-07-27\n",
              "8    (14-2)  1998  201801   24  ...  23.0     (14-2)   62500000.0  2020-07-27\n",
              "9    (14-2)  1998  201808    2  ...  23.0     (14-2)   62500000.0  2020-07-27\n",
              "\n",
              "[10 rows x 23 columns]"
            ]
          },
          "metadata": {
            "tags": []
          },
          "execution_count": 60
        }
      ]
    },
    {
      "cell_type": "code",
      "metadata": {
        "colab": {
          "base_uri": "https://localhost:8080/"
        },
        "id": "yK-7mNHwMxlf",
        "outputId": "b976a2f8-43e5-42cb-acf7-1ef79f28a33b"
      },
      "source": [
        "df.dtypes"
      ],
      "execution_count": 61,
      "outputs": [
        {
          "output_type": "execute_result",
          "data": {
            "text/plain": [
              "건물명          object\n",
              "건축년도          int64\n",
              "계약년월          int64\n",
              "계약일           int64\n",
              "단지명          object\n",
              "도로명          object\n",
              "지번           object\n",
              "보증금(만원)     float64\n",
              "보증금->월세     float64\n",
              "본번            int64\n",
              "부번            int64\n",
              "법정동명         object\n",
              "월세(만원)      float64\n",
              "전용면적        float64\n",
              "전월세구분        object\n",
              "층             int64\n",
              "거주타입         object\n",
              "건물명_건물동명     object\n",
              "건물식별번호      float64\n",
              "건물연령        float64\n",
              "공동주택명        object\n",
              "공시가격        float64\n",
              "데이터기준일자      object\n",
              "dtype: object"
            ]
          },
          "metadata": {
            "tags": []
          },
          "execution_count": 61
        }
      ]
    },
    {
      "cell_type": "markdown",
      "metadata": {
        "id": "MRjOzi0hi8n5"
      },
      "source": [
        "#Form Data Table"
      ]
    },
    {
      "cell_type": "code",
      "metadata": {
        "id": "Za84XdNdQWxE"
      },
      "source": [
        "df_arranged = df.loc[:, ['건축년도', '계약년월', '공시가격', '법정동명', '보증금->월세']]\n",
        "df_arranged = df_arranged.dropna(axis=0)"
      ],
      "execution_count": 139,
      "outputs": []
    },
    {
      "cell_type": "code",
      "metadata": {
        "colab": {
          "base_uri": "https://localhost:8080/",
          "height": 0
        },
        "id": "yz9FOoHBQF8i",
        "outputId": "98b914c8-8d8e-490f-f550-690888d32d6d"
      },
      "source": [
        "df_arranged.head(10)"
      ],
      "execution_count": 140,
      "outputs": [
        {
          "output_type": "execute_result",
          "data": {
            "text/html": [
              "<div>\n",
              "<style scoped>\n",
              "    .dataframe tbody tr th:only-of-type {\n",
              "        vertical-align: middle;\n",
              "    }\n",
              "\n",
              "    .dataframe tbody tr th {\n",
              "        vertical-align: top;\n",
              "    }\n",
              "\n",
              "    .dataframe thead th {\n",
              "        text-align: right;\n",
              "    }\n",
              "</style>\n",
              "<table border=\"1\" class=\"dataframe\">\n",
              "  <thead>\n",
              "    <tr style=\"text-align: right;\">\n",
              "      <th></th>\n",
              "      <th>건축년도</th>\n",
              "      <th>계약년월</th>\n",
              "      <th>공시가격</th>\n",
              "      <th>법정동명</th>\n",
              "      <th>보증금-&gt;월세</th>\n",
              "    </tr>\n",
              "  </thead>\n",
              "  <tbody>\n",
              "    <tr>\n",
              "      <th>0</th>\n",
              "      <td>1999</td>\n",
              "      <td>201804</td>\n",
              "      <td>162000000.0</td>\n",
              "      <td>서울특별시 종로구 동숭동</td>\n",
              "      <td>66.666667</td>\n",
              "    </tr>\n",
              "    <tr>\n",
              "      <th>1</th>\n",
              "      <td>1999</td>\n",
              "      <td>201910</td>\n",
              "      <td>158000000.0</td>\n",
              "      <td>서울특별시 종로구 동숭동</td>\n",
              "      <td>73.333333</td>\n",
              "    </tr>\n",
              "    <tr>\n",
              "      <th>2</th>\n",
              "      <td>1997</td>\n",
              "      <td>201806</td>\n",
              "      <td>122000000.0</td>\n",
              "      <td>서울특별시 종로구 동숭동</td>\n",
              "      <td>43.333333</td>\n",
              "    </tr>\n",
              "    <tr>\n",
              "      <th>3</th>\n",
              "      <td>1997</td>\n",
              "      <td>201712</td>\n",
              "      <td>98500000.0</td>\n",
              "      <td>서울특별시 종로구 동숭동</td>\n",
              "      <td>46.666667</td>\n",
              "    </tr>\n",
              "    <tr>\n",
              "      <th>4</th>\n",
              "      <td>1994</td>\n",
              "      <td>201802</td>\n",
              "      <td>136000000.0</td>\n",
              "      <td>서울특별시 종로구 동숭동</td>\n",
              "      <td>83.333333</td>\n",
              "    </tr>\n",
              "    <tr>\n",
              "      <th>5</th>\n",
              "      <td>1994</td>\n",
              "      <td>201803</td>\n",
              "      <td>80700000.0</td>\n",
              "      <td>서울특별시 종로구 동숭동</td>\n",
              "      <td>66.666667</td>\n",
              "    </tr>\n",
              "    <tr>\n",
              "      <th>6</th>\n",
              "      <td>1994</td>\n",
              "      <td>201807</td>\n",
              "      <td>136000000.0</td>\n",
              "      <td>서울특별시 종로구 동숭동</td>\n",
              "      <td>110.000000</td>\n",
              "    </tr>\n",
              "    <tr>\n",
              "      <th>7</th>\n",
              "      <td>2014</td>\n",
              "      <td>201806</td>\n",
              "      <td>61400000.0</td>\n",
              "      <td>서울특별시 종로구 동숭동</td>\n",
              "      <td>48.333333</td>\n",
              "    </tr>\n",
              "    <tr>\n",
              "      <th>8</th>\n",
              "      <td>1998</td>\n",
              "      <td>201801</td>\n",
              "      <td>62500000.0</td>\n",
              "      <td>서울특별시 종로구 동숭동</td>\n",
              "      <td>48.333333</td>\n",
              "    </tr>\n",
              "    <tr>\n",
              "      <th>9</th>\n",
              "      <td>1998</td>\n",
              "      <td>201808</td>\n",
              "      <td>62500000.0</td>\n",
              "      <td>서울특별시 종로구 동숭동</td>\n",
              "      <td>40.000000</td>\n",
              "    </tr>\n",
              "  </tbody>\n",
              "</table>\n",
              "</div>"
            ],
            "text/plain": [
              "   건축년도    계약년월         공시가격           법정동명     보증금->월세\n",
              "0  1999  201804  162000000.0  서울특별시 종로구 동숭동   66.666667\n",
              "1  1999  201910  158000000.0  서울특별시 종로구 동숭동   73.333333\n",
              "2  1997  201806  122000000.0  서울특별시 종로구 동숭동   43.333333\n",
              "3  1997  201712   98500000.0  서울특별시 종로구 동숭동   46.666667\n",
              "4  1994  201802  136000000.0  서울특별시 종로구 동숭동   83.333333\n",
              "5  1994  201803   80700000.0  서울특별시 종로구 동숭동   66.666667\n",
              "6  1994  201807  136000000.0  서울특별시 종로구 동숭동  110.000000\n",
              "7  2014  201806   61400000.0  서울특별시 종로구 동숭동   48.333333\n",
              "8  1998  201801   62500000.0  서울특별시 종로구 동숭동   48.333333\n",
              "9  1998  201808   62500000.0  서울특별시 종로구 동숭동   40.000000"
            ]
          },
          "metadata": {
            "tags": []
          },
          "execution_count": 140
        }
      ]
    },
    {
      "cell_type": "code",
      "metadata": {
        "id": "sV5MvA72TGPb",
        "colab": {
          "base_uri": "https://localhost:8080/"
        },
        "outputId": "7215d4a5-cc7e-48b0-dd60-f7a5e9015230"
      },
      "source": [
        "df_arranged.dtypes"
      ],
      "execution_count": 141,
      "outputs": [
        {
          "output_type": "execute_result",
          "data": {
            "text/plain": [
              "건축년도         int64\n",
              "계약년월         int64\n",
              "공시가격       float64\n",
              "법정동명        object\n",
              "보증금->월세    float64\n",
              "dtype: object"
            ]
          },
          "metadata": {
            "tags": []
          },
          "execution_count": 141
        }
      ]
    },
    {
      "cell_type": "code",
      "metadata": {
        "id": "kKFx4cXdNFur"
      },
      "source": [
        "# 법정동 one hot encoding\n",
        "df_arranged['법정동명'] = pd.Categorical(df_arranged['법정동명'])\n",
        "df_arranged['법정동명'] = df_arranged['법정동명'].cat.codes\n",
        "\n",
        "# float94 or int8 -> int64\n",
        "for each in df_arranged:\n",
        "  if df_arranged[each].dtypes == 'float64' or df_arranged[each].dtypes == 'int8':\n",
        "    df_arranged = df_arranged.astype({each : 'int64'})"
      ],
      "execution_count": 142,
      "outputs": []
    },
    {
      "cell_type": "code",
      "metadata": {
        "colab": {
          "base_uri": "https://localhost:8080/",
          "height": 0
        },
        "id": "WZ3zYBA8xl1R",
        "outputId": "5dfe52e3-78a8-471c-ef44-98045d2f2593"
      },
      "source": [
        "df_arranged.head(10)"
      ],
      "execution_count": 143,
      "outputs": [
        {
          "output_type": "execute_result",
          "data": {
            "text/html": [
              "<div>\n",
              "<style scoped>\n",
              "    .dataframe tbody tr th:only-of-type {\n",
              "        vertical-align: middle;\n",
              "    }\n",
              "\n",
              "    .dataframe tbody tr th {\n",
              "        vertical-align: top;\n",
              "    }\n",
              "\n",
              "    .dataframe thead th {\n",
              "        text-align: right;\n",
              "    }\n",
              "</style>\n",
              "<table border=\"1\" class=\"dataframe\">\n",
              "  <thead>\n",
              "    <tr style=\"text-align: right;\">\n",
              "      <th></th>\n",
              "      <th>건축년도</th>\n",
              "      <th>계약년월</th>\n",
              "      <th>공시가격</th>\n",
              "      <th>법정동명</th>\n",
              "      <th>보증금-&gt;월세</th>\n",
              "    </tr>\n",
              "  </thead>\n",
              "  <tbody>\n",
              "    <tr>\n",
              "      <th>0</th>\n",
              "      <td>1999</td>\n",
              "      <td>201804</td>\n",
              "      <td>162000000</td>\n",
              "      <td>1</td>\n",
              "      <td>66</td>\n",
              "    </tr>\n",
              "    <tr>\n",
              "      <th>1</th>\n",
              "      <td>1999</td>\n",
              "      <td>201910</td>\n",
              "      <td>158000000</td>\n",
              "      <td>1</td>\n",
              "      <td>73</td>\n",
              "    </tr>\n",
              "    <tr>\n",
              "      <th>2</th>\n",
              "      <td>1997</td>\n",
              "      <td>201806</td>\n",
              "      <td>122000000</td>\n",
              "      <td>1</td>\n",
              "      <td>43</td>\n",
              "    </tr>\n",
              "    <tr>\n",
              "      <th>3</th>\n",
              "      <td>1997</td>\n",
              "      <td>201712</td>\n",
              "      <td>98500000</td>\n",
              "      <td>1</td>\n",
              "      <td>46</td>\n",
              "    </tr>\n",
              "    <tr>\n",
              "      <th>4</th>\n",
              "      <td>1994</td>\n",
              "      <td>201802</td>\n",
              "      <td>136000000</td>\n",
              "      <td>1</td>\n",
              "      <td>83</td>\n",
              "    </tr>\n",
              "    <tr>\n",
              "      <th>5</th>\n",
              "      <td>1994</td>\n",
              "      <td>201803</td>\n",
              "      <td>80700000</td>\n",
              "      <td>1</td>\n",
              "      <td>66</td>\n",
              "    </tr>\n",
              "    <tr>\n",
              "      <th>6</th>\n",
              "      <td>1994</td>\n",
              "      <td>201807</td>\n",
              "      <td>136000000</td>\n",
              "      <td>1</td>\n",
              "      <td>110</td>\n",
              "    </tr>\n",
              "    <tr>\n",
              "      <th>7</th>\n",
              "      <td>2014</td>\n",
              "      <td>201806</td>\n",
              "      <td>61400000</td>\n",
              "      <td>1</td>\n",
              "      <td>48</td>\n",
              "    </tr>\n",
              "    <tr>\n",
              "      <th>8</th>\n",
              "      <td>1998</td>\n",
              "      <td>201801</td>\n",
              "      <td>62500000</td>\n",
              "      <td>1</td>\n",
              "      <td>48</td>\n",
              "    </tr>\n",
              "    <tr>\n",
              "      <th>9</th>\n",
              "      <td>1998</td>\n",
              "      <td>201808</td>\n",
              "      <td>62500000</td>\n",
              "      <td>1</td>\n",
              "      <td>40</td>\n",
              "    </tr>\n",
              "  </tbody>\n",
              "</table>\n",
              "</div>"
            ],
            "text/plain": [
              "   건축년도    계약년월       공시가격  법정동명  보증금->월세\n",
              "0  1999  201804  162000000     1       66\n",
              "1  1999  201910  158000000     1       73\n",
              "2  1997  201806  122000000     1       43\n",
              "3  1997  201712   98500000     1       46\n",
              "4  1994  201802  136000000     1       83\n",
              "5  1994  201803   80700000     1       66\n",
              "6  1994  201807  136000000     1      110\n",
              "7  2014  201806   61400000     1       48\n",
              "8  1998  201801   62500000     1       48\n",
              "9  1998  201808   62500000     1       40"
            ]
          },
          "metadata": {
            "tags": []
          },
          "execution_count": 143
        }
      ]
    },
    {
      "cell_type": "code",
      "metadata": {
        "colab": {
          "base_uri": "https://localhost:8080/"
        },
        "id": "wQW60ZRMl6fp",
        "outputId": "4ed87204-707e-42d1-9522-207f45ba3a93"
      },
      "source": [
        "df_arranged.dtypes"
      ],
      "execution_count": 144,
      "outputs": [
        {
          "output_type": "execute_result",
          "data": {
            "text/plain": [
              "건축년도       int64\n",
              "계약년월       int64\n",
              "공시가격       int64\n",
              "법정동명       int64\n",
              "보증금->월세    int64\n",
              "dtype: object"
            ]
          },
          "metadata": {
            "tags": []
          },
          "execution_count": 144
        }
      ]
    },
    {
      "cell_type": "markdown",
      "metadata": {
        "id": "AT2kVsgrn8VG"
      },
      "source": [
        "#Preprocessing"
      ]
    },
    {
      "cell_type": "markdown",
      "metadata": {
        "id": "eHYUXKEMoGyv"
      },
      "source": [
        "#Dividing into Feature and Target"
      ]
    },
    {
      "cell_type": "markdown",
      "metadata": {
        "id": "woqKZ1MB83t1"
      },
      "source": [
        "Divide each into the features and target"
      ]
    },
    {
      "cell_type": "code",
      "metadata": {
        "id": "UpO3USQuoXV0"
      },
      "source": [
        "target = np.array(df_arranged.pop('보증금->월세'))\n",
        "features = np.array(df_arranged)"
      ],
      "execution_count": 145,
      "outputs": []
    },
    {
      "cell_type": "markdown",
      "metadata": {
        "id": "CVTdZEZ48w8y"
      },
      "source": [
        "Divede into the train, test for final model"
      ]
    },
    {
      "cell_type": "code",
      "metadata": {
        "id": "KvlHI2678wof"
      },
      "source": [
        "# X_train, X_test, y_train, y_test = train_test_split(features, \n",
        "#                                                     target, \n",
        "#                                                     test_size=0.1, \n",
        "#                                                     shuffle=False, \n",
        "#                                                     random_state=1004)"
      ],
      "execution_count": 130,
      "outputs": []
    },
    {
      "cell_type": "markdown",
      "metadata": {
        "id": "s3Rq534NpluA"
      },
      "source": [
        "#Model with K-Fold"
      ]
    },
    {
      "cell_type": "markdown",
      "metadata": {
        "id": "igMpi1kovHRo"
      },
      "source": [
        "model"
      ]
    },
    {
      "cell_type": "code",
      "metadata": {
        "id": "eVocj-mepove"
      },
      "source": [
        "from keras import models\n",
        "from keras import layers\n",
        "\n",
        "def build_model(feature_shape):\n",
        "    model = models.Sequential()\n",
        "    model.add(layers.Dense(64, activation='relu',\n",
        "                           input_shape=(feature_shape,)))\n",
        "    model.add(layers.Dense(64, activation='relu'))\n",
        "    model.add(layers.Dense(1))\n",
        "    model.compile(optimizer='rmsprop', loss='mse', metrics=['mae'])\n",
        "    return model"
      ],
      "execution_count": 150,
      "outputs": []
    },
    {
      "cell_type": "markdown",
      "metadata": {
        "id": "irrNUqFOvJAj"
      },
      "source": [
        "k-fold croos-validation"
      ]
    },
    {
      "cell_type": "code",
      "metadata": {
        "colab": {
          "base_uri": "https://localhost:8080/"
        },
        "id": "ycS-VDY8vE_M",
        "outputId": "3c1e620c-9c50-4ffa-c9f7-34fa74e3b9c9"
      },
      "source": [
        "# normally 4 or 5\n",
        "k = 4 \n",
        "\n",
        "num_val_samples = len(features) // k\n",
        "num_epochs = 100\n",
        "all_scores = []\n",
        "all_mae_histories = []\n",
        "for i in range(k):\n",
        "    print('처리중인 폴드 #', i)\n",
        "    val_data = features[i * num_val_samples: (i + 1) * num_val_samples]  # 검증 데이터 준비: k번째 분할\n",
        "    val_targets = target[i * num_val_samples: (i + 1) * num_val_samples]\n",
        "\n",
        "    partial_train_data = np.concatenate(  # 훈련 데이터 준비: 다른 분할 전체\n",
        "        [features[:i * num_val_samples],\n",
        "         features[(i + 1) * num_val_samples:]],\n",
        "        axis=0)\n",
        "    partial_train_targets = np.concatenate(\n",
        "        [target[:i * num_val_samples],\n",
        "        target[(i + 1) * num_val_samples:]],\n",
        "        axis=0)\n",
        "\n",
        "    model = build_model(features.shape[1])  # 케라스 모델 구성(컴파일 포함)\n",
        "    history = model.fit(partial_train_data, partial_train_targets,  # 모델 훈련(verbose=0이므로 훈련 과정이 출력되지 않습니다.)\n",
        "              epochs=num_epochs, batch_size=1, verbose=0)\n",
        "    val_mse, val_mae = model.evaluate(val_data, val_targets, verbose=0)  # 검증 세트로 모델 평가\n",
        "    all_scores.append(val_mae)\n",
        "    mae_history = history.history['mae']\n",
        "    all_mae_histories.append(mae_history)"
      ],
      "execution_count": 163,
      "outputs": [
        {
          "output_type": "stream",
          "text": [
            "처리중인 폴드 # 0\n",
            "처리중인 폴드 # 1\n",
            "처리중인 폴드 # 2\n",
            "처리중인 폴드 # 3\n"
          ],
          "name": "stdout"
        }
      ]
    },
    {
      "cell_type": "code",
      "metadata": {
        "colab": {
          "base_uri": "https://localhost:8080/"
        },
        "id": "f8KXbAao-5TM",
        "outputId": "265c9106-17b0-475c-a921-4bb3a89482f8"
      },
      "source": [
        "all_scores"
      ],
      "execution_count": 164,
      "outputs": [
        {
          "output_type": "execute_result",
          "data": {
            "text/plain": [
              "[51.13697814941406, 42.92242431640625, 65.04145812988281, 48.372886657714844]"
            ]
          },
          "metadata": {
            "tags": []
          },
          "execution_count": 164
        }
      ]
    },
    {
      "cell_type": "code",
      "metadata": {
        "colab": {
          "base_uri": "https://localhost:8080/"
        },
        "id": "UVt62jYC_kRG",
        "outputId": "b6d3ff6e-1d4d-4c97-a00f-cfc55ea3637e"
      },
      "source": [
        "np.mean(all_scores)"
      ],
      "execution_count": 165,
      "outputs": [
        {
          "output_type": "execute_result",
          "data": {
            "text/plain": [
              "51.86843681335449"
            ]
          },
          "metadata": {
            "tags": []
          },
          "execution_count": 165
        }
      ]
    },
    {
      "cell_type": "code",
      "metadata": {
        "id": "pfAVzHxVBv7c"
      },
      "source": [
        "average_mae_history = [\n",
        "    np.mean([x[i] for x in all_mae_histories]) for i in range(num_epochs)]"
      ],
      "execution_count": 166,
      "outputs": []
    },
    {
      "cell_type": "code",
      "metadata": {
        "colab": {
          "base_uri": "https://localhost:8080/",
          "height": 290
        },
        "id": "jDLE4kEYB_zz",
        "outputId": "7ec8d104-a379-4825-b110-5aa8561d3ad0"
      },
      "source": [
        "import matplotlib.pyplot as plt\n",
        "\n",
        "plt.plot(range(1, len(average_mae_history) + 1), average_mae_history)\n",
        "plt.xlabel('Epochs')\n",
        "plt.ylabel('Validation MAE')\n",
        "plt.show()"
      ],
      "execution_count": 167,
      "outputs": [
        {
          "output_type": "display_data",
          "data": {
            "image/png": "[encoded data removed]",
            "text/plain": [
              "<Figure size 432x288 with 1 Axes>"
            ]
          },
          "metadata": {
            "tags": [],
            "needs_background": "light"
          }
        }
      ]
    },
    {
      "cell_type": "code",
      "metadata": {
        "id": "wfGvfyLVCIPl"
      },
      "source": [
        "# def smooth_curve(points, factor=0.9):\n",
        "#     smoothed_points = []\n",
        "#     for point in points:\n",
        "#         if smoothed_points:\n",
        "#             previous = smoothed_points[-1]\n",
        "#             smoothed_points.append(previous * factor + point * (1 - factor))\n",
        "#         else:\n",
        "#             smoothed_points.append(point)\n",
        "#     return smoothed_points\n",
        "\n",
        "# smooth_mae_history = smooth_curve(average_mae_history[10:])\n",
        "\n",
        "# plt.plot(range(1, len(smooth_mae_history) + 1), smooth_mae_history)\n",
        "# plt.xlabel('Epochs')\n",
        "# plt.ylabel('Validation MAE')\n",
        "# plt.show()"
      ],
      "execution_count": null,
      "outputs": []
    },
    {
      "cell_type": "markdown",
      "metadata": {
        "id": "zhmM49TlCQJZ"
      },
      "source": [
        "#Final Model"
      ]
    },
    {
      "cell_type": "code",
      "metadata": {
        "id": "k9hLEojKCt76"
      },
      "source": [
        "model = build_model()  # 새롭게 컴파일된 모델을 얻습니다.\n",
        "model.fit(X_train, y_train,  # 전체 데이터로 훈련시킵니다.\n",
        "          epochs=80, batch_size=16, verbose=0)\n",
        "test_mse_score, test_mae_score = model.evaluate(X_test, y_test)"
      ],
      "execution_count": null,
      "outputs": []
    },
    {
      "cell_type": "markdown",
      "metadata": {
        "id": "Q3CraUHotv49"
      },
      "source": [
        "#Reference"
      ]
    },
    {
      "cell_type": "markdown",
      "metadata": {
        "id": "W3OPjHE1tylK"
      },
      "source": [
        "tf.data.Dataset.from_tensor_slices : \n",
        "https://www.tensorflow.org/tutorials/load_data/pandas_dataframe\n",
        "\n",
        "3.6 주택 가격 예측: 회귀 문제 : \n",
        "https://tensorflow.blog/%EC%BC%80%EB%9D%BC%EC%8A%A4-%EB%94%A5%EB%9F%AC%EB%8B%9D/3-6-%EC%A3%BC%ED%83%9D-%EA%B0%80%EA%B2%A9-%EC%98%88%EC%B8%A1-%ED%9A%8C%EA%B7%80-%EB%AC%B8%EC%A0%9C/"
      ]
    }
  ]
}