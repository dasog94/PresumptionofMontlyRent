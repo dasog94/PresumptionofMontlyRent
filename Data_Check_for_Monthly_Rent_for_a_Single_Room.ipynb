{
  "nbformat": 4,
  "nbformat_minor": 0,
  "metadata": {
    "colab": {
      "name": "Data_Check_for_Monthly_Rent_for_a_Single_Room.ipynb",
      "provenance": [],
      "collapsed_sections": [
        "dBaPft8Hn1Ch"
      ],
      "authorship_tag": "ABX9TyMBIr2S1dvvwHhOnHvexLwg",
      "include_colab_link": true
    },
    "kernelspec": {
      "name": "python3",
      "display_name": "Python 3"
    }
  },
  "cells": [
    {
      "cell_type": "markdown",
      "metadata": {
        "id": "view-in-github",
        "colab_type": "text"
      },
      "source": [
        "<a href=\"https://colab.research.google.com/github/dasog94/PresumptionofMontlyRent/blob/main/Data_Check_for_Monthly_Rent_for_a_Single_Room.ipynb\" target=\"_parent\"><img src=\"https://colab.research.google.com/assets/colab-badge.svg\" alt=\"Open In Colab\"/></a>"
      ]
    },
    {
      "cell_type": "code",
      "metadata": {
        "colab": {
          "base_uri": "https://localhost:8080/"
        },
        "id": "l5NgypUIV9Lv",
        "outputId": "9c2f28bc-1492-44c0-d944-c42616294392"
      },
      "source": [
        "from google.colab import drive\r\n",
        "drive.mount('/content/gdrive/')"
      ],
      "execution_count": null,
      "outputs": [
        {
          "output_type": "stream",
          "text": [
            "Drive already mounted at /content/gdrive/; to attempt to forcibly remount, call drive.mount(\"/content/gdrive/\", force_remount=True).\n"
          ],
          "name": "stdout"
        }
      ]
    },
    {
      "cell_type": "markdown",
      "metadata": {
        "id": "dBaPft8Hn1Ch"
      },
      "source": [
        "#한글 글꼴 추가"
      ]
    },
    {
      "cell_type": "code",
      "metadata": {
        "id": "BKtKMcBVi-gn",
        "colab": {
          "base_uri": "https://localhost:8080/"
        },
        "outputId": "a5cf6161-2756-48e2-c463-4f12f3b5e4f6"
      },
      "source": [
        "import matplotlib as mpl  # 기본 설정 만지는 용도\r\n",
        "import matplotlib.pyplot as plt  # 그래프 그리는 용도\r\n",
        "import matplotlib.font_manager as fm  # 폰트 관련 용도\r\n",
        "\r\n",
        "# 설치된 폰트 출력\r\n",
        "font_list = [font.name for font in fm.fontManager.ttflist]\r\n",
        "font_list"
      ],
      "execution_count": null,
      "outputs": [
        {
          "output_type": "execute_result",
          "data": {
            "text/plain": [
              "['DejaVu Sans Mono',\n",
              " 'cmr10',\n",
              " 'DejaVu Sans',\n",
              " 'STIXSizeTwoSym',\n",
              " 'DejaVu Sans Display',\n",
              " 'DejaVu Serif',\n",
              " 'DejaVu Sans',\n",
              " 'DejaVu Sans Mono',\n",
              " 'STIXSizeThreeSym',\n",
              " 'STIXGeneral',\n",
              " 'STIXSizeThreeSym',\n",
              " 'STIXSizeFourSym',\n",
              " 'STIXGeneral',\n",
              " 'STIXNonUnicode',\n",
              " 'cmmi10',\n",
              " 'cmss10',\n",
              " 'STIXGeneral',\n",
              " 'DejaVu Serif',\n",
              " 'cmex10',\n",
              " 'STIXSizeOneSym',\n",
              " 'STIXNonUnicode',\n",
              " 'DejaVu Serif',\n",
              " 'STIXSizeTwoSym',\n",
              " 'STIXSizeFourSym',\n",
              " 'cmsy10',\n",
              " 'STIXNonUnicode',\n",
              " 'DejaVu Sans',\n",
              " 'DejaVu Sans',\n",
              " 'STIXSizeFiveSym',\n",
              " 'STIXSizeOneSym',\n",
              " 'STIXNonUnicode',\n",
              " 'DejaVu Serif',\n",
              " 'STIXGeneral',\n",
              " 'DejaVu Sans Mono',\n",
              " 'DejaVu Sans Mono',\n",
              " 'cmtt10',\n",
              " 'DejaVu Serif Display',\n",
              " 'cmb10',\n",
              " 'NanumMyeongjo',\n",
              " 'NanumSquare',\n",
              " 'NanumSquareRound',\n",
              " 'Humor Sans',\n",
              " 'NanumGothicCoding',\n",
              " 'Nanum Pen Script',\n",
              " 'NanumBarunGothic',\n",
              " 'NanumSquare',\n",
              " 'Liberation Sans Narrow',\n",
              " 'Liberation Mono',\n",
              " 'NanumBarunGothic',\n",
              " 'Liberation Serif',\n",
              " 'NanumMyeongjo Eco',\n",
              " 'NanumSquareRound',\n",
              " 'NanumSquareRound',\n",
              " 'Liberation Sans Narrow',\n",
              " 'NanumGothic',\n",
              " 'Liberation Sans Narrow',\n",
              " 'NanumMyeongjo',\n",
              " 'NanumMyeongjo',\n",
              " 'NanumSquare',\n",
              " 'Liberation Serif',\n",
              " 'NanumBarunpen',\n",
              " 'NanumGothicCoding',\n",
              " 'Liberation Mono',\n",
              " 'NanumGothic Eco',\n",
              " 'Liberation Mono',\n",
              " 'NanumBarunGothic',\n",
              " 'NanumGothic Eco',\n",
              " 'NanumMyeongjo Eco',\n",
              " 'Liberation Sans',\n",
              " 'Liberation Serif',\n",
              " 'NanumSquare',\n",
              " 'NanumSquareRound',\n",
              " 'Liberation Sans',\n",
              " 'NanumGothic',\n",
              " 'NanumBarunGothic',\n",
              " 'Liberation Sans',\n",
              " 'Liberation Sans',\n",
              " 'NanumGothic',\n",
              " 'Liberation Mono',\n",
              " 'Liberation Serif',\n",
              " 'Nanum Brush Script',\n",
              " 'NanumGothic Eco',\n",
              " 'NanumBarunpen',\n",
              " 'NanumGothic',\n",
              " 'Liberation Sans Narrow',\n",
              " 'NanumMyeongjo Eco']"
            ]
          },
          "metadata": {
            "tags": []
          },
          "execution_count": 3
        }
      ]
    },
    {
      "cell_type": "code",
      "metadata": {
        "id": "wNGOzZlZnemr"
      },
      "source": [
        "# 나눔 고딕 설치\r\n",
        "!apt-get update -qq\r\n",
        "!apt-get install fonts-nanum* -qq"
      ],
      "execution_count": null,
      "outputs": []
    },
    {
      "cell_type": "code",
      "metadata": {
        "colab": {
          "base_uri": "https://localhost:8080/"
        },
        "id": "EaUFU6KGkObb",
        "outputId": "eb3d1522-fde7-48cd-aba1-0c0558ead298"
      },
      "source": [
        "print ('버전: ', mpl.__version__)\r\n",
        "print ('설치 위치: ', mpl.__file__)\r\n",
        "print ('설정 위치: ', mpl.get_configdir())\r\n",
        "print ('캐시 위치: ', mpl.get_cachedir())"
      ],
      "execution_count": null,
      "outputs": [
        {
          "output_type": "stream",
          "text": [
            "버전:  3.2.2\n",
            "설치 위치:  /usr/local/lib/python3.6/dist-packages/matplotlib/__init__.py\n",
            "설정 위치:  /root/.config/matplotlib\n",
            "캐시 위치:  /root/.cache/matplotlib\n"
          ],
          "name": "stdout"
        }
      ]
    },
    {
      "cell_type": "code",
      "metadata": {
        "colab": {
          "base_uri": "https://localhost:8080/"
        },
        "id": "048Fmt0vk-mB",
        "outputId": "0bc6b951-af73-4f7c-b5ad-3524f3e6c275"
      },
      "source": [
        "# 체크해보면 폰트 개수가 늘어났다\r\n",
        "sys_font=fm.findSystemFonts()\r\n",
        "print(f\"sys_font number: {len(sys_font)}\")\r\n",
        "\r\n",
        "nanum_font = [f for f in sys_font if 'Nanum' in f]\r\n",
        "print(f\"nanum_font number: {len(nanum_font)}\")"
      ],
      "execution_count": null,
      "outputs": [
        {
          "output_type": "stream",
          "text": [
            "sys_font number: 48\n",
            "nanum_font number: 31\n"
          ],
          "name": "stdout"
        }
      ]
    },
    {
      "cell_type": "code",
      "metadata": {
        "id": "qE2457uSlAJC",
        "colab": {
          "base_uri": "https://localhost:8080/"
        },
        "outputId": "1a630d1c-a224-4af6-8467-91270eaf093d"
      },
      "source": [
        "# 한번 프린트 해보자\r\n",
        "nanum_font"
      ],
      "execution_count": null,
      "outputs": [
        {
          "output_type": "execute_result",
          "data": {
            "text/plain": [
              "['/usr/share/fonts/truetype/nanum/NanumMyeongjoBold.ttf',\n",
              " '/usr/share/fonts/truetype/nanum/NanumSquareR.ttf',\n",
              " '/usr/share/fonts/truetype/nanum/NanumSquareRoundB.ttf',\n",
              " '/usr/share/fonts/truetype/nanum/NanumGothicCoding-Bold.ttf',\n",
              " '/usr/share/fonts/truetype/nanum/NanumPen.ttf',\n",
              " '/usr/share/fonts/truetype/nanum/NanumBarunGothicLight.ttf',\n",
              " '/usr/share/fonts/truetype/nanum/NanumSquareEB.ttf',\n",
              " '/usr/share/fonts/truetype/nanum/NanumBarunGothic.ttf',\n",
              " '/usr/share/fonts/truetype/nanum/NanumMyeongjoEco.ttf',\n",
              " '/usr/share/fonts/truetype/nanum/NanumSquareRoundR.ttf',\n",
              " '/usr/share/fonts/truetype/nanum/NanumSquareRoundEB.ttf',\n",
              " '/usr/share/fonts/truetype/nanum/NanumGothicLight.ttf',\n",
              " '/usr/share/fonts/truetype/nanum/NanumMyeongjoExtraBold.ttf',\n",
              " '/usr/share/fonts/truetype/nanum/NanumMyeongjo.ttf',\n",
              " '/usr/share/fonts/truetype/nanum/NanumSquareL.ttf',\n",
              " '/usr/share/fonts/truetype/nanum/NanumBarunpenR.ttf',\n",
              " '/usr/share/fonts/truetype/nanum/NanumGothicCoding.ttf',\n",
              " '/usr/share/fonts/truetype/nanum/NanumGothicEcoExtraBold.ttf',\n",
              " '/usr/share/fonts/truetype/nanum/NanumBarunGothicUltraLight.ttf',\n",
              " '/usr/share/fonts/truetype/nanum/NanumGothicEcoBold.ttf',\n",
              " '/usr/share/fonts/truetype/nanum/NanumMyeongjoEcoBold.ttf',\n",
              " '/usr/share/fonts/truetype/nanum/NanumSquareB.ttf',\n",
              " '/usr/share/fonts/truetype/nanum/NanumSquareRoundL.ttf',\n",
              " '/usr/share/fonts/truetype/nanum/NanumGothic.ttf',\n",
              " '/usr/share/fonts/truetype/nanum/NanumBarunGothicBold.ttf',\n",
              " '/usr/share/fonts/truetype/nanum/NanumGothicBold.ttf',\n",
              " '/usr/share/fonts/truetype/nanum/NanumBrush.ttf',\n",
              " '/usr/share/fonts/truetype/nanum/NanumGothicEco.ttf',\n",
              " '/usr/share/fonts/truetype/nanum/NanumBarunpenB.ttf',\n",
              " '/usr/share/fonts/truetype/nanum/NanumGothicExtraBold.ttf',\n",
              " '/usr/share/fonts/truetype/nanum/NanumMyeongjoEcoExtraBold.ttf']"
            ]
          },
          "metadata": {
            "tags": []
          },
          "execution_count": 53
        }
      ]
    },
    {
      "cell_type": "code",
      "metadata": {
        "colab": {
          "base_uri": "https://localhost:8080/"
        },
        "id": "cEhZyuZFlC3P",
        "outputId": "be054246-9d97-4459-887c-44df03d77b1d"
      },
      "source": [
        "# 현재 설정되어 있는 폰트 사이즈와 글꼴을 알아보자\r\n",
        "!python --version\r\n",
        "def current_font():\r\n",
        "  print(f\"설정 폰트 글꼴: {plt.rcParams['font.family']}, 설정 폰트 사이즈: {plt.rcParams['font.size']}\")  # 파이썬 3.6 이상 사용가능하다\r\n",
        "        \r\n",
        "current_font()"
      ],
      "execution_count": null,
      "outputs": [
        {
          "output_type": "stream",
          "text": [
            "Python 3.6.9\n",
            "설정 폰트 글꼴: ['NanumGothic Eco'], 설정 폰트 사이즈: 10.0\n"
          ],
          "name": "stdout"
        }
      ]
    },
    {
      "cell_type": "code",
      "metadata": {
        "colab": {
          "base_uri": "https://localhost:8080/"
        },
        "id": "3kDTaMFRlNaH",
        "outputId": "c33ae3d1-93c9-424e-afb5-9a0b13873fb1"
      },
      "source": [
        "path = '/usr/share/fonts/truetype/nanum/NanumGothicEco.ttf'  # 설치된 나눔글꼴중 원하는 녀석의 전체 경로를 가져오자\r\n",
        "font_name = fm.FontProperties(fname=path, size=12).get_name()\r\n",
        "print(font_name)\r\n",
        "plt.rc('font', family=font_name)"
      ],
      "execution_count": null,
      "outputs": [
        {
          "output_type": "stream",
          "text": [
            "NanumGothic Eco\n"
          ],
          "name": "stdout"
        }
      ]
    },
    {
      "cell_type": "code",
      "metadata": {
        "id": "fa8nJm8plqQk"
      },
      "source": [
        "# 우선 fm._rebuild() 를 해주고, 런타임 재시작을 해준다.\r\n",
        "fm._rebuild()"
      ],
      "execution_count": null,
      "outputs": []
    },
    {
      "cell_type": "markdown",
      "metadata": {
        "id": "QOkmspSeckMm"
      },
      "source": [
        "#Libs"
      ]
    },
    {
      "cell_type": "code",
      "metadata": {
        "id": "snIj4d1YYORd"
      },
      "source": [
        "import pandas as pd\r\n",
        "import matplotlib.pyplot as plt\r\n",
        "import seaborn as sns\r\n",
        "import numpy as np\r\n",
        "from scipy.stats import norm\r\n",
        "from sklearn.preprocessing import StandardScaler\r\n",
        "from scipy import stats\r\n",
        "import warnings\r\n",
        "warnings.filterwarnings('ignore')\r\n",
        "%matplotlib inline"
      ],
      "execution_count": null,
      "outputs": []
    },
    {
      "cell_type": "markdown",
      "metadata": {
        "id": "Uq3_IB2bYsbK"
      },
      "source": [
        "#Load Data"
      ]
    },
    {
      "cell_type": "code",
      "metadata": {
        "id": "g_rOhrwjY5en"
      },
      "source": [
        "df = pd.read_csv('/content/gdrive/My Drive/recommend_system/tracer/실거래데이터/단독다가구/adjusted_주변_단독다가구(전월세)_실거래가_20191119_20201118.csv', encoding='CP949')\r\n",
        "# 2020.05 강북권역 도심권 전월세전환율 \r\n",
        "change_rate = 0.063"
      ],
      "execution_count": null,
      "outputs": []
    },
    {
      "cell_type": "code",
      "metadata": {
        "id": "fspr7pJaqb9l"
      },
      "source": [
        "# df = df.reindex(columns = df.columns.tolist() + ['보증금->월세'])"
      ],
      "execution_count": null,
      "outputs": []
    },
    {
      "cell_type": "code",
      "metadata": {
        "colab": {
          "base_uri": "https://localhost:8080/",
          "height": 335
        },
        "id": "huLLC5obeMkI",
        "outputId": "eaf26311-b20e-4db7-c2f5-f499c7273154"
      },
      "source": [
        "df.head(10)"
      ],
      "execution_count": null,
      "outputs": [
        {
          "output_type": "execute_result",
          "data": {
            "text/html": [
              "<div>\n",
              "<style scoped>\n",
              "    .dataframe tbody tr th:only-of-type {\n",
              "        vertical-align: middle;\n",
              "    }\n",
              "\n",
              "    .dataframe tbody tr th {\n",
              "        vertical-align: top;\n",
              "    }\n",
              "\n",
              "    .dataframe thead th {\n",
              "        text-align: right;\n",
              "    }\n",
              "</style>\n",
              "<table border=\"1\" class=\"dataframe\">\n",
              "  <thead>\n",
              "    <tr style=\"text-align: right;\">\n",
              "      <th></th>\n",
              "      <th>시군구</th>\n",
              "      <th>번지</th>\n",
              "      <th>도로조건</th>\n",
              "      <th>계약면적(㎡)</th>\n",
              "      <th>전월세구분</th>\n",
              "      <th>계약년월</th>\n",
              "      <th>계약일</th>\n",
              "      <th>보증금(만원)</th>\n",
              "      <th>월세(만원)</th>\n",
              "      <th>건축년도</th>\n",
              "      <th>도로명</th>\n",
              "      <th>위도</th>\n",
              "      <th>경도</th>\n",
              "      <th>학교까지_거리</th>\n",
              "      <th>혜화역까지_거리</th>\n",
              "      <th>한성대역까지_거리</th>\n",
              "      <th>보증금-&gt;월세</th>\n",
              "    </tr>\n",
              "  </thead>\n",
              "  <tbody>\n",
              "    <tr>\n",
              "      <th>0</th>\n",
              "      <td>서울특별시 종로구 명륜1가</td>\n",
              "      <td>5*</td>\n",
              "      <td>8m미만</td>\n",
              "      <td>12.0</td>\n",
              "      <td>전세</td>\n",
              "      <td>202007</td>\n",
              "      <td>16</td>\n",
              "      <td>2500</td>\n",
              "      <td>0</td>\n",
              "      <td>NaN</td>\n",
              "      <td>혜화로3가길</td>\n",
              "      <td>37.586630</td>\n",
              "      <td>127.000469</td>\n",
              "      <td>651.412608</td>\n",
              "      <td>518.855787</td>\n",
              "      <td>524.566882</td>\n",
              "      <td>NaN</td>\n",
              "    </tr>\n",
              "    <tr>\n",
              "      <th>1</th>\n",
              "      <td>서울특별시 종로구 명륜1가</td>\n",
              "      <td>1*</td>\n",
              "      <td>8m미만</td>\n",
              "      <td>13.0</td>\n",
              "      <td>월세</td>\n",
              "      <td>202009</td>\n",
              "      <td>3</td>\n",
              "      <td>500</td>\n",
              "      <td>36</td>\n",
              "      <td>1994.0</td>\n",
              "      <td>성균관로9길</td>\n",
              "      <td>37.584635</td>\n",
              "      <td>126.997017</td>\n",
              "      <td>448.798788</td>\n",
              "      <td>535.325224</td>\n",
              "      <td>894.486887</td>\n",
              "      <td>NaN</td>\n",
              "    </tr>\n",
              "    <tr>\n",
              "      <th>2</th>\n",
              "      <td>서울특별시 종로구 명륜1가</td>\n",
              "      <td>1*</td>\n",
              "      <td>8m미만</td>\n",
              "      <td>15.0</td>\n",
              "      <td>월세</td>\n",
              "      <td>202008</td>\n",
              "      <td>1</td>\n",
              "      <td>2000</td>\n",
              "      <td>30</td>\n",
              "      <td>1995.0</td>\n",
              "      <td>성균관로9길</td>\n",
              "      <td>37.584635</td>\n",
              "      <td>126.997017</td>\n",
              "      <td>448.798788</td>\n",
              "      <td>535.325224</td>\n",
              "      <td>894.486887</td>\n",
              "      <td>NaN</td>\n",
              "    </tr>\n",
              "    <tr>\n",
              "      <th>3</th>\n",
              "      <td>서울특별시 종로구 명륜1가</td>\n",
              "      <td>1*</td>\n",
              "      <td>8m미만</td>\n",
              "      <td>15.0</td>\n",
              "      <td>월세</td>\n",
              "      <td>202005</td>\n",
              "      <td>10</td>\n",
              "      <td>300</td>\n",
              "      <td>30</td>\n",
              "      <td>1992.0</td>\n",
              "      <td>성균관로9길</td>\n",
              "      <td>37.584635</td>\n",
              "      <td>126.997017</td>\n",
              "      <td>448.798788</td>\n",
              "      <td>535.325224</td>\n",
              "      <td>894.486887</td>\n",
              "      <td>NaN</td>\n",
              "    </tr>\n",
              "    <tr>\n",
              "      <th>4</th>\n",
              "      <td>서울특별시 종로구 명륜1가</td>\n",
              "      <td>3*</td>\n",
              "      <td>8m미만</td>\n",
              "      <td>15.0</td>\n",
              "      <td>월세</td>\n",
              "      <td>202007</td>\n",
              "      <td>17</td>\n",
              "      <td>500</td>\n",
              "      <td>33</td>\n",
              "      <td>2001.0</td>\n",
              "      <td>성균관로10길</td>\n",
              "      <td>37.583790</td>\n",
              "      <td>126.998159</td>\n",
              "      <td>586.288566</td>\n",
              "      <td>401.985992</td>\n",
              "      <td>859.502810</td>\n",
              "      <td>NaN</td>\n",
              "    </tr>\n",
              "    <tr>\n",
              "      <th>5</th>\n",
              "      <td>서울특별시 종로구 명륜1가</td>\n",
              "      <td>1*</td>\n",
              "      <td>8m미만</td>\n",
              "      <td>15.0</td>\n",
              "      <td>월세</td>\n",
              "      <td>202006</td>\n",
              "      <td>27</td>\n",
              "      <td>1500</td>\n",
              "      <td>20</td>\n",
              "      <td>1991.0</td>\n",
              "      <td>성균관로</td>\n",
              "      <td>37.583224</td>\n",
              "      <td>126.998407</td>\n",
              "      <td>644.729558</td>\n",
              "      <td>357.503560</td>\n",
              "      <td>881.818849</td>\n",
              "      <td>NaN</td>\n",
              "    </tr>\n",
              "    <tr>\n",
              "      <th>6</th>\n",
              "      <td>서울특별시 종로구 명륜1가</td>\n",
              "      <td>7*</td>\n",
              "      <td>25m미만</td>\n",
              "      <td>15.0</td>\n",
              "      <td>월세</td>\n",
              "      <td>202001</td>\n",
              "      <td>28</td>\n",
              "      <td>500</td>\n",
              "      <td>50</td>\n",
              "      <td>1996.0</td>\n",
              "      <td>성균관로</td>\n",
              "      <td>37.583224</td>\n",
              "      <td>126.998407</td>\n",
              "      <td>644.729558</td>\n",
              "      <td>357.503560</td>\n",
              "      <td>881.818849</td>\n",
              "      <td>NaN</td>\n",
              "    </tr>\n",
              "    <tr>\n",
              "      <th>7</th>\n",
              "      <td>서울특별시 종로구 명륜1가</td>\n",
              "      <td>5*</td>\n",
              "      <td>8m미만</td>\n",
              "      <td>15.0</td>\n",
              "      <td>월세</td>\n",
              "      <td>202001</td>\n",
              "      <td>29</td>\n",
              "      <td>1000</td>\n",
              "      <td>55</td>\n",
              "      <td>2017.0</td>\n",
              "      <td>혜화로9길</td>\n",
              "      <td>37.586440</td>\n",
              "      <td>127.000173</td>\n",
              "      <td>628.099216</td>\n",
              "      <td>507.460078</td>\n",
              "      <td>556.774067</td>\n",
              "      <td>NaN</td>\n",
              "    </tr>\n",
              "    <tr>\n",
              "      <th>8</th>\n",
              "      <td>서울특별시 종로구 명륜1가</td>\n",
              "      <td>9*</td>\n",
              "      <td>12m미만</td>\n",
              "      <td>15.0</td>\n",
              "      <td>전세</td>\n",
              "      <td>202005</td>\n",
              "      <td>4</td>\n",
              "      <td>7000</td>\n",
              "      <td>0</td>\n",
              "      <td>1967.0</td>\n",
              "      <td>혜화로3길</td>\n",
              "      <td>37.586630</td>\n",
              "      <td>127.000469</td>\n",
              "      <td>651.412608</td>\n",
              "      <td>518.855787</td>\n",
              "      <td>524.566882</td>\n",
              "      <td>NaN</td>\n",
              "    </tr>\n",
              "    <tr>\n",
              "      <th>9</th>\n",
              "      <td>서울특별시 종로구 명륜1가</td>\n",
              "      <td>3*</td>\n",
              "      <td>8m미만</td>\n",
              "      <td>16.0</td>\n",
              "      <td>월세</td>\n",
              "      <td>202002</td>\n",
              "      <td>14</td>\n",
              "      <td>1000</td>\n",
              "      <td>50</td>\n",
              "      <td>1992.0</td>\n",
              "      <td>성균관로14길</td>\n",
              "      <td>37.584178</td>\n",
              "      <td>126.997784</td>\n",
              "      <td>533.152076</td>\n",
              "      <td>451.471420</td>\n",
              "      <td>861.984958</td>\n",
              "      <td>NaN</td>\n",
              "    </tr>\n",
              "  </tbody>\n",
              "</table>\n",
              "</div>"
            ],
            "text/plain": [
              "              시군구  번지   도로조건  ...    혜화역까지_거리   한성대역까지_거리  보증금->월세\n",
              "0  서울특별시 종로구 명륜1가  5*   8m미만  ...  518.855787  524.566882      NaN\n",
              "1  서울특별시 종로구 명륜1가  1*   8m미만  ...  535.325224  894.486887      NaN\n",
              "2  서울특별시 종로구 명륜1가  1*   8m미만  ...  535.325224  894.486887      NaN\n",
              "3  서울특별시 종로구 명륜1가  1*   8m미만  ...  535.325224  894.486887      NaN\n",
              "4  서울특별시 종로구 명륜1가  3*   8m미만  ...  401.985992  859.502810      NaN\n",
              "5  서울특별시 종로구 명륜1가  1*   8m미만  ...  357.503560  881.818849      NaN\n",
              "6  서울특별시 종로구 명륜1가  7*  25m미만  ...  357.503560  881.818849      NaN\n",
              "7  서울특별시 종로구 명륜1가  5*   8m미만  ...  507.460078  556.774067      NaN\n",
              "8  서울특별시 종로구 명륜1가  9*  12m미만  ...  518.855787  524.566882      NaN\n",
              "9  서울특별시 종로구 명륜1가  3*   8m미만  ...  451.471420  861.984958      NaN\n",
              "\n",
              "[10 rows x 17 columns]"
            ]
          },
          "metadata": {
            "tags": []
          },
          "execution_count": 39
        }
      ]
    },
    {
      "cell_type": "code",
      "metadata": {
        "id": "Xa4netisl3gx"
      },
      "source": [
        "for i in range(len(df)):\r\n",
        "  df.loc[i, '보증금(만원)'] = int(df.loc[i, '보증금(만원)'].replace(',', ''))"
      ],
      "execution_count": null,
      "outputs": []
    },
    {
      "cell_type": "code",
      "metadata": {
        "colab": {
          "base_uri": "https://localhost:8080/"
        },
        "id": "LYRbK3e8jlA3",
        "outputId": "c11ec9b2-ef7b-40c2-b841-214ce2b3a72c"
      },
      "source": [
        "df.dtypes"
      ],
      "execution_count": null,
      "outputs": [
        {
          "output_type": "execute_result",
          "data": {
            "text/plain": [
              "시군구           object\n",
              "번지            object\n",
              "도로조건          object\n",
              "계약면적(㎡)      float64\n",
              "전월세구분         object\n",
              "계약년월           int64\n",
              "계약일            int64\n",
              "보증금(만원)       object\n",
              "월세(만원)         int64\n",
              "건축년도         float64\n",
              "도로명           object\n",
              "위도           float64\n",
              "경도           float64\n",
              "학교까지_거리      float64\n",
              "혜화역까지_거리     float64\n",
              "한성대역까지_거리    float64\n",
              "보증금->월세      float64\n",
              "dtype: object"
            ]
          },
          "metadata": {
            "tags": []
          },
          "execution_count": 41
        }
      ]
    },
    {
      "cell_type": "code",
      "metadata": {
        "id": "hq9r-_WpZqH7"
      },
      "source": [
        "for i in range(len(df)):\r\n",
        "  df.loc[i, '보증금->월세'] = df.loc[i, '월세(만원)'] + int(df.loc[i, '보증금(만원)']) * change_rate / 12 "
      ],
      "execution_count": null,
      "outputs": []
    },
    {
      "cell_type": "code",
      "metadata": {
        "colab": {
          "base_uri": "https://localhost:8080/"
        },
        "id": "v-WJtM7MCWET",
        "outputId": "0b71c075-bef6-4661-f8a0-963b8bb9b7b0"
      },
      "source": [
        "len(df)"
      ],
      "execution_count": null,
      "outputs": [
        {
          "output_type": "execute_result",
          "data": {
            "text/plain": [
              "625"
            ]
          },
          "metadata": {
            "tags": []
          },
          "execution_count": 43
        }
      ]
    },
    {
      "cell_type": "code",
      "metadata": {
        "colab": {
          "base_uri": "https://localhost:8080/",
          "height": 335
        },
        "id": "-7mKZpKijtDD",
        "outputId": "f8067768-71c6-4b58-d3fc-10016ea99603"
      },
      "source": [
        "df.head(10)"
      ],
      "execution_count": null,
      "outputs": [
        {
          "output_type": "execute_result",
          "data": {
            "text/html": [
              "<div>\n",
              "<style scoped>\n",
              "    .dataframe tbody tr th:only-of-type {\n",
              "        vertical-align: middle;\n",
              "    }\n",
              "\n",
              "    .dataframe tbody tr th {\n",
              "        vertical-align: top;\n",
              "    }\n",
              "\n",
              "    .dataframe thead th {\n",
              "        text-align: right;\n",
              "    }\n",
              "</style>\n",
              "<table border=\"1\" class=\"dataframe\">\n",
              "  <thead>\n",
              "    <tr style=\"text-align: right;\">\n",
              "      <th></th>\n",
              "      <th>시군구</th>\n",
              "      <th>번지</th>\n",
              "      <th>도로조건</th>\n",
              "      <th>계약면적(㎡)</th>\n",
              "      <th>전월세구분</th>\n",
              "      <th>계약년월</th>\n",
              "      <th>계약일</th>\n",
              "      <th>보증금(만원)</th>\n",
              "      <th>월세(만원)</th>\n",
              "      <th>건축년도</th>\n",
              "      <th>도로명</th>\n",
              "      <th>위도</th>\n",
              "      <th>경도</th>\n",
              "      <th>학교까지_거리</th>\n",
              "      <th>혜화역까지_거리</th>\n",
              "      <th>한성대역까지_거리</th>\n",
              "      <th>보증금-&gt;월세</th>\n",
              "    </tr>\n",
              "  </thead>\n",
              "  <tbody>\n",
              "    <tr>\n",
              "      <th>0</th>\n",
              "      <td>서울특별시 종로구 명륜1가</td>\n",
              "      <td>5*</td>\n",
              "      <td>8m미만</td>\n",
              "      <td>12.0</td>\n",
              "      <td>전세</td>\n",
              "      <td>202007</td>\n",
              "      <td>16</td>\n",
              "      <td>2500</td>\n",
              "      <td>0</td>\n",
              "      <td>NaN</td>\n",
              "      <td>혜화로3가길</td>\n",
              "      <td>37.586630</td>\n",
              "      <td>127.000469</td>\n",
              "      <td>651.412608</td>\n",
              "      <td>518.855787</td>\n",
              "      <td>524.566882</td>\n",
              "      <td>13.125</td>\n",
              "    </tr>\n",
              "    <tr>\n",
              "      <th>1</th>\n",
              "      <td>서울특별시 종로구 명륜1가</td>\n",
              "      <td>1*</td>\n",
              "      <td>8m미만</td>\n",
              "      <td>13.0</td>\n",
              "      <td>월세</td>\n",
              "      <td>202009</td>\n",
              "      <td>3</td>\n",
              "      <td>500</td>\n",
              "      <td>36</td>\n",
              "      <td>1994.0</td>\n",
              "      <td>성균관로9길</td>\n",
              "      <td>37.584635</td>\n",
              "      <td>126.997017</td>\n",
              "      <td>448.798788</td>\n",
              "      <td>535.325224</td>\n",
              "      <td>894.486887</td>\n",
              "      <td>38.625</td>\n",
              "    </tr>\n",
              "    <tr>\n",
              "      <th>2</th>\n",
              "      <td>서울특별시 종로구 명륜1가</td>\n",
              "      <td>1*</td>\n",
              "      <td>8m미만</td>\n",
              "      <td>15.0</td>\n",
              "      <td>월세</td>\n",
              "      <td>202008</td>\n",
              "      <td>1</td>\n",
              "      <td>2000</td>\n",
              "      <td>30</td>\n",
              "      <td>1995.0</td>\n",
              "      <td>성균관로9길</td>\n",
              "      <td>37.584635</td>\n",
              "      <td>126.997017</td>\n",
              "      <td>448.798788</td>\n",
              "      <td>535.325224</td>\n",
              "      <td>894.486887</td>\n",
              "      <td>40.500</td>\n",
              "    </tr>\n",
              "    <tr>\n",
              "      <th>3</th>\n",
              "      <td>서울특별시 종로구 명륜1가</td>\n",
              "      <td>1*</td>\n",
              "      <td>8m미만</td>\n",
              "      <td>15.0</td>\n",
              "      <td>월세</td>\n",
              "      <td>202005</td>\n",
              "      <td>10</td>\n",
              "      <td>300</td>\n",
              "      <td>30</td>\n",
              "      <td>1992.0</td>\n",
              "      <td>성균관로9길</td>\n",
              "      <td>37.584635</td>\n",
              "      <td>126.997017</td>\n",
              "      <td>448.798788</td>\n",
              "      <td>535.325224</td>\n",
              "      <td>894.486887</td>\n",
              "      <td>31.575</td>\n",
              "    </tr>\n",
              "    <tr>\n",
              "      <th>4</th>\n",
              "      <td>서울특별시 종로구 명륜1가</td>\n",
              "      <td>3*</td>\n",
              "      <td>8m미만</td>\n",
              "      <td>15.0</td>\n",
              "      <td>월세</td>\n",
              "      <td>202007</td>\n",
              "      <td>17</td>\n",
              "      <td>500</td>\n",
              "      <td>33</td>\n",
              "      <td>2001.0</td>\n",
              "      <td>성균관로10길</td>\n",
              "      <td>37.583790</td>\n",
              "      <td>126.998159</td>\n",
              "      <td>586.288566</td>\n",
              "      <td>401.985992</td>\n",
              "      <td>859.502810</td>\n",
              "      <td>35.625</td>\n",
              "    </tr>\n",
              "    <tr>\n",
              "      <th>5</th>\n",
              "      <td>서울특별시 종로구 명륜1가</td>\n",
              "      <td>1*</td>\n",
              "      <td>8m미만</td>\n",
              "      <td>15.0</td>\n",
              "      <td>월세</td>\n",
              "      <td>202006</td>\n",
              "      <td>27</td>\n",
              "      <td>1500</td>\n",
              "      <td>20</td>\n",
              "      <td>1991.0</td>\n",
              "      <td>성균관로</td>\n",
              "      <td>37.583224</td>\n",
              "      <td>126.998407</td>\n",
              "      <td>644.729558</td>\n",
              "      <td>357.503560</td>\n",
              "      <td>881.818849</td>\n",
              "      <td>27.875</td>\n",
              "    </tr>\n",
              "    <tr>\n",
              "      <th>6</th>\n",
              "      <td>서울특별시 종로구 명륜1가</td>\n",
              "      <td>7*</td>\n",
              "      <td>25m미만</td>\n",
              "      <td>15.0</td>\n",
              "      <td>월세</td>\n",
              "      <td>202001</td>\n",
              "      <td>28</td>\n",
              "      <td>500</td>\n",
              "      <td>50</td>\n",
              "      <td>1996.0</td>\n",
              "      <td>성균관로</td>\n",
              "      <td>37.583224</td>\n",
              "      <td>126.998407</td>\n",
              "      <td>644.729558</td>\n",
              "      <td>357.503560</td>\n",
              "      <td>881.818849</td>\n",
              "      <td>52.625</td>\n",
              "    </tr>\n",
              "    <tr>\n",
              "      <th>7</th>\n",
              "      <td>서울특별시 종로구 명륜1가</td>\n",
              "      <td>5*</td>\n",
              "      <td>8m미만</td>\n",
              "      <td>15.0</td>\n",
              "      <td>월세</td>\n",
              "      <td>202001</td>\n",
              "      <td>29</td>\n",
              "      <td>1000</td>\n",
              "      <td>55</td>\n",
              "      <td>2017.0</td>\n",
              "      <td>혜화로9길</td>\n",
              "      <td>37.586440</td>\n",
              "      <td>127.000173</td>\n",
              "      <td>628.099216</td>\n",
              "      <td>507.460078</td>\n",
              "      <td>556.774067</td>\n",
              "      <td>60.250</td>\n",
              "    </tr>\n",
              "    <tr>\n",
              "      <th>8</th>\n",
              "      <td>서울특별시 종로구 명륜1가</td>\n",
              "      <td>9*</td>\n",
              "      <td>12m미만</td>\n",
              "      <td>15.0</td>\n",
              "      <td>전세</td>\n",
              "      <td>202005</td>\n",
              "      <td>4</td>\n",
              "      <td>7000</td>\n",
              "      <td>0</td>\n",
              "      <td>1967.0</td>\n",
              "      <td>혜화로3길</td>\n",
              "      <td>37.586630</td>\n",
              "      <td>127.000469</td>\n",
              "      <td>651.412608</td>\n",
              "      <td>518.855787</td>\n",
              "      <td>524.566882</td>\n",
              "      <td>36.750</td>\n",
              "    </tr>\n",
              "    <tr>\n",
              "      <th>9</th>\n",
              "      <td>서울특별시 종로구 명륜1가</td>\n",
              "      <td>3*</td>\n",
              "      <td>8m미만</td>\n",
              "      <td>16.0</td>\n",
              "      <td>월세</td>\n",
              "      <td>202002</td>\n",
              "      <td>14</td>\n",
              "      <td>1000</td>\n",
              "      <td>50</td>\n",
              "      <td>1992.0</td>\n",
              "      <td>성균관로14길</td>\n",
              "      <td>37.584178</td>\n",
              "      <td>126.997784</td>\n",
              "      <td>533.152076</td>\n",
              "      <td>451.471420</td>\n",
              "      <td>861.984958</td>\n",
              "      <td>55.250</td>\n",
              "    </tr>\n",
              "  </tbody>\n",
              "</table>\n",
              "</div>"
            ],
            "text/plain": [
              "              시군구  번지   도로조건  ...    혜화역까지_거리   한성대역까지_거리  보증금->월세\n",
              "0  서울특별시 종로구 명륜1가  5*   8m미만  ...  518.855787  524.566882   13.125\n",
              "1  서울특별시 종로구 명륜1가  1*   8m미만  ...  535.325224  894.486887   38.625\n",
              "2  서울특별시 종로구 명륜1가  1*   8m미만  ...  535.325224  894.486887   40.500\n",
              "3  서울특별시 종로구 명륜1가  1*   8m미만  ...  535.325224  894.486887   31.575\n",
              "4  서울특별시 종로구 명륜1가  3*   8m미만  ...  401.985992  859.502810   35.625\n",
              "5  서울특별시 종로구 명륜1가  1*   8m미만  ...  357.503560  881.818849   27.875\n",
              "6  서울특별시 종로구 명륜1가  7*  25m미만  ...  357.503560  881.818849   52.625\n",
              "7  서울특별시 종로구 명륜1가  5*   8m미만  ...  507.460078  556.774067   60.250\n",
              "8  서울특별시 종로구 명륜1가  9*  12m미만  ...  518.855787  524.566882   36.750\n",
              "9  서울특별시 종로구 명륜1가  3*   8m미만  ...  451.471420  861.984958   55.250\n",
              "\n",
              "[10 rows x 17 columns]"
            ]
          },
          "metadata": {
            "tags": []
          },
          "execution_count": 44
        }
      ]
    },
    {
      "cell_type": "code",
      "metadata": {
        "colab": {
          "base_uri": "https://localhost:8080/"
        },
        "id": "tQbGNKU7mUz7",
        "outputId": "ff903fe4-650a-47bb-9892-2c5c0cfed8af"
      },
      "source": [
        "df['보증금->월세'].describe()"
      ],
      "execution_count": null,
      "outputs": [
        {
          "output_type": "execute_result",
          "data": {
            "text/plain": [
              "count    625.000000\n",
              "mean      67.397860\n",
              "std       31.622536\n",
              "min        5.250000\n",
              "25%       46.750000\n",
              "50%       61.250000\n",
              "75%       78.750000\n",
              "max      220.500000\n",
              "Name: 보증금->월세, dtype: float64"
            ]
          },
          "metadata": {
            "tags": []
          },
          "execution_count": 45
        }
      ]
    },
    {
      "cell_type": "code",
      "metadata": {
        "colab": {
          "base_uri": "https://localhost:8080/"
        },
        "id": "0SWJ-8pkmax8",
        "outputId": "3d296a1b-1904-4221-827c-234a3a3d198c"
      },
      "source": [
        "df['계약면적(㎡)'].describe()"
      ],
      "execution_count": null,
      "outputs": [
        {
          "output_type": "execute_result",
          "data": {
            "text/plain": [
              "count    625.000000\n",
              "mean      32.792896\n",
              "std       23.820278\n",
              "min       10.610000\n",
              "25%       18.000000\n",
              "50%       23.860000\n",
              "75%       40.600000\n",
              "max      238.000000\n",
              "Name: 계약면적(㎡), dtype: float64"
            ]
          },
          "metadata": {
            "tags": []
          },
          "execution_count": 46
        }
      ]
    },
    {
      "cell_type": "code",
      "metadata": {
        "colab": {
          "base_uri": "https://localhost:8080/"
        },
        "id": "_A7vwgmqpdYj",
        "outputId": "f50d58c8-c35b-471d-acb1-b633bdcd614b"
      },
      "source": [
        "df['학교까지_거리'].describe()"
      ],
      "execution_count": null,
      "outputs": [
        {
          "output_type": "execute_result",
          "data": {
            "text/plain": [
              "count       557.000000\n",
              "mean      25192.620895\n",
              "std       61562.287933\n",
              "min         282.588656\n",
              "25%         535.293642\n",
              "50%         644.729558\n",
              "75%         972.067757\n",
              "max      236129.593558\n",
              "Name: 학교까지_거리, dtype: float64"
            ]
          },
          "metadata": {
            "tags": []
          },
          "execution_count": 47
        }
      ]
    },
    {
      "cell_type": "code",
      "metadata": {
        "colab": {
          "base_uri": "https://localhost:8080/",
          "height": 277
        },
        "id": "OjJkriidmhSC",
        "outputId": "f7ced634-ecc8-4a1f-e3ff-f64cbf549fcd"
      },
      "source": [
        "sns.distplot(df['보증금->월세']);"
      ],
      "execution_count": null,
      "outputs": [
        {
          "output_type": "display_data",
          "data": {
            "image/png": "[encoded data removed]",
            "text/plain": [
              "<Figure size 432x288 with 1 Axes>"
            ]
          },
          "metadata": {
            "tags": [],
            "needs_background": "light"
          }
        }
      ]
    },
    {
      "cell_type": "code",
      "metadata": {
        "colab": {
          "base_uri": "https://localhost:8080/",
          "height": 277
        },
        "id": "DuF7-QVYmmN4",
        "outputId": "29f80d6e-27c5-4cd8-d159-d9bf2e7a6a2b"
      },
      "source": [
        "sns.distplot(df['계약면적(㎡)']);"
      ],
      "execution_count": null,
      "outputs": [
        {
          "output_type": "display_data",
          "data": {
            "image/png": "[encoded data removed]",
            "text/plain": [
              "<Figure size 432x288 with 1 Axes>"
            ]
          },
          "metadata": {
            "tags": [],
            "needs_background": "light"
          }
        }
      ]
    },
    {
      "cell_type": "code",
      "metadata": {
        "colab": {
          "base_uri": "https://localhost:8080/",
          "height": 277
        },
        "id": "KVTtW3Q8p79k",
        "outputId": "f7e1e631-9f1a-4b03-c60e-2f5aa31c53d1"
      },
      "source": [
        "sns.distplot(df['학교까지_거리']);"
      ],
      "execution_count": null,
      "outputs": [
        {
          "output_type": "display_data",
          "data": {
            "image/png": "[encoded data removed]",
            "text/plain": [
              "<Figure size 432x288 with 1 Axes>"
            ]
          },
          "metadata": {
            "tags": [],
            "needs_background": "light"
          }
        }
      ]
    },
    {
      "cell_type": "code",
      "metadata": {
        "colab": {
          "base_uri": "https://localhost:8080/",
          "height": 277
        },
        "id": "ySgDdtvKnBzO",
        "outputId": "abd04818-f2ac-4420-969a-73b1298b9ef8"
      },
      "source": [
        "#scatter plot '공시가격'/'보증금->월세'\r\n",
        "var = '계약면적(㎡)'\r\n",
        "data = pd.concat([df['보증금->월세'], df[var]], axis=1)\r\n",
        "data.plot.scatter(x=var, y='보증금->월세', c=np.array([0, 0, 0]).reshape(1,-1));"
      ],
      "execution_count": null,
      "outputs": [
        {
          "output_type": "display_data",
          "data": {
            "image/png": "[encoded data removed]",
            "text/plain": [
              "<Figure size 432x288 with 1 Axes>"
            ]
          },
          "metadata": {
            "tags": [],
            "needs_background": "light"
          }
        }
      ]
    },
    {
      "cell_type": "code",
      "metadata": {
        "id": "qbb2UJm3DT-N"
      },
      "source": [
        "#deleting points\r\n",
        "df = df.drop(df[df['계약면적(㎡)'] > 150].index)"
      ],
      "execution_count": null,
      "outputs": []
    },
    {
      "cell_type": "code",
      "metadata": {
        "colab": {
          "base_uri": "https://localhost:8080/",
          "height": 277
        },
        "id": "P65IF2lZqBFt",
        "outputId": "83226ad4-2b0d-4514-d9b6-b3b41055f95a"
      },
      "source": [
        "#scatter plot '공시가격'/'보증금->월세'\r\n",
        "var = '학교까지_거리'\r\n",
        "data = pd.concat([df['보증금->월세'], df[var]], axis=1)\r\n",
        "data.plot.scatter(x=var, y='보증금->월세', c=np.array([0, 0, 0]).reshape(1,-1));"
      ],
      "execution_count": null,
      "outputs": [
        {
          "output_type": "display_data",
          "data": {
            "image/png": "[encoded data removed]",
            "text/plain": [
              "<Figure size 432x288 with 1 Axes>"
            ]
          },
          "metadata": {
            "tags": [],
            "needs_background": "light"
          }
        }
      ]
    },
    {
      "cell_type": "code",
      "metadata": {
        "colab": {
          "base_uri": "https://localhost:8080/",
          "height": 277
        },
        "id": "9V-tfzwnrOpq",
        "outputId": "fdb5418b-502d-468a-df71-00a951231490"
      },
      "source": [
        "#scatter plot '공시가격'/'보증금->월세'\r\n",
        "var = '혜화역까지_거리'\r\n",
        "data = pd.concat([df['보증금->월세'], df[var]], axis=1)\r\n",
        "data.plot.scatter(x=var, y='보증금->월세', c=np.array([0, 0, 0]).reshape(1,-1));"
      ],
      "execution_count": null,
      "outputs": [
        {
          "output_type": "display_data",
          "data": {
            "image/png": "[encoded data removed]",
            "text/plain": [
              "<Figure size 432x288 with 1 Axes>"
            ]
          },
          "metadata": {
            "tags": [],
            "needs_background": "light"
          }
        }
      ]
    },
    {
      "cell_type": "code",
      "metadata": {
        "id": "c09jn4X5DRNv"
      },
      "source": [
        "#deleting points\r\n",
        "df = df.drop(df[df['계약면적(㎡)'] > 150].index)"
      ],
      "execution_count": null,
      "outputs": []
    },
    {
      "cell_type": "code",
      "metadata": {
        "colab": {
          "base_uri": "https://localhost:8080/",
          "height": 277
        },
        "id": "vzcFGmW_rYR7",
        "outputId": "1ccd160b-0b52-4428-acd1-c58797b7e1cd"
      },
      "source": [
        "#scatter plot '공시가격'/'보증금->월세'\r\n",
        "var = '한성대역까지_거리'\r\n",
        "data = pd.concat([df['보증금->월세'], df[var]], axis=1)\r\n",
        "data.plot.scatter(x=var, y='보증금->월세', c=np.array([0, 0, 0]).reshape(1,-1));"
      ],
      "execution_count": null,
      "outputs": [
        {
          "output_type": "display_data",
          "data": {
            "image/png": "[encoded data removed]",
            "text/plain": [
              "<Figure size 432x288 with 1 Axes>"
            ]
          },
          "metadata": {
            "tags": [],
            "needs_background": "light"
          }
        }
      ]
    },
    {
      "cell_type": "code",
      "metadata": {
        "id": "2OtSL0z3nPky"
      },
      "source": [
        ""
      ],
      "execution_count": null,
      "outputs": []
    },
    {
      "cell_type": "markdown",
      "metadata": {
        "id": "ClkoI8N0ZT3D"
      },
      "source": [
        "#to_csv"
      ]
    },
    {
      "cell_type": "code",
      "metadata": {
        "id": "ThFA4X2GZX36"
      },
      "source": [
        "df.to_csv('/content/gdrive/My Drive/recommend_system/tracer/preprocessed_명륜1가_단독다가구(전월세)_실거래가_20191119_20201118_ex.csv', index=False, encoding='cp949')"
      ],
      "execution_count": null,
      "outputs": []
    },
    {
      "cell_type": "code",
      "metadata": {
        "id": "VYVClvqpn3oe"
      },
      "source": [
        ""
      ],
      "execution_count": null,
      "outputs": []
    }
  ]
}